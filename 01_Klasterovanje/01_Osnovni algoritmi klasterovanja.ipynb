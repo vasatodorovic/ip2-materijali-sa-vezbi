{
 "cells": [
  {
   "cell_type": "markdown",
   "id": "c1cda42f",
   "metadata": {},
   "source": [
    "# Klasterovanje - 1. čas"
   ]
  },
  {
   "cell_type": "markdown",
   "id": "f47e41ca",
   "metadata": {},
   "source": [
    "<b>Klasterovanje</b> (eng. <i>clustering</i>) je metoda u mašinskom učenju i statistici koja se koristi za grupisanje skupa podataka u podskupove ili <i>klastere</i>, čime su podaci unutar istog klastera međusobno sličniji nego podaci iz različitih klastera.\n",
    "\n",
    "Klasterovanje je <b>nenadgledana metoda učenja</b>, što znači da podaci nemaju unapred definisane oznake. Algoritmi klasterovanja pokušavaju da otkriju strukturu podataka i pronađu prirodne grupe u podacima bez prethodnog znanja o tim grupama. "
   ]
  },
  {
   "cell_type": "markdown",
   "id": "81a74f71",
   "metadata": {},
   "source": [
    "<img src=\"assets/klasterovanje_podela.jpeg\" alt=\"Alt tekst\" width=\"600\" height=\"450\"/>"
   ]
  },
  {
   "cell_type": "code",
   "execution_count": null,
   "id": "fd26918f",
   "metadata": {},
   "outputs": [],
   "source": []
  },
  {
   "cell_type": "code",
   "execution_count": 1,
   "id": "594c4a9d",
   "metadata": {},
   "outputs": [],
   "source": [
    "import pandas as pd\n",
    "import numpy as np\n",
    "from sklearn import metrics\n",
    "from sklearn import datasets"
   ]
  },
  {
   "cell_type": "code",
   "execution_count": 2,
   "id": "7f783815",
   "metadata": {},
   "outputs": [],
   "source": [
    "data = datasets.load_iris()"
   ]
  },
  {
   "cell_type": "code",
   "execution_count": 3,
   "id": "946ea075",
   "metadata": {},
   "outputs": [],
   "source": [
    "X = data.data\n",
    "y = data.target"
   ]
  },
  {
   "cell_type": "code",
   "execution_count": 4,
   "id": "3fe934e1",
   "metadata": {},
   "outputs": [],
   "source": [
    "feature_names = data.feature_names\n",
    "target_name = data.target_names"
   ]
  },
  {
   "cell_type": "code",
   "execution_count": 5,
   "id": "a07dfded",
   "metadata": {},
   "outputs": [
    {
     "name": "stdout",
     "output_type": "stream",
     "text": [
      "['sepal length (cm)', 'sepal width (cm)', 'petal length (cm)', 'petal width (cm)']\n"
     ]
    }
   ],
   "source": [
    "print(feature_names)"
   ]
  },
  {
   "cell_type": "code",
   "execution_count": 6,
   "id": "fdbee275",
   "metadata": {},
   "outputs": [
    {
     "name": "stdout",
     "output_type": "stream",
     "text": [
      "['setosa' 'versicolor' 'virginica']\n"
     ]
    }
   ],
   "source": [
    "print(target_name)"
   ]
  },
  {
   "cell_type": "code",
   "execution_count": 7,
   "id": "3c2a34d8",
   "metadata": {},
   "outputs": [
    {
     "data": {
      "text/html": [
       "<div>\n",
       "<style scoped>\n",
       "    .dataframe tbody tr th:only-of-type {\n",
       "        vertical-align: middle;\n",
       "    }\n",
       "\n",
       "    .dataframe tbody tr th {\n",
       "        vertical-align: top;\n",
       "    }\n",
       "\n",
       "    .dataframe thead th {\n",
       "        text-align: right;\n",
       "    }\n",
       "</style>\n",
       "<table border=\"1\" class=\"dataframe\">\n",
       "  <thead>\n",
       "    <tr style=\"text-align: right;\">\n",
       "      <th></th>\n",
       "      <th>sepal length (cm)</th>\n",
       "      <th>sepal width (cm)</th>\n",
       "      <th>petal length (cm)</th>\n",
       "      <th>petal width (cm)</th>\n",
       "    </tr>\n",
       "  </thead>\n",
       "  <tbody>\n",
       "    <tr>\n",
       "      <th>0</th>\n",
       "      <td>5.1</td>\n",
       "      <td>3.5</td>\n",
       "      <td>1.4</td>\n",
       "      <td>0.2</td>\n",
       "    </tr>\n",
       "    <tr>\n",
       "      <th>1</th>\n",
       "      <td>4.9</td>\n",
       "      <td>3.0</td>\n",
       "      <td>1.4</td>\n",
       "      <td>0.2</td>\n",
       "    </tr>\n",
       "    <tr>\n",
       "      <th>2</th>\n",
       "      <td>4.7</td>\n",
       "      <td>3.2</td>\n",
       "      <td>1.3</td>\n",
       "      <td>0.2</td>\n",
       "    </tr>\n",
       "    <tr>\n",
       "      <th>3</th>\n",
       "      <td>4.6</td>\n",
       "      <td>3.1</td>\n",
       "      <td>1.5</td>\n",
       "      <td>0.2</td>\n",
       "    </tr>\n",
       "    <tr>\n",
       "      <th>4</th>\n",
       "      <td>5.0</td>\n",
       "      <td>3.6</td>\n",
       "      <td>1.4</td>\n",
       "      <td>0.2</td>\n",
       "    </tr>\n",
       "    <tr>\n",
       "      <th>...</th>\n",
       "      <td>...</td>\n",
       "      <td>...</td>\n",
       "      <td>...</td>\n",
       "      <td>...</td>\n",
       "    </tr>\n",
       "    <tr>\n",
       "      <th>145</th>\n",
       "      <td>6.7</td>\n",
       "      <td>3.0</td>\n",
       "      <td>5.2</td>\n",
       "      <td>2.3</td>\n",
       "    </tr>\n",
       "    <tr>\n",
       "      <th>146</th>\n",
       "      <td>6.3</td>\n",
       "      <td>2.5</td>\n",
       "      <td>5.0</td>\n",
       "      <td>1.9</td>\n",
       "    </tr>\n",
       "    <tr>\n",
       "      <th>147</th>\n",
       "      <td>6.5</td>\n",
       "      <td>3.0</td>\n",
       "      <td>5.2</td>\n",
       "      <td>2.0</td>\n",
       "    </tr>\n",
       "    <tr>\n",
       "      <th>148</th>\n",
       "      <td>6.2</td>\n",
       "      <td>3.4</td>\n",
       "      <td>5.4</td>\n",
       "      <td>2.3</td>\n",
       "    </tr>\n",
       "    <tr>\n",
       "      <th>149</th>\n",
       "      <td>5.9</td>\n",
       "      <td>3.0</td>\n",
       "      <td>5.1</td>\n",
       "      <td>1.8</td>\n",
       "    </tr>\n",
       "  </tbody>\n",
       "</table>\n",
       "<p>150 rows × 4 columns</p>\n",
       "</div>"
      ],
      "text/plain": [
       "     sepal length (cm)  sepal width (cm)  petal length (cm)  petal width (cm)\n",
       "0                  5.1               3.5                1.4               0.2\n",
       "1                  4.9               3.0                1.4               0.2\n",
       "2                  4.7               3.2                1.3               0.2\n",
       "3                  4.6               3.1                1.5               0.2\n",
       "4                  5.0               3.6                1.4               0.2\n",
       "..                 ...               ...                ...               ...\n",
       "145                6.7               3.0                5.2               2.3\n",
       "146                6.3               2.5                5.0               1.9\n",
       "147                6.5               3.0                5.2               2.0\n",
       "148                6.2               3.4                5.4               2.3\n",
       "149                5.9               3.0                5.1               1.8\n",
       "\n",
       "[150 rows x 4 columns]"
      ]
     },
     "execution_count": 7,
     "metadata": {},
     "output_type": "execute_result"
    }
   ],
   "source": [
    "X = pd.DataFrame(data=X,columns=feature_names)\n",
    "X"
   ]
  },
  {
   "cell_type": "code",
   "execution_count": 8,
   "id": "695d1eb2",
   "metadata": {},
   "outputs": [
    {
     "data": {
      "text/html": [
       "<div>\n",
       "<style scoped>\n",
       "    .dataframe tbody tr th:only-of-type {\n",
       "        vertical-align: middle;\n",
       "    }\n",
       "\n",
       "    .dataframe tbody tr th {\n",
       "        vertical-align: top;\n",
       "    }\n",
       "\n",
       "    .dataframe thead th {\n",
       "        text-align: right;\n",
       "    }\n",
       "</style>\n",
       "<table border=\"1\" class=\"dataframe\">\n",
       "  <thead>\n",
       "    <tr style=\"text-align: right;\">\n",
       "      <th></th>\n",
       "      <th>sepal length (cm)</th>\n",
       "      <th>sepal width (cm)</th>\n",
       "      <th>petal length (cm)</th>\n",
       "      <th>petal width (cm)</th>\n",
       "    </tr>\n",
       "  </thead>\n",
       "  <tbody>\n",
       "    <tr>\n",
       "      <th>count</th>\n",
       "      <td>150.000000</td>\n",
       "      <td>150.000000</td>\n",
       "      <td>150.000000</td>\n",
       "      <td>150.000000</td>\n",
       "    </tr>\n",
       "    <tr>\n",
       "      <th>mean</th>\n",
       "      <td>5.843333</td>\n",
       "      <td>3.057333</td>\n",
       "      <td>3.758000</td>\n",
       "      <td>1.199333</td>\n",
       "    </tr>\n",
       "    <tr>\n",
       "      <th>std</th>\n",
       "      <td>0.828066</td>\n",
       "      <td>0.435866</td>\n",
       "      <td>1.765298</td>\n",
       "      <td>0.762238</td>\n",
       "    </tr>\n",
       "    <tr>\n",
       "      <th>min</th>\n",
       "      <td>4.300000</td>\n",
       "      <td>2.000000</td>\n",
       "      <td>1.000000</td>\n",
       "      <td>0.100000</td>\n",
       "    </tr>\n",
       "    <tr>\n",
       "      <th>25%</th>\n",
       "      <td>5.100000</td>\n",
       "      <td>2.800000</td>\n",
       "      <td>1.600000</td>\n",
       "      <td>0.300000</td>\n",
       "    </tr>\n",
       "    <tr>\n",
       "      <th>50%</th>\n",
       "      <td>5.800000</td>\n",
       "      <td>3.000000</td>\n",
       "      <td>4.350000</td>\n",
       "      <td>1.300000</td>\n",
       "    </tr>\n",
       "    <tr>\n",
       "      <th>75%</th>\n",
       "      <td>6.400000</td>\n",
       "      <td>3.300000</td>\n",
       "      <td>5.100000</td>\n",
       "      <td>1.800000</td>\n",
       "    </tr>\n",
       "    <tr>\n",
       "      <th>max</th>\n",
       "      <td>7.900000</td>\n",
       "      <td>4.400000</td>\n",
       "      <td>6.900000</td>\n",
       "      <td>2.500000</td>\n",
       "    </tr>\n",
       "  </tbody>\n",
       "</table>\n",
       "</div>"
      ],
      "text/plain": [
       "       sepal length (cm)  sepal width (cm)  petal length (cm)  \\\n",
       "count         150.000000        150.000000         150.000000   \n",
       "mean            5.843333          3.057333           3.758000   \n",
       "std             0.828066          0.435866           1.765298   \n",
       "min             4.300000          2.000000           1.000000   \n",
       "25%             5.100000          2.800000           1.600000   \n",
       "50%             5.800000          3.000000           4.350000   \n",
       "75%             6.400000          3.300000           5.100000   \n",
       "max             7.900000          4.400000           6.900000   \n",
       "\n",
       "       petal width (cm)  \n",
       "count        150.000000  \n",
       "mean           1.199333  \n",
       "std            0.762238  \n",
       "min            0.100000  \n",
       "25%            0.300000  \n",
       "50%            1.300000  \n",
       "75%            1.800000  \n",
       "max            2.500000  "
      ]
     },
     "execution_count": 8,
     "metadata": {},
     "output_type": "execute_result"
    }
   ],
   "source": [
    "X.describe()"
   ]
  },
  {
   "cell_type": "code",
   "execution_count": 9,
   "id": "742e90a0",
   "metadata": {},
   "outputs": [],
   "source": [
    "from sklearn.preprocessing import StandardScaler"
   ]
  },
  {
   "cell_type": "code",
   "execution_count": 10,
   "id": "36b07d57",
   "metadata": {},
   "outputs": [],
   "source": [
    "scaler = StandardScaler()\n",
    "scaler.fit(X)\n",
    "X = scaler.transform(X)"
   ]
  },
  {
   "cell_type": "code",
   "execution_count": 11,
   "id": "59c1c907",
   "metadata": {},
   "outputs": [],
   "source": [
    "from sklearn.decomposition import PCA"
   ]
  },
  {
   "cell_type": "code",
   "execution_count": 12,
   "id": "d3d16146",
   "metadata": {},
   "outputs": [],
   "source": [
    "from sklearn.cluster import KMeans, DBSCAN, AgglomerativeClustering, SpectralClustering\n",
    "from scipy.cluster.hierarchy import dendrogram"
   ]
  },
  {
   "cell_type": "code",
   "execution_count": 13,
   "id": "f4f8b432",
   "metadata": {},
   "outputs": [],
   "source": [
    "import matplotlib.pyplot as plt"
   ]
  },
  {
   "cell_type": "code",
   "execution_count": 14,
   "id": "a5d53145",
   "metadata": {},
   "outputs": [],
   "source": [
    "pca = PCA(n_components=2)\n",
    "pca.fit(X)\n",
    "X_pca = pca.transform(X)"
   ]
  },
  {
   "cell_type": "code",
   "execution_count": 15,
   "id": "cbca1cbc",
   "metadata": {},
   "outputs": [
    {
     "data": {
      "text/plain": [
       "<matplotlib.collections.PathCollection at 0x2255c6958a0>"
      ]
     },
     "execution_count": 15,
     "metadata": {},
     "output_type": "execute_result"
    },
    {
     "data": {
      "image/png": "[encoded data removed]",
      "text/plain": [
       "<Figure size 432x288 with 1 Axes>"
      ]
     },
     "metadata": {
      "needs_background": "light"
     },
     "output_type": "display_data"
    }
   ],
   "source": [
    "plt.scatter(X_pca[:,0],X_pca[:,1],c=y)"
   ]
  },
  {
   "cell_type": "markdown",
   "id": "9d2a637a",
   "metadata": {},
   "source": [
    "# Algoritmi klasterovanja zasnovani na centroidima"
   ]
  },
  {
   "cell_type": "markdown",
   "id": "f543538c",
   "metadata": {},
   "source": [
    "## KMeans"
   ]
  },
  {
   "cell_type": "code",
   "execution_count": 16,
   "id": "b3b8ca81",
   "metadata": {},
   "outputs": [
    {
     "data": {
      "text/html": [
       "\n",
       "<video width=\"640\" height=\"480\" controls>\n",
       "  <source src=\"assets/kmeans.mov\" type=\"video/mp4\">\n",
       "</video>\n"
      ],
      "text/plain": [
       "<IPython.core.display.HTML object>"
      ]
     },
     "execution_count": 16,
     "metadata": {},
     "output_type": "execute_result"
    }
   ],
   "source": [
    "from IPython.core.display import HTML\n",
    "HTML(\"\"\"\n",
    "<video width=\"640\" height=\"480\" controls>\n",
    "  <source src=\"assets/kmeans.mov\" type=\"video/mp4\">\n",
    "</video>\n",
    "\"\"\")"
   ]
  },
  {
   "cell_type": "code",
   "execution_count": 17,
   "id": "b62624e0",
   "metadata": {},
   "outputs": [],
   "source": [
    "km = KMeans(n_clusters=3,n_init=100, max_iter=500, init='random')"
   ]
  },
  {
   "cell_type": "code",
   "execution_count": 18,
   "id": "76644bea",
   "metadata": {},
   "outputs": [
    {
     "data": {
      "text/plain": [
       "KMeans(init='random', max_iter=500, n_clusters=3, n_init=100)"
      ]
     },
     "execution_count": 18,
     "metadata": {},
     "output_type": "execute_result"
    }
   ],
   "source": [
    "km.fit(X)"
   ]
  },
  {
   "cell_type": "code",
   "execution_count": 19,
   "id": "d899e449",
   "metadata": {},
   "outputs": [
    {
     "data": {
      "text/plain": [
       "array([[ 1.13597027,  0.08842168,  0.99615451,  1.01752612],\n",
       "       [-0.05021989, -0.88337647,  0.34773781,  0.2815273 ],\n",
       "       [-1.01457897,  0.85326268, -1.30498732, -1.25489349]])"
      ]
     },
     "execution_count": 19,
     "metadata": {},
     "output_type": "execute_result"
    }
   ],
   "source": [
    "km.cluster_centers_"
   ]
  },
  {
   "cell_type": "code",
   "execution_count": 20,
   "id": "39dbdb15",
   "metadata": {},
   "outputs": [
    {
     "data": {
      "text/plain": [
       "array([[ 1.72103664,  0.60288719],\n",
       "       [ 0.57262144, -0.80720888],\n",
       "       [-2.22475316,  0.28892745]])"
      ]
     },
     "execution_count": 20,
     "metadata": {},
     "output_type": "execute_result"
    }
   ],
   "source": [
    "centroids = pca.transform(km.cluster_centers_)\n",
    "centroids"
   ]
  },
  {
   "cell_type": "code",
   "execution_count": 21,
   "id": "6f60a195",
   "metadata": {},
   "outputs": [
    {
     "data": {
      "text/plain": [
       "<matplotlib.collections.PathCollection at 0x2256076c8b0>"
      ]
     },
     "execution_count": 21,
     "metadata": {},
     "output_type": "execute_result"
    },
    {
     "data": {
      "image/png": "[encoded data removed]",
      "text/plain": [
       "<Figure size 432x288 with 1 Axes>"
      ]
     },
     "metadata": {
      "needs_background": "light"
     },
     "output_type": "display_data"
    }
   ],
   "source": [
    "plt.scatter(X_pca[:,0],X_pca[:,1],c=km.labels_)\n",
    "plt.scatter(centroids[:,0],centroids[:,1],c='red')"
   ]
  },
  {
   "cell_type": "code",
   "execution_count": null,
   "id": "f19c1638",
   "metadata": {},
   "outputs": [],
   "source": []
  },
  {
   "cell_type": "markdown",
   "id": "f9c3909d",
   "metadata": {},
   "source": [
    "#### Silueta skor\n",
    "Za svaku instancu X:\n",
    "- A = izračunava se kao prosečna udaljenost od svih instanci iz klastera u kojem se nalazi instanca X.\n",
    "- B = izačunava se kao prosečna udaljenost od svih instanci iz najbližeg klastera klasteru u kojem se nalazi instanca X.\n",
    "- Silueta instance X se izačunava kao : $\\frac{(B-A)}{max(B,A)}$\n",
    "\n",
    "Ukupna silueta klasterovanja izračunava se kao prosečna vrednost silueti svih instanci.\n",
    "\n",
    "Ukoliko je za sve instance, vrednost B mnogo veća nego vrednost A, to bi značilo da je:\n",
    "- prosečna udaljenost velika između klastera u kojem se instanca nalazi i najbližeg njenog klastera\n",
    "- prosešna udaljenost između instanci iz istog klastera mala\n",
    "\n",
    "Iz čega se zaključuje da je ukupna silueta bliska 1, što znači da su podaci u istim klasterima mnogo sličniji nego onim u ostalim klasterima.\n",
    "\n",
    "Problem: kvadratna složenost izračunavanja u odnosu na broj instanci"
   ]
  },
  {
   "cell_type": "markdown",
   "id": "e1c5e14e",
   "metadata": {},
   "source": [
    "#### Odredivanje optimalnog broja klastera"
   ]
  },
  {
   "cell_type": "code",
   "execution_count": 22,
   "id": "40bba3c2",
   "metadata": {},
   "outputs": [],
   "source": [
    "silhouettes = []\n",
    "for n in range(2,10):\n",
    "    km = KMeans(n_clusters=n,n_init=100, max_iter=500, init='random')\n",
    "    km.fit(X)\n",
    "    s = metrics.silhouette_score(X, km.labels_, metric='euclidean')\n",
    "    silhouettes.append(s)"
   ]
  },
  {
   "cell_type": "code",
   "execution_count": 23,
   "id": "91879dc7",
   "metadata": {},
   "outputs": [
    {
     "data": {
      "text/plain": [
       "[0.5817500491982808,\n",
       " 0.45994823920518635,\n",
       " 0.38517417630641415,\n",
       " 0.34194697093163473,\n",
       " 0.3265618959264091,\n",
       " 0.3243840418247102,\n",
       " 0.33208055812411386,\n",
       " 0.35333938148826416]"
      ]
     },
     "execution_count": 23,
     "metadata": {},
     "output_type": "execute_result"
    }
   ],
   "source": [
    "silhouettes"
   ]
  },
  {
   "cell_type": "code",
   "execution_count": 24,
   "id": "4190f005",
   "metadata": {},
   "outputs": [
    {
     "data": {
      "text/plain": [
       "<StemContainer object of 3 artists>"
      ]
     },
     "execution_count": 24,
     "metadata": {},
     "output_type": "execute_result"
    },
    {
     "data": {
      "image/png": "[encoded data removed]",
      "text/plain": [
       "<Figure size 432x288 with 1 Axes>"
      ]
     },
     "metadata": {
      "needs_background": "light"
     },
     "output_type": "display_data"
    }
   ],
   "source": [
    "plt.stem(range(2,10),silhouettes)"
   ]
  },
  {
   "cell_type": "markdown",
   "id": "dffc4831",
   "metadata": {},
   "source": [
    "Optimalan broj klastera bi bio 2, ali znamo da se u nasim podacima nalaze 3 razlicite grupe podataka (posledica toga sto su Versicolor i Verginica jako slicne)"
   ]
  },
  {
   "cell_type": "markdown",
   "id": "728f585d",
   "metadata": {},
   "source": [
    "## KMeans++ vs KMeans"
   ]
  },
  {
   "cell_type": "markdown",
   "id": "ea5c6ec3",
   "metadata": {},
   "source": [
    "<img src=\"assets/kmeanspp.png\" alt=\"kmeans ++\" width=\"700\" height=\"500\"/>"
   ]
  },
  {
   "cell_type": "code",
   "execution_count": 166,
   "id": "4b995c1c",
   "metadata": {},
   "outputs": [],
   "source": [
    "#isprobati za male vrednosti n_init i max_iter \n",
    "km = KMeans(n_clusters=3,n_init=1, max_iter=10, init='random',random_state=2)\n",
    "kmpp= KMeans(n_clusters=3,n_init=1,max_iter=10,init='k-means++') #podrazumevano je k-means++"
   ]
  },
  {
   "cell_type": "code",
   "execution_count": 167,
   "id": "f0c4113b",
   "metadata": {},
   "outputs": [
    {
     "data": {
      "text/plain": [
       "KMeans(init='random', max_iter=10, n_clusters=3, n_init=1, random_state=2)"
      ]
     },
     "execution_count": 167,
     "metadata": {},
     "output_type": "execute_result"
    }
   ],
   "source": [
    "km.fit(X)"
   ]
  },
  {
   "cell_type": "code",
   "execution_count": 168,
   "id": "0b55b2df",
   "metadata": {},
   "outputs": [
    {
     "data": {
      "text/plain": [
       "KMeans(max_iter=10, n_clusters=3, n_init=1)"
      ]
     },
     "execution_count": 168,
     "metadata": {},
     "output_type": "execute_result"
    }
   ],
   "source": [
    "kmpp.fit(X)"
   ]
  },
  {
   "cell_type": "code",
   "execution_count": 169,
   "id": "ad28eb37",
   "metadata": {},
   "outputs": [],
   "source": [
    "km_centroids = pca.transform(km.cluster_centers_)"
   ]
  },
  {
   "cell_type": "code",
   "execution_count": 170,
   "id": "1e1a927d",
   "metadata": {},
   "outputs": [],
   "source": [
    "kmpp_centroids=pca.transform(kmpp.cluster_centers_)"
   ]
  },
  {
   "cell_type": "code",
   "execution_count": 171,
   "id": "3e940433",
   "metadata": {},
   "outputs": [
    {
     "data": {
      "text/plain": [
       "<matplotlib.collections.PathCollection at 0x2256392d4e0>"
      ]
     },
     "execution_count": 171,
     "metadata": {},
     "output_type": "execute_result"
    },
    {
     "data": {
      "image/png": "[encoded data removed]",
      "text/plain": [
       "<Figure size 432x288 with 1 Axes>"
      ]
     },
     "metadata": {
      "needs_background": "light"
     },
     "output_type": "display_data"
    }
   ],
   "source": [
    "plt.scatter(X_pca[:,0],X_pca[:,1],c=km.labels_)\n",
    "plt.scatter(km_centroids[:,0],km_centroids[:,1],c='red')"
   ]
  },
  {
   "cell_type": "code",
   "execution_count": 172,
   "id": "823b3aa5",
   "metadata": {},
   "outputs": [
    {
     "data": {
      "text/plain": [
       "<matplotlib.collections.PathCollection at 0x225639c5030>"
      ]
     },
     "execution_count": 172,
     "metadata": {},
     "output_type": "execute_result"
    },
    {
     "data": {
      "image/png": "[encoded data removed]",
      "text/plain": [
       "<Figure size 432x288 with 1 Axes>"
      ]
     },
     "metadata": {
      "needs_background": "light"
     },
     "output_type": "display_data"
    }
   ],
   "source": [
    "plt.scatter(X_pca[:,0],X_pca[:,1],c=kmpp.labels_)\n",
    "plt.scatter(kmpp_centroids[:,0],kmpp_centroids[:,1],c='red')"
   ]
  },
  {
   "cell_type": "markdown",
   "id": "2158adf7",
   "metadata": {},
   "source": [
    "Nedostatak KMeans algoritma je manja otpornost na elemente van granica. Algoritam koji je robusniji na elemente van granica je KMedoids"
   ]
  },
  {
   "cell_type": "code",
   "execution_count": 173,
   "id": "2e08a065",
   "metadata": {},
   "outputs": [],
   "source": [
    "#from sklearn_extra.cluster import KMedoids"
   ]
  },
  {
   "cell_type": "markdown",
   "id": "73b4c037",
   "metadata": {},
   "source": [
    "#### Calinski-Harabasz indeks (Variance Ratio Criterion)\n",
    "Izračunava se kao $\\frac{A}{B}$, gde je:\n",
    "- A = suma kvadriranih rastojanja izmedju svih centroida i centra celog dataseta\n",
    "- B = suma kvadriranih rastojanja izmedju instanci i njihovog pridruženog centroida klastera\n",
    "\n",
    "Vrednost A je mnogo veća od B:\n",
    "- Udaljenost centroida od centra dataseta je velika\n",
    "- Udaljenost između instanci i njihovih centroida je mala\n",
    "\n",
    "Iz čega se zaključuje da je Calinski-Harabasz indeks visok, što znači da su klasteri dobro razdvojeni, dok niže vrednosti mogu sugerisati da su klasteri blizu jedni drugima, što može izazvati sumnju u kvalitet klasterovanja\n",
    "\n",
    "Mnogo se brže izračunava nego Silueata, a ima istu intuiciju."
   ]
  },
  {
   "cell_type": "code",
   "execution_count": 174,
   "id": "e498fd82",
   "metadata": {},
   "outputs": [
    {
     "data": {
      "text/plain": [
       "157.36015312192248"
      ]
     },
     "execution_count": 174,
     "metadata": {},
     "output_type": "execute_result"
    }
   ],
   "source": [
    "metrics.calinski_harabasz_score(X, km.labels_)"
   ]
  },
  {
   "cell_type": "code",
   "execution_count": 175,
   "id": "f958e64d",
   "metadata": {},
   "outputs": [
    {
     "data": {
      "text/plain": [
       "241.42632349435513"
      ]
     },
     "execution_count": 175,
     "metadata": {},
     "output_type": "execute_result"
    }
   ],
   "source": [
    "metrics.calinski_harabasz_score(X, kmpp.labels_)"
   ]
  },
  {
   "cell_type": "code",
   "execution_count": null,
   "id": "952c7fab",
   "metadata": {},
   "outputs": [],
   "source": []
  },
  {
   "cell_type": "markdown",
   "id": "947fc5e4",
   "metadata": {},
   "source": [
    "# Algoritmi klasterovanja zasnovani na gustini"
   ]
  },
  {
   "cell_type": "markdown",
   "id": "36f3c0db",
   "metadata": {},
   "source": [
    "## DBSCAN"
   ]
  },
  {
   "cell_type": "markdown",
   "id": "f33ba125",
   "metadata": {},
   "source": [
    "![DBSCAN](assets/smile_dbscan.gif)"
   ]
  },
  {
   "cell_type": "code",
   "execution_count": 176,
   "id": "be82cfe1",
   "metadata": {},
   "outputs": [
    {
     "data": {
      "text/plain": [
       "DBSCAN(eps=0.7, min_samples=3)"
      ]
     },
     "execution_count": 176,
     "metadata": {},
     "output_type": "execute_result"
    }
   ],
   "source": [
    "# Testirati grid search za pronalaženje optimalnijih parametara\n",
    "db = DBSCAN(eps=0.7, min_samples=3)\n",
    "db.fit(X)"
   ]
  },
  {
   "cell_type": "code",
   "execution_count": 177,
   "id": "daab8b44",
   "metadata": {},
   "outputs": [
    {
     "data": {
      "image/png": "[encoded data removed]",
      "text/plain": [
       "<Figure size 432x288 with 1 Axes>"
      ]
     },
     "metadata": {
      "needs_background": "light"
     },
     "output_type": "display_data"
    }
   ],
   "source": [
    "# Tamne tačke označavaju elemente van granica\n",
    "_ = plt.scatter(X_pca[:, 0], X_pca[:, 1], c=db.labels_)"
   ]
  },
  {
   "cell_type": "markdown",
   "id": "cf75a456",
   "metadata": {},
   "source": [
    "#### DBCV - Density-Based Clustering Validation\n",
    "Problem Siluete i Calinski-Harabasz indeksa je ta što su uobičajeno visoki za konveksne i sferične klastere. Njihovo korišćenje nad klasterima proizvoljnog oblika, mogu dati pogrešne rezultate.\n",
    "\n",
    "\n",
    "Izračunava se pomoću sledeće dve vrednosti:\n",
    "- gustine unutar klastera\n",
    "- gustine između klastera\n",
    "\n",
    "Visoka gustina unutar klastera i niska gustina između klastera ukazuje na dobru razdvojenost klastera."
   ]
  },
  {
   "cell_type": "code",
   "execution_count": 180,
   "id": "20bfa52c",
   "metadata": {},
   "outputs": [],
   "source": [
    "#!python -m pip install \"git+https://github.com/FelSiq/DBCV\""
   ]
  },
  {
   "cell_type": "code",
   "execution_count": 182,
   "id": "8e2f0752",
   "metadata": {},
   "outputs": [],
   "source": [
    "#import dbcv"
   ]
  },
  {
   "cell_type": "markdown",
   "id": "bb0a6237",
   "metadata": {},
   "source": [
    "<img src=\"assets/silueta_mane.jpeg\" alt=\"Silueta vs DBCV\" width=\"700\" height=\"500\"/>"
   ]
  },
  {
   "cell_type": "markdown",
   "id": "71cc51e0",
   "metadata": {},
   "source": [
    "## DBSCAN++"
   ]
  },
  {
   "cell_type": "code",
   "execution_count": null,
   "id": "b0c545d5",
   "metadata": {},
   "outputs": [],
   "source": []
  },
  {
   "cell_type": "markdown",
   "id": "7a2bb610",
   "metadata": {},
   "source": [
    "## HDBSCAN"
   ]
  },
  {
   "cell_type": "code",
   "execution_count": null,
   "id": "e76d53c4",
   "metadata": {},
   "outputs": [],
   "source": []
  },
  {
   "cell_type": "markdown",
   "id": "dc4480f7",
   "metadata": {},
   "source": [
    "## OPTICS (Ordering Points To Identify Cluster Structure)"
   ]
  },
  {
   "cell_type": "code",
   "execution_count": 186,
   "id": "7fcd8104",
   "metadata": {},
   "outputs": [],
   "source": [
    "from sklearn.cluster import  OPTICS"
   ]
  },
  {
   "cell_type": "code",
   "execution_count": 187,
   "id": "95b83760",
   "metadata": {},
   "outputs": [],
   "source": [
    "op = OPTICS(min_samples=10, max_eps=float('inf'), xi=0.15)\n",
    "_ = op.fit(X)"
   ]
  },
  {
   "cell_type": "code",
   "execution_count": 188,
   "id": "e492aa29",
   "metadata": {},
   "outputs": [
    {
     "data": {
      "image/png": "[encoded data removed]",
      "text/plain": [
       "<Figure size 432x288 with 1 Axes>"
      ]
     },
     "metadata": {
      "needs_background": "light"
     },
     "output_type": "display_data"
    }
   ],
   "source": [
    "_ = plt.scatter(X_pca[:, 0], X_pca[:, 1], c=op.labels_)"
   ]
  },
  {
   "cell_type": "code",
   "execution_count": 190,
   "id": "b389cb23",
   "metadata": {},
   "outputs": [],
   "source": [
    "reachability = op.reachability_[op.ordering_]\n",
    "order = op.ordering_"
   ]
  },
  {
   "cell_type": "code",
   "execution_count": 195,
   "id": "2031323e",
   "metadata": {},
   "outputs": [
    {
     "data": {
      "text/plain": [
       "[<matplotlib.lines.Line2D at 0x22567db56c0>]"
      ]
     },
     "execution_count": 195,
     "metadata": {},
     "output_type": "execute_result"
    },
    {
     "data": {
      "image/png": "[encoded data removed]",
      "text/plain": [
       "<Figure size 432x288 with 1 Axes>"
      ]
     },
     "metadata": {
      "needs_background": "light"
     },
     "output_type": "display_data"
    }
   ],
   "source": [
    "plt.plot(range(len(reachability)),reachability,color='r',marker='o',markersize=3)"
   ]
  },
  {
   "cell_type": "code",
   "execution_count": null,
   "id": "ca40c2ae",
   "metadata": {},
   "outputs": [],
   "source": []
  },
  {
   "cell_type": "code",
   "execution_count": null,
   "id": "c6ca054f",
   "metadata": {},
   "outputs": [],
   "source": []
  },
  {
   "cell_type": "code",
   "execution_count": null,
   "id": "db80101d",
   "metadata": {},
   "outputs": [],
   "source": []
  },
  {
   "cell_type": "code",
   "execution_count": null,
   "id": "bb8e075f",
   "metadata": {},
   "outputs": [],
   "source": []
  },
  {
   "cell_type": "code",
   "execution_count": null,
   "id": "6b45266c",
   "metadata": {},
   "outputs": [],
   "source": []
  },
  {
   "cell_type": "code",
   "execution_count": null,
   "id": "3e3addd3",
   "metadata": {},
   "outputs": [],
   "source": []
  },
  {
   "cell_type": "code",
   "execution_count": null,
   "id": "898c4a53",
   "metadata": {},
   "outputs": [],
   "source": []
  },
  {
   "cell_type": "markdown",
   "id": "77c7f271",
   "metadata": {},
   "source": [
    "Korisni linkovi:\n",
    "\n",
    "https://www.dailydoseofds.com/dbscan-the-faster-and-scalable-alternative-to-dbscan-clustering/\n",
    "\n",
    "https://www.dailydoseofds.com/hdbscan-the-supercharged-version-of-dbscan-an-algorithmic-deep-dive/\n",
    "\n",
    "https://www.geeksforgeeks.org/ml-optics-clustering-explanation/\n"
   ]
  },
  {
   "cell_type": "code",
   "execution_count": null,
   "id": "d3b47bee",
   "metadata": {},
   "outputs": [],
   "source": []
  }
 ],
 "metadata": {
  "kernelspec": {
   "display_name": "Python 3 (ipykernel)",
   "language": "python",
   "name": "python3"
  },
  "language_info": {
   "codemirror_mode": {
    "name": "ipython",
    "version": 3
   },
   "file_extension": ".py",
   "mimetype": "text/x-python",
   "name": "python",
   "nbconvert_exporter": "python",
   "pygments_lexer": "ipython3",
   "version": "3.10.3"
  }
 },
 "nbformat": 4,
 "nbformat_minor": 5
}
