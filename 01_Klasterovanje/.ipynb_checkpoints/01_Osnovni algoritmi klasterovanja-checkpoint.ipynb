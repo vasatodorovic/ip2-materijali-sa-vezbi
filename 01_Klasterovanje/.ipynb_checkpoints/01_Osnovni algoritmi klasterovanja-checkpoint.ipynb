{
 "cells": [
  {
   "cell_type": "markdown",
   "id": "f47e41ca",
   "metadata": {},
   "source": [
    "<b>Klasterovanje</b> (eng. <i>clustering</i>) je metoda u mašinskom učenju i statistici koja se koristi za grupisanje skupa podataka u podskupove ili <i>klastere</i>, čime su podaci unutar istog klastera međusobno sličniji nego podaci iz različitih klastera.\n",
    "\n",
    "Klasterovanje je <b>nenadgledana metoda učenja</b>, što znači da podaci nemaju unapred definisane oznake. Algoritmi klasterovanja pokušavaju da otkriju strukturu podataka i pronađu prirodne grupe u podacima bez prethodnog znanja o tim grupama. "
   ]
  },
  {
   "cell_type": "code",
   "execution_count": null,
   "id": "3b4b7b74",
   "metadata": {},
   "outputs": [],
   "source": []
  },
  {
   "cell_type": "markdown",
   "id": "81a74f71",
   "metadata": {},
   "source": [
    "<img src=\"assets/klasterovanje_podela.jpeg\" alt=\"Alt tekst\" width=\"600\" height=\"450\"/>"
   ]
  },
  {
   "cell_type": "code",
   "execution_count": null,
   "id": "fd26918f",
   "metadata": {},
   "outputs": [],
   "source": []
  },
  {
   "cell_type": "code",
   "execution_count": 1,
   "id": "594c4a9d",
   "metadata": {},
   "outputs": [],
   "source": [
    "import pandas as pd\n",
    "import numpy as np\n",
    "from sklearn import metrics"
   ]
  },
  {
   "cell_type": "code",
   "execution_count": 2,
   "id": "b567559c",
   "metadata": {},
   "outputs": [],
   "source": [
    "from sklearn import datasets"
   ]
  },
  {
   "cell_type": "code",
   "execution_count": 3,
   "id": "7f783815",
   "metadata": {},
   "outputs": [],
   "source": [
    "data = datasets.load_iris()"
   ]
  },
  {
   "cell_type": "code",
   "execution_count": 4,
   "id": "946ea075",
   "metadata": {},
   "outputs": [],
   "source": [
    "X = data.data\n",
    "y = data.target"
   ]
  },
  {
   "cell_type": "code",
   "execution_count": 5,
   "id": "3fe934e1",
   "metadata": {},
   "outputs": [],
   "source": [
    "feature_names = data.feature_names\n",
    "target_name = data.target_names"
   ]
  },
  {
   "cell_type": "code",
   "execution_count": 6,
   "id": "a07dfded",
   "metadata": {},
   "outputs": [
    {
     "data": {
      "text/plain": [
       "['sepal length (cm)',\n",
       " 'sepal width (cm)',\n",
       " 'petal length (cm)',\n",
       " 'petal width (cm)']"
      ]
     },
     "execution_count": 6,
     "metadata": {},
     "output_type": "execute_result"
    }
   ],
   "source": [
    "feature_names"
   ]
  },
  {
   "cell_type": "code",
   "execution_count": 7,
   "id": "fdbee275",
   "metadata": {},
   "outputs": [
    {
     "data": {
      "text/plain": [
       "array(['setosa', 'versicolor', 'virginica'], dtype='<U10')"
      ]
     },
     "execution_count": 7,
     "metadata": {},
     "output_type": "execute_result"
    }
   ],
   "source": [
    "target_name"
   ]
  },
  {
   "cell_type": "code",
   "execution_count": 8,
   "id": "3c2a34d8",
   "metadata": {},
   "outputs": [
    {
     "data": {
      "text/html": [
       "<div>\n",
       "<style scoped>\n",
       "    .dataframe tbody tr th:only-of-type {\n",
       "        vertical-align: middle;\n",
       "    }\n",
       "\n",
       "    .dataframe tbody tr th {\n",
       "        vertical-align: top;\n",
       "    }\n",
       "\n",
       "    .dataframe thead th {\n",
       "        text-align: right;\n",
       "    }\n",
       "</style>\n",
       "<table border=\"1\" class=\"dataframe\">\n",
       "  <thead>\n",
       "    <tr style=\"text-align: right;\">\n",
       "      <th></th>\n",
       "      <th>sepal length (cm)</th>\n",
       "      <th>sepal width (cm)</th>\n",
       "      <th>petal length (cm)</th>\n",
       "      <th>petal width (cm)</th>\n",
       "    </tr>\n",
       "  </thead>\n",
       "  <tbody>\n",
       "    <tr>\n",
       "      <th>0</th>\n",
       "      <td>5.1</td>\n",
       "      <td>3.5</td>\n",
       "      <td>1.4</td>\n",
       "      <td>0.2</td>\n",
       "    </tr>\n",
       "    <tr>\n",
       "      <th>1</th>\n",
       "      <td>4.9</td>\n",
       "      <td>3.0</td>\n",
       "      <td>1.4</td>\n",
       "      <td>0.2</td>\n",
       "    </tr>\n",
       "    <tr>\n",
       "      <th>2</th>\n",
       "      <td>4.7</td>\n",
       "      <td>3.2</td>\n",
       "      <td>1.3</td>\n",
       "      <td>0.2</td>\n",
       "    </tr>\n",
       "    <tr>\n",
       "      <th>3</th>\n",
       "      <td>4.6</td>\n",
       "      <td>3.1</td>\n",
       "      <td>1.5</td>\n",
       "      <td>0.2</td>\n",
       "    </tr>\n",
       "    <tr>\n",
       "      <th>4</th>\n",
       "      <td>5.0</td>\n",
       "      <td>3.6</td>\n",
       "      <td>1.4</td>\n",
       "      <td>0.2</td>\n",
       "    </tr>\n",
       "    <tr>\n",
       "      <th>...</th>\n",
       "      <td>...</td>\n",
       "      <td>...</td>\n",
       "      <td>...</td>\n",
       "      <td>...</td>\n",
       "    </tr>\n",
       "    <tr>\n",
       "      <th>145</th>\n",
       "      <td>6.7</td>\n",
       "      <td>3.0</td>\n",
       "      <td>5.2</td>\n",
       "      <td>2.3</td>\n",
       "    </tr>\n",
       "    <tr>\n",
       "      <th>146</th>\n",
       "      <td>6.3</td>\n",
       "      <td>2.5</td>\n",
       "      <td>5.0</td>\n",
       "      <td>1.9</td>\n",
       "    </tr>\n",
       "    <tr>\n",
       "      <th>147</th>\n",
       "      <td>6.5</td>\n",
       "      <td>3.0</td>\n",
       "      <td>5.2</td>\n",
       "      <td>2.0</td>\n",
       "    </tr>\n",
       "    <tr>\n",
       "      <th>148</th>\n",
       "      <td>6.2</td>\n",
       "      <td>3.4</td>\n",
       "      <td>5.4</td>\n",
       "      <td>2.3</td>\n",
       "    </tr>\n",
       "    <tr>\n",
       "      <th>149</th>\n",
       "      <td>5.9</td>\n",
       "      <td>3.0</td>\n",
       "      <td>5.1</td>\n",
       "      <td>1.8</td>\n",
       "    </tr>\n",
       "  </tbody>\n",
       "</table>\n",
       "<p>150 rows × 4 columns</p>\n",
       "</div>"
      ],
      "text/plain": [
       "     sepal length (cm)  sepal width (cm)  petal length (cm)  petal width (cm)\n",
       "0                  5.1               3.5                1.4               0.2\n",
       "1                  4.9               3.0                1.4               0.2\n",
       "2                  4.7               3.2                1.3               0.2\n",
       "3                  4.6               3.1                1.5               0.2\n",
       "4                  5.0               3.6                1.4               0.2\n",
       "..                 ...               ...                ...               ...\n",
       "145                6.7               3.0                5.2               2.3\n",
       "146                6.3               2.5                5.0               1.9\n",
       "147                6.5               3.0                5.2               2.0\n",
       "148                6.2               3.4                5.4               2.3\n",
       "149                5.9               3.0                5.1               1.8\n",
       "\n",
       "[150 rows x 4 columns]"
      ]
     },
     "execution_count": 8,
     "metadata": {},
     "output_type": "execute_result"
    }
   ],
   "source": [
    "X = pd.DataFrame(data=X,columns=feature_names)\n",
    "X"
   ]
  },
  {
   "cell_type": "code",
   "execution_count": 9,
   "id": "59c1c907",
   "metadata": {},
   "outputs": [
    {
     "data": {
      "text/html": [
       "<div>\n",
       "<style scoped>\n",
       "    .dataframe tbody tr th:only-of-type {\n",
       "        vertical-align: middle;\n",
       "    }\n",
       "\n",
       "    .dataframe tbody tr th {\n",
       "        vertical-align: top;\n",
       "    }\n",
       "\n",
       "    .dataframe thead th {\n",
       "        text-align: right;\n",
       "    }\n",
       "</style>\n",
       "<table border=\"1\" class=\"dataframe\">\n",
       "  <thead>\n",
       "    <tr style=\"text-align: right;\">\n",
       "      <th></th>\n",
       "      <th>sepal length (cm)</th>\n",
       "      <th>sepal width (cm)</th>\n",
       "    </tr>\n",
       "  </thead>\n",
       "  <tbody>\n",
       "    <tr>\n",
       "      <th>0</th>\n",
       "      <td>5.1</td>\n",
       "      <td>3.5</td>\n",
       "    </tr>\n",
       "    <tr>\n",
       "      <th>1</th>\n",
       "      <td>4.9</td>\n",
       "      <td>3.0</td>\n",
       "    </tr>\n",
       "    <tr>\n",
       "      <th>2</th>\n",
       "      <td>4.7</td>\n",
       "      <td>3.2</td>\n",
       "    </tr>\n",
       "    <tr>\n",
       "      <th>3</th>\n",
       "      <td>4.6</td>\n",
       "      <td>3.1</td>\n",
       "    </tr>\n",
       "    <tr>\n",
       "      <th>4</th>\n",
       "      <td>5.0</td>\n",
       "      <td>3.6</td>\n",
       "    </tr>\n",
       "    <tr>\n",
       "      <th>...</th>\n",
       "      <td>...</td>\n",
       "      <td>...</td>\n",
       "    </tr>\n",
       "    <tr>\n",
       "      <th>145</th>\n",
       "      <td>6.7</td>\n",
       "      <td>3.0</td>\n",
       "    </tr>\n",
       "    <tr>\n",
       "      <th>146</th>\n",
       "      <td>6.3</td>\n",
       "      <td>2.5</td>\n",
       "    </tr>\n",
       "    <tr>\n",
       "      <th>147</th>\n",
       "      <td>6.5</td>\n",
       "      <td>3.0</td>\n",
       "    </tr>\n",
       "    <tr>\n",
       "      <th>148</th>\n",
       "      <td>6.2</td>\n",
       "      <td>3.4</td>\n",
       "    </tr>\n",
       "    <tr>\n",
       "      <th>149</th>\n",
       "      <td>5.9</td>\n",
       "      <td>3.0</td>\n",
       "    </tr>\n",
       "  </tbody>\n",
       "</table>\n",
       "<p>150 rows × 2 columns</p>\n",
       "</div>"
      ],
      "text/plain": [
       "     sepal length (cm)  sepal width (cm)\n",
       "0                  5.1               3.5\n",
       "1                  4.9               3.0\n",
       "2                  4.7               3.2\n",
       "3                  4.6               3.1\n",
       "4                  5.0               3.6\n",
       "..                 ...               ...\n",
       "145                6.7               3.0\n",
       "146                6.3               2.5\n",
       "147                6.5               3.0\n",
       "148                6.2               3.4\n",
       "149                5.9               3.0\n",
       "\n",
       "[150 rows x 2 columns]"
      ]
     },
     "execution_count": 9,
     "metadata": {},
     "output_type": "execute_result"
    }
   ],
   "source": [
    "X.drop(labels=['petal length (cm)','petal width (cm)'],axis=1)"
   ]
  },
  {
   "cell_type": "markdown",
   "id": "cb2c36b1",
   "metadata": {},
   "source": [
    "##### Ose visedimenzionih nizova u numpy"
   ]
  },
  {
   "cell_type": "markdown",
   "id": "35d84e6e",
   "metadata": {},
   "source": [
    "![Moj primer slike](assets/axis.png)"
   ]
  },
  {
   "cell_type": "code",
   "execution_count": 10,
   "id": "d3d16146",
   "metadata": {},
   "outputs": [],
   "source": [
    "from sklearn.cluster import KMeans, DBSCAN, AgglomerativeClustering, SpectralClustering\n",
    "from scipy.cluster.hierarchy import dendrogram"
   ]
  },
  {
   "cell_type": "code",
   "execution_count": 11,
   "id": "f4f8b432",
   "metadata": {},
   "outputs": [],
   "source": [
    "import matplotlib.pyplot as plt"
   ]
  },
  {
   "cell_type": "code",
   "execution_count": 12,
   "id": "cbca1cbc",
   "metadata": {},
   "outputs": [
    {
     "data": {
      "text/plain": [
       "<matplotlib.collections.PathCollection at 0x281dd5b99f0>"
      ]
     },
     "execution_count": 12,
     "metadata": {},
     "output_type": "execute_result"
    },
    {
     "data": {
      "image/png": "[encoded data removed]",
      "text/plain": [
       "<Figure size 432x288 with 1 Axes>"
      ]
     },
     "metadata": {
      "needs_background": "light"
     },
     "output_type": "display_data"
    }
   ],
   "source": [
    "plt.scatter(X.iloc[:,0],X.iloc[:,1],c=y)"
   ]
  },
  {
   "cell_type": "code",
   "execution_count": 13,
   "id": "b62624e0",
   "metadata": {},
   "outputs": [],
   "source": [
    "km = KMeans(n_clusters=3,n_init=100, max_iter=500, init='random')"
   ]
  },
  {
   "cell_type": "code",
   "execution_count": 14,
   "id": "76644bea",
   "metadata": {},
   "outputs": [
    {
     "data": {
      "text/plain": [
       "KMeans(init='random', max_iter=500, n_clusters=3, n_init=100)"
      ]
     },
     "execution_count": 14,
     "metadata": {},
     "output_type": "execute_result"
    }
   ],
   "source": [
    "km.fit(X)"
   ]
  },
  {
   "cell_type": "code",
   "execution_count": 15,
   "id": "6f60a195",
   "metadata": {},
   "outputs": [
    {
     "data": {
      "text/plain": [
       "<matplotlib.collections.PathCollection at 0x281df6def80>"
      ]
     },
     "execution_count": 15,
     "metadata": {},
     "output_type": "execute_result"
    },
    {
     "data": {
      "image/png": "[encoded data removed]",
      "text/plain": [
       "<Figure size 432x288 with 1 Axes>"
      ]
     },
     "metadata": {
      "needs_background": "light"
     },
     "output_type": "display_data"
    }
   ],
   "source": [
    "plt.scatter(X.iloc[:,0],X.iloc[:,1],c=km.labels_)"
   ]
  },
  {
   "cell_type": "code",
   "execution_count": null,
   "id": "0ef8a6de",
   "metadata": {},
   "outputs": [],
   "source": []
  },
  {
   "cell_type": "markdown",
   "id": "f9c3909d",
   "metadata": {},
   "source": [
    "#### Silueta skor\n",
    "Za svaku instancu X:\n",
    "- A = izračunava se kao prosečna udaljenost od svih instanci iz klastera u kojem se nalazi instanca X.\n",
    "- B = izačunava se kao prosečna udaljenost od svih instanci iz najbližeg klastera klasteru u kojem se nalazi instanca X.\n",
    "- Silueta instance X se izačunava kao : $\\frac{(B-A)}{max(B,A)}$\n",
    "\n",
    "Ukupna silueta klasterovanja izračunava se kao prosečna vrednost silueti svih instanci.\n",
    "\n",
    "Ukoliko je za sve instance, vrednost B mnogo veća nego vrednost A, to bi značilo da je:\n",
    "- prosečna udaljenost velika između klastera u kojem se instanca nalazi i najbližeg njenog klastera\n",
    "- prosešna udaljenost između instanci iz istog klastera mala\n",
    "\n",
    "Iz čega se zaključuje da je ukupna silueta bliska 1, što znači da su klasteri dobro razdvojeni.\n",
    "\n",
    "Problem: kvadratna složenost izračunavanja u odnosu na broj instanci"
   ]
  },
  {
   "cell_type": "code",
   "execution_count": null,
   "id": "c7b8f67e",
   "metadata": {},
   "outputs": [],
   "source": []
  },
  {
   "cell_type": "markdown",
   "id": "73b4c037",
   "metadata": {},
   "source": [
    "#### Calinski-Harabasz indeks\n",
    "Izračunava se kao $\\frac{A}{B}$, gde je:\n",
    "- A = suma kvadriranih rastojanja izmedju svih centroida i centra celog dataseta\n",
    "- B = suma kvadriranih rastojanja izmedju instanci i njihovog pridruženog centroida klastera\n",
    "\n",
    "Vrednost A je mnogo veća od B:\n",
    "- Udaljenost centroida od centra dataseta je velika\n",
    "- Udaljenost između instanci i njihovih centroida je mala\n",
    "\n",
    "Iz čega se zaključuje da je Calinski-Harabasz indeks visok, što znači da su klasteri dobro razdvojeni\n",
    "\n",
    "Mnogo se brže izračunava nego Silueata, a ima istu intuiciju."
   ]
  },
  {
   "cell_type": "code",
   "execution_count": null,
   "id": "e498fd82",
   "metadata": {},
   "outputs": [],
   "source": []
  },
  {
   "cell_type": "markdown",
   "id": "cf75a456",
   "metadata": {},
   "source": [
    "#### DBCV - Density-Based Clustering Validation\n",
    "Problem Siluete i Calinski-Harabasz indeksa je ta što su uobičajeno visoki za konveksne i sferične klastere. Njihovo korišćenje nad klasterima proizvoljnog oblika, mogu dati pogrešne rezultate.\n",
    "\n",
    "\n",
    "Izračunava se pomoću sledeće dve vrednosti:\n",
    "- gustine unutar klastera\n",
    "- gustine između klastera\n",
    "\n",
    "Visoka gustina unutar klastera i niska gustina između klastera ukazuje na dobru razdvojenost klastera."
   ]
  },
  {
   "cell_type": "code",
   "execution_count": null,
   "id": "20bfa52c",
   "metadata": {},
   "outputs": [],
   "source": []
  },
  {
   "cell_type": "markdown",
   "id": "bb0a6237",
   "metadata": {},
   "source": [
    "<img src=\"assets/silueta_mane.jpeg\" alt=\"Silueta vs DBCV\" width=\"700\" height=\"500\"/>"
   ]
  },
  {
   "cell_type": "markdown",
   "id": "bf1b3cd1",
   "metadata": {},
   "source": [
    "### Prokletstvo dimenzionalnosti"
   ]
  },
  {
   "cell_type": "code",
   "execution_count": null,
   "id": "db80101d",
   "metadata": {},
   "outputs": [],
   "source": []
  }
 ],
 "metadata": {
  "kernelspec": {
   "display_name": "Python 3 (ipykernel)",
   "language": "python",
   "name": "python3"
  },
  "language_info": {
   "codemirror_mode": {
    "name": "ipython",
    "version": 3
   },
   "file_extension": ".py",
   "mimetype": "text/x-python",
   "name": "python",
   "nbconvert_exporter": "python",
   "pygments_lexer": "ipython3",
   "version": "3.10.3"
  }
 },
 "nbformat": 4,
 "nbformat_minor": 5
}
