{
  "nbformat": 4,
  "nbformat_minor": 0,
  "metadata": {
    "colab": {
      "provenance": []
    },
    "kernelspec": {
      "name": "python3",
      "display_name": "Python 3"
    },
    "language_info": {
      "name": "python"
    }
  },
  "cells": [
    {
      "cell_type": "code",
      "execution_count": 1,
      "metadata": {
        "id": "WMxVaEYzGpvt"
      },
      "outputs": [],
      "source": [
        "import pandas as pd\n",
        "import numpy as np\n",
        "import matplotlib.pyplot as plt"
      ]
    },
    {
      "cell_type": "code",
      "source": [
        "from sklearn.datasets import load_wine"
      ],
      "metadata": {
        "id": "54dhG-b0G3XJ"
      },
      "execution_count": 2,
      "outputs": []
    },
    {
      "cell_type": "code",
      "source": [
        "wine_data = load_wine()"
      ],
      "metadata": {
        "id": "QZTB37XDG9ji"
      },
      "execution_count": 3,
      "outputs": []
    },
    {
      "cell_type": "code",
      "source": [
        "df = pd.DataFrame(data=wine_data.data,columns=wine_data.feature_names)"
      ],
      "metadata": {
        "id": "75onE09YHDTQ"
      },
      "execution_count": 4,
      "outputs": []
    },
    {
      "cell_type": "code",
      "source": [
        "df['target'] = wine_data.target"
      ],
      "metadata": {
        "id": "vcHJdfmdHR6x"
      },
      "execution_count": 5,
      "outputs": []
    },
    {
      "cell_type": "code",
      "source": [
        "df.head()"
      ],
      "metadata": {
        "colab": {
          "base_uri": "https://localhost:8080/",
          "height": 226
        },
        "id": "8CthD_VPHZB4",
        "outputId": "756cba96-9e47-4886-e89d-52cb145a7346"
      },
      "execution_count": 6,
      "outputs": [
        {
          "output_type": "execute_result",
          "data": {
            "text/plain": [
              "   alcohol  malic_acid   ash  alcalinity_of_ash  magnesium  total_phenols  \\\n",
              "0    14.23        1.71  2.43               15.6      127.0           2.80   \n",
              "1    13.20        1.78  2.14               11.2      100.0           2.65   \n",
              "2    13.16        2.36  2.67               18.6      101.0           2.80   \n",
              "3    14.37        1.95  2.50               16.8      113.0           3.85   \n",
              "4    13.24        2.59  2.87               21.0      118.0           2.80   \n",
              "\n",
              "   flavanoids  nonflavanoid_phenols  proanthocyanins  color_intensity   hue  \\\n",
              "0        3.06                  0.28             2.29             5.64  1.04   \n",
              "1        2.76                  0.26             1.28             4.38  1.05   \n",
              "2        3.24                  0.30             2.81             5.68  1.03   \n",
              "3        3.49                  0.24             2.18             7.80  0.86   \n",
              "4        2.69                  0.39             1.82             4.32  1.04   \n",
              "\n",
              "   od280/od315_of_diluted_wines  proline  target  \n",
              "0                          3.92   1065.0       0  \n",
              "1                          3.40   1050.0       0  \n",
              "2                          3.17   1185.0       0  \n",
              "3                          3.45   1480.0       0  \n",
              "4                          2.93    735.0       0  "
            ],
            "text/html": [
              "\n",
              "  <div id=\"df-dac06647-38db-4f50-9434-dfd76bb7a700\" class=\"colab-df-container\">\n",
              "    <div>\n",
              "<style scoped>\n",
              "    .dataframe tbody tr th:only-of-type {\n",
              "        vertical-align: middle;\n",
              "    }\n",
              "\n",
              "    .dataframe tbody tr th {\n",
              "        vertical-align: top;\n",
              "    }\n",
              "\n",
              "    .dataframe thead th {\n",
              "        text-align: right;\n",
              "    }\n",
              "</style>\n",
              "<table border=\"1\" class=\"dataframe\">\n",
              "  <thead>\n",
              "    <tr style=\"text-align: right;\">\n",
              "      <th></th>\n",
              "      <th>alcohol</th>\n",
              "      <th>malic_acid</th>\n",
              "      <th>ash</th>\n",
              "      <th>alcalinity_of_ash</th>\n",
              "      <th>magnesium</th>\n",
              "      <th>total_phenols</th>\n",
              "      <th>flavanoids</th>\n",
              "      <th>nonflavanoid_phenols</th>\n",
              "      <th>proanthocyanins</th>\n",
              "      <th>color_intensity</th>\n",
              "      <th>hue</th>\n",
              "      <th>od280/od315_of_diluted_wines</th>\n",
              "      <th>proline</th>\n",
              "      <th>target</th>\n",
              "    </tr>\n",
              "  </thead>\n",
              "  <tbody>\n",
              "    <tr>\n",
              "      <th>0</th>\n",
              "      <td>14.23</td>\n",
              "      <td>1.71</td>\n",
              "      <td>2.43</td>\n",
              "      <td>15.6</td>\n",
              "      <td>127.0</td>\n",
              "      <td>2.80</td>\n",
              "      <td>3.06</td>\n",
              "      <td>0.28</td>\n",
              "      <td>2.29</td>\n",
              "      <td>5.64</td>\n",
              "      <td>1.04</td>\n",
              "      <td>3.92</td>\n",
              "      <td>1065.0</td>\n",
              "      <td>0</td>\n",
              "    </tr>\n",
              "    <tr>\n",
              "      <th>1</th>\n",
              "      <td>13.20</td>\n",
              "      <td>1.78</td>\n",
              "      <td>2.14</td>\n",
              "      <td>11.2</td>\n",
              "      <td>100.0</td>\n",
              "      <td>2.65</td>\n",
              "      <td>2.76</td>\n",
              "      <td>0.26</td>\n",
              "      <td>1.28</td>\n",
              "      <td>4.38</td>\n",
              "      <td>1.05</td>\n",
              "      <td>3.40</td>\n",
              "      <td>1050.0</td>\n",
              "      <td>0</td>\n",
              "    </tr>\n",
              "    <tr>\n",
              "      <th>2</th>\n",
              "      <td>13.16</td>\n",
              "      <td>2.36</td>\n",
              "      <td>2.67</td>\n",
              "      <td>18.6</td>\n",
              "      <td>101.0</td>\n",
              "      <td>2.80</td>\n",
              "      <td>3.24</td>\n",
              "      <td>0.30</td>\n",
              "      <td>2.81</td>\n",
              "      <td>5.68</td>\n",
              "      <td>1.03</td>\n",
              "      <td>3.17</td>\n",
              "      <td>1185.0</td>\n",
              "      <td>0</td>\n",
              "    </tr>\n",
              "    <tr>\n",
              "      <th>3</th>\n",
              "      <td>14.37</td>\n",
              "      <td>1.95</td>\n",
              "      <td>2.50</td>\n",
              "      <td>16.8</td>\n",
              "      <td>113.0</td>\n",
              "      <td>3.85</td>\n",
              "      <td>3.49</td>\n",
              "      <td>0.24</td>\n",
              "      <td>2.18</td>\n",
              "      <td>7.80</td>\n",
              "      <td>0.86</td>\n",
              "      <td>3.45</td>\n",
              "      <td>1480.0</td>\n",
              "      <td>0</td>\n",
              "    </tr>\n",
              "    <tr>\n",
              "      <th>4</th>\n",
              "      <td>13.24</td>\n",
              "      <td>2.59</td>\n",
              "      <td>2.87</td>\n",
              "      <td>21.0</td>\n",
              "      <td>118.0</td>\n",
              "      <td>2.80</td>\n",
              "      <td>2.69</td>\n",
              "      <td>0.39</td>\n",
              "      <td>1.82</td>\n",
              "      <td>4.32</td>\n",
              "      <td>1.04</td>\n",
              "      <td>2.93</td>\n",
              "      <td>735.0</td>\n",
              "      <td>0</td>\n",
              "    </tr>\n",
              "  </tbody>\n",
              "</table>\n",
              "</div>\n",
              "    <div class=\"colab-df-buttons\">\n",
              "\n",
              "  <div class=\"colab-df-container\">\n",
              "    <button class=\"colab-df-convert\" onclick=\"convertToInteractive('df-dac06647-38db-4f50-9434-dfd76bb7a700')\"\n",
              "            title=\"Convert this dataframe to an interactive table.\"\n",
              "            style=\"display:none;\">\n",
              "\n",
              "  <svg xmlns=\"http://www.w3.org/2000/svg\" height=\"24px\" viewBox=\"0 -960 960 960\">\n",
              "    <path d=\"M120-120v-720h720v720H120Zm60-500h600v-160H180v160Zm220 220h160v-160H400v160Zm0 220h160v-160H400v160ZM180-400h160v-160H180v160Zm440 0h160v-160H620v160ZM180-180h160v-160H180v160Zm440 0h160v-160H620v160Z\"/>\n",
              "  </svg>\n",
              "    </button>\n",
              "\n",
              "  <style>\n",
              "    .colab-df-container {\n",
              "      display:flex;\n",
              "      gap: 12px;\n",
              "    }\n",
              "\n",
              "    .colab-df-convert {\n",
              "      background-color: #E8F0FE;\n",
              "      border: none;\n",
              "      border-radius: 50%;\n",
              "      cursor: pointer;\n",
              "      display: none;\n",
              "      fill: #1967D2;\n",
              "      height: 32px;\n",
              "      padding: 0 0 0 0;\n",
              "      width: 32px;\n",
              "    }\n",
              "\n",
              "    .colab-df-convert:hover {\n",
              "      background-color: #E2EBFA;\n",
              "      box-shadow: 0px 1px 2px rgba(60, 64, 67, 0.3), 0px 1px 3px 1px rgba(60, 64, 67, 0.15);\n",
              "      fill: #174EA6;\n",
              "    }\n",
              "\n",
              "    .colab-df-buttons div {\n",
              "      margin-bottom: 4px;\n",
              "    }\n",
              "\n",
              "    [theme=dark] .colab-df-convert {\n",
              "      background-color: #3B4455;\n",
              "      fill: #D2E3FC;\n",
              "    }\n",
              "\n",
              "    [theme=dark] .colab-df-convert:hover {\n",
              "      background-color: #434B5C;\n",
              "      box-shadow: 0px 1px 3px 1px rgba(0, 0, 0, 0.15);\n",
              "      filter: drop-shadow(0px 1px 2px rgba(0, 0, 0, 0.3));\n",
              "      fill: #FFFFFF;\n",
              "    }\n",
              "  </style>\n",
              "\n",
              "    <script>\n",
              "      const buttonEl =\n",
              "        document.querySelector('#df-dac06647-38db-4f50-9434-dfd76bb7a700 button.colab-df-convert');\n",
              "      buttonEl.style.display =\n",
              "        google.colab.kernel.accessAllowed ? 'block' : 'none';\n",
              "\n",
              "      async function convertToInteractive(key) {\n",
              "        const element = document.querySelector('#df-dac06647-38db-4f50-9434-dfd76bb7a700');\n",
              "        const dataTable =\n",
              "          await google.colab.kernel.invokeFunction('convertToInteractive',\n",
              "                                                    [key], {});\n",
              "        if (!dataTable) return;\n",
              "\n",
              "        const docLinkHtml = 'Like what you see? Visit the ' +\n",
              "          '<a target=\"_blank\" href=https://colab.research.google.com/notebooks/data_table.ipynb>data table notebook</a>'\n",
              "          + ' to learn more about interactive tables.';\n",
              "        element.innerHTML = '';\n",
              "        dataTable['output_type'] = 'display_data';\n",
              "        await google.colab.output.renderOutput(dataTable, element);\n",
              "        const docLink = document.createElement('div');\n",
              "        docLink.innerHTML = docLinkHtml;\n",
              "        element.appendChild(docLink);\n",
              "      }\n",
              "    </script>\n",
              "  </div>\n",
              "\n",
              "\n",
              "<div id=\"df-dd82b37a-0e91-4283-b888-55ea2c9a23dd\">\n",
              "  <button class=\"colab-df-quickchart\" onclick=\"quickchart('df-dd82b37a-0e91-4283-b888-55ea2c9a23dd')\"\n",
              "            title=\"Suggest charts\"\n",
              "            style=\"display:none;\">\n",
              "\n",
              "<svg xmlns=\"http://www.w3.org/2000/svg\" height=\"24px\"viewBox=\"0 0 24 24\"\n",
              "     width=\"24px\">\n",
              "    <g>\n",
              "        <path d=\"M19 3H5c-1.1 0-2 .9-2 2v14c0 1.1.9 2 2 2h14c1.1 0 2-.9 2-2V5c0-1.1-.9-2-2-2zM9 17H7v-7h2v7zm4 0h-2V7h2v10zm4 0h-2v-4h2v4z\"/>\n",
              "    </g>\n",
              "</svg>\n",
              "  </button>\n",
              "\n",
              "<style>\n",
              "  .colab-df-quickchart {\n",
              "      --bg-color: #E8F0FE;\n",
              "      --fill-color: #1967D2;\n",
              "      --hover-bg-color: #E2EBFA;\n",
              "      --hover-fill-color: #174EA6;\n",
              "      --disabled-fill-color: #AAA;\n",
              "      --disabled-bg-color: #DDD;\n",
              "  }\n",
              "\n",
              "  [theme=dark] .colab-df-quickchart {\n",
              "      --bg-color: #3B4455;\n",
              "      --fill-color: #D2E3FC;\n",
              "      --hover-bg-color: #434B5C;\n",
              "      --hover-fill-color: #FFFFFF;\n",
              "      --disabled-bg-color: #3B4455;\n",
              "      --disabled-fill-color: #666;\n",
              "  }\n",
              "\n",
              "  .colab-df-quickchart {\n",
              "    background-color: var(--bg-color);\n",
              "    border: none;\n",
              "    border-radius: 50%;\n",
              "    cursor: pointer;\n",
              "    display: none;\n",
              "    fill: var(--fill-color);\n",
              "    height: 32px;\n",
              "    padding: 0;\n",
              "    width: 32px;\n",
              "  }\n",
              "\n",
              "  .colab-df-quickchart:hover {\n",
              "    background-color: var(--hover-bg-color);\n",
              "    box-shadow: 0 1px 2px rgba(60, 64, 67, 0.3), 0 1px 3px 1px rgba(60, 64, 67, 0.15);\n",
              "    fill: var(--button-hover-fill-color);\n",
              "  }\n",
              "\n",
              "  .colab-df-quickchart-complete:disabled,\n",
              "  .colab-df-quickchart-complete:disabled:hover {\n",
              "    background-color: var(--disabled-bg-color);\n",
              "    fill: var(--disabled-fill-color);\n",
              "    box-shadow: none;\n",
              "  }\n",
              "\n",
              "  .colab-df-spinner {\n",
              "    border: 2px solid var(--fill-color);\n",
              "    border-color: transparent;\n",
              "    border-bottom-color: var(--fill-color);\n",
              "    animation:\n",
              "      spin 1s steps(1) infinite;\n",
              "  }\n",
              "\n",
              "  @keyframes spin {\n",
              "    0% {\n",
              "      border-color: transparent;\n",
              "      border-bottom-color: var(--fill-color);\n",
              "      border-left-color: var(--fill-color);\n",
              "    }\n",
              "    20% {\n",
              "      border-color: transparent;\n",
              "      border-left-color: var(--fill-color);\n",
              "      border-top-color: var(--fill-color);\n",
              "    }\n",
              "    30% {\n",
              "      border-color: transparent;\n",
              "      border-left-color: var(--fill-color);\n",
              "      border-top-color: var(--fill-color);\n",
              "      border-right-color: var(--fill-color);\n",
              "    }\n",
              "    40% {\n",
              "      border-color: transparent;\n",
              "      border-right-color: var(--fill-color);\n",
              "      border-top-color: var(--fill-color);\n",
              "    }\n",
              "    60% {\n",
              "      border-color: transparent;\n",
              "      border-right-color: var(--fill-color);\n",
              "    }\n",
              "    80% {\n",
              "      border-color: transparent;\n",
              "      border-right-color: var(--fill-color);\n",
              "      border-bottom-color: var(--fill-color);\n",
              "    }\n",
              "    90% {\n",
              "      border-color: transparent;\n",
              "      border-bottom-color: var(--fill-color);\n",
              "    }\n",
              "  }\n",
              "</style>\n",
              "\n",
              "  <script>\n",
              "    async function quickchart(key) {\n",
              "      const quickchartButtonEl =\n",
              "        document.querySelector('#' + key + ' button');\n",
              "      quickchartButtonEl.disabled = true;  // To prevent multiple clicks.\n",
              "      quickchartButtonEl.classList.add('colab-df-spinner');\n",
              "      try {\n",
              "        const charts = await google.colab.kernel.invokeFunction(\n",
              "            'suggestCharts', [key], {});\n",
              "      } catch (error) {\n",
              "        console.error('Error during call to suggestCharts:', error);\n",
              "      }\n",
              "      quickchartButtonEl.classList.remove('colab-df-spinner');\n",
              "      quickchartButtonEl.classList.add('colab-df-quickchart-complete');\n",
              "    }\n",
              "    (() => {\n",
              "      let quickchartButtonEl =\n",
              "        document.querySelector('#df-dd82b37a-0e91-4283-b888-55ea2c9a23dd button');\n",
              "      quickchartButtonEl.style.display =\n",
              "        google.colab.kernel.accessAllowed ? 'block' : 'none';\n",
              "    })();\n",
              "  </script>\n",
              "</div>\n",
              "    </div>\n",
              "  </div>\n"
            ],
            "application/vnd.google.colaboratory.intrinsic+json": {
              "type": "dataframe",
              "variable_name": "df",
              "summary": "{\n  \"name\": \"df\",\n  \"rows\": 178,\n  \"fields\": [\n    {\n      \"column\": \"alcohol\",\n      \"properties\": {\n        \"dtype\": \"number\",\n        \"std\": 0.8118265380058577,\n        \"min\": 11.03,\n        \"max\": 14.83,\n        \"num_unique_values\": 126,\n        \"samples\": [\n          11.62,\n          13.64,\n          13.69\n        ],\n        \"semantic_type\": \"\",\n        \"description\": \"\"\n      }\n    },\n    {\n      \"column\": \"malic_acid\",\n      \"properties\": {\n        \"dtype\": \"number\",\n        \"std\": 1.1171460976144627,\n        \"min\": 0.74,\n        \"max\": 5.8,\n        \"num_unique_values\": 133,\n        \"samples\": [\n          1.21,\n          2.83,\n          1.8\n        ],\n        \"semantic_type\": \"\",\n        \"description\": \"\"\n      }\n    },\n    {\n      \"column\": \"ash\",\n      \"properties\": {\n        \"dtype\": \"number\",\n        \"std\": 0.2743440090608148,\n        \"min\": 1.36,\n        \"max\": 3.23,\n        \"num_unique_values\": 79,\n        \"samples\": [\n          2.31,\n          2.43,\n          2.52\n        ],\n        \"semantic_type\": \"\",\n        \"description\": \"\"\n      }\n    },\n    {\n      \"column\": \"alcalinity_of_ash\",\n      \"properties\": {\n        \"dtype\": \"number\",\n        \"std\": 3.3395637671735052,\n        \"min\": 10.6,\n        \"max\": 30.0,\n        \"num_unique_values\": 63,\n        \"samples\": [\n          25.5,\n          28.5,\n          15.6\n        ],\n        \"semantic_type\": \"\",\n        \"description\": \"\"\n      }\n    },\n    {\n      \"column\": \"magnesium\",\n      \"properties\": {\n        \"dtype\": \"number\",\n        \"std\": 14.282483515295668,\n        \"min\": 70.0,\n        \"max\": 162.0,\n        \"num_unique_values\": 53,\n        \"samples\": [\n          126.0,\n          85.0,\n          162.0\n        ],\n        \"semantic_type\": \"\",\n        \"description\": \"\"\n      }\n    },\n    {\n      \"column\": \"total_phenols\",\n      \"properties\": {\n        \"dtype\": \"number\",\n        \"std\": 0.6258510488339891,\n        \"min\": 0.98,\n        \"max\": 3.88,\n        \"num_unique_values\": 97,\n        \"samples\": [\n          1.68,\n          2.11,\n          1.35\n        ],\n        \"semantic_type\": \"\",\n        \"description\": \"\"\n      }\n    },\n    {\n      \"column\": \"flavanoids\",\n      \"properties\": {\n        \"dtype\": \"number\",\n        \"std\": 0.9988586850169465,\n        \"min\": 0.34,\n        \"max\": 5.08,\n        \"num_unique_values\": 132,\n        \"samples\": [\n          3.18,\n          2.5,\n          3.17\n        ],\n        \"semantic_type\": \"\",\n        \"description\": \"\"\n      }\n    },\n    {\n      \"column\": \"nonflavanoid_phenols\",\n      \"properties\": {\n        \"dtype\": \"number\",\n        \"std\": 0.12445334029667939,\n        \"min\": 0.13,\n        \"max\": 0.66,\n        \"num_unique_values\": 39,\n        \"samples\": [\n          0.58,\n          0.41,\n          0.39\n        ],\n        \"semantic_type\": \"\",\n        \"description\": \"\"\n      }\n    },\n    {\n      \"column\": \"proanthocyanins\",\n      \"properties\": {\n        \"dtype\": \"number\",\n        \"std\": 0.5723588626747611,\n        \"min\": 0.41,\n        \"max\": 3.58,\n        \"num_unique_values\": 101,\n        \"samples\": [\n          0.75,\n          1.77,\n          1.42\n        ],\n        \"semantic_type\": \"\",\n        \"description\": \"\"\n      }\n    },\n    {\n      \"column\": \"color_intensity\",\n      \"properties\": {\n        \"dtype\": \"number\",\n        \"std\": 2.318285871822413,\n        \"min\": 1.28,\n        \"max\": 13.0,\n        \"num_unique_values\": 132,\n        \"samples\": [\n          2.95,\n          3.3,\n          5.1\n        ],\n        \"semantic_type\": \"\",\n        \"description\": \"\"\n      }\n    },\n    {\n      \"column\": \"hue\",\n      \"properties\": {\n        \"dtype\": \"number\",\n        \"std\": 0.22857156582982338,\n        \"min\": 0.48,\n        \"max\": 1.71,\n        \"num_unique_values\": 78,\n        \"samples\": [\n          1.22,\n          1.04,\n          1.45\n        ],\n        \"semantic_type\": \"\",\n        \"description\": \"\"\n      }\n    },\n    {\n      \"column\": \"od280/od315_of_diluted_wines\",\n      \"properties\": {\n        \"dtype\": \"number\",\n        \"std\": 0.7099904287650505,\n        \"min\": 1.27,\n        \"max\": 4.0,\n        \"num_unique_values\": 122,\n        \"samples\": [\n          4.0,\n          1.82,\n          1.59\n        ],\n        \"semantic_type\": \"\",\n        \"description\": \"\"\n      }\n    },\n    {\n      \"column\": \"proline\",\n      \"properties\": {\n        \"dtype\": \"number\",\n        \"std\": 314.9074742768489,\n        \"min\": 278.0,\n        \"max\": 1680.0,\n        \"num_unique_values\": 121,\n        \"samples\": [\n          1375.0,\n          1270.0,\n          735.0\n        ],\n        \"semantic_type\": \"\",\n        \"description\": \"\"\n      }\n    },\n    {\n      \"column\": \"target\",\n      \"properties\": {\n        \"dtype\": \"number\",\n        \"std\": 0,\n        \"min\": 0,\n        \"max\": 2,\n        \"num_unique_values\": 3,\n        \"samples\": [\n          0,\n          1,\n          2\n        ],\n        \"semantic_type\": \"\",\n        \"description\": \"\"\n      }\n    }\n  ]\n}"
            }
          },
          "metadata": {},
          "execution_count": 6
        }
      ]
    },
    {
      "cell_type": "code",
      "source": [
        "df['target'].value_counts().sort_index()"
      ],
      "metadata": {
        "colab": {
          "base_uri": "https://localhost:8080/",
          "height": 209
        },
        "id": "RnrQDUIuHsZ1",
        "outputId": "a2028bb2-6100-4170-c3cc-600d2118104e"
      },
      "execution_count": 7,
      "outputs": [
        {
          "output_type": "execute_result",
          "data": {
            "text/plain": [
              "target\n",
              "0    59\n",
              "1    71\n",
              "2    48\n",
              "Name: count, dtype: int64"
            ],
            "text/html": [
              "<div>\n",
              "<style scoped>\n",
              "    .dataframe tbody tr th:only-of-type {\n",
              "        vertical-align: middle;\n",
              "    }\n",
              "\n",
              "    .dataframe tbody tr th {\n",
              "        vertical-align: top;\n",
              "    }\n",
              "\n",
              "    .dataframe thead th {\n",
              "        text-align: right;\n",
              "    }\n",
              "</style>\n",
              "<table border=\"1\" class=\"dataframe\">\n",
              "  <thead>\n",
              "    <tr style=\"text-align: right;\">\n",
              "      <th></th>\n",
              "      <th>count</th>\n",
              "    </tr>\n",
              "    <tr>\n",
              "      <th>target</th>\n",
              "      <th></th>\n",
              "    </tr>\n",
              "  </thead>\n",
              "  <tbody>\n",
              "    <tr>\n",
              "      <th>0</th>\n",
              "      <td>59</td>\n",
              "    </tr>\n",
              "    <tr>\n",
              "      <th>1</th>\n",
              "      <td>71</td>\n",
              "    </tr>\n",
              "    <tr>\n",
              "      <th>2</th>\n",
              "      <td>48</td>\n",
              "    </tr>\n",
              "  </tbody>\n",
              "</table>\n",
              "</div><br><label><b>dtype:</b> int64</label>"
            ]
          },
          "metadata": {},
          "execution_count": 7
        }
      ]
    },
    {
      "cell_type": "code",
      "source": [
        "fig,ax = plt.subplots()\n",
        "ax.bar(df['target'].unique(),df['target'].value_counts().sort_index())\n",
        "ax.set_xlabel('Category')\n",
        "ax.set_ylabel('Count')\n",
        "ax.set_xticks(df['target'].unique())"
      ],
      "metadata": {
        "colab": {
          "base_uri": "https://localhost:8080/",
          "height": 501
        },
        "id": "w87nEIE6IKSJ",
        "outputId": "d8c5b57f-37b8-4a64-c351-0d22faa34989"
      },
      "execution_count": 8,
      "outputs": [
        {
          "output_type": "execute_result",
          "data": {
            "text/plain": [
              "[<matplotlib.axis.XTick at 0x7d712881aaa0>,\n",
              " <matplotlib.axis.XTick at 0x7d712881aa70>,\n",
              " <matplotlib.axis.XTick at 0x7d712881b070>]"
            ]
          },
          "metadata": {},
          "execution_count": 8
        },
        {
          "output_type": "display_data",
          "data": {
            "text/plain": [
              "<Figure size 640x480 with 1 Axes>"
            ],
            "image/png": "[encoded data removed]"
          },
          "metadata": {}
        }
      ]
    },
    {
      "cell_type": "code",
      "source": [
        "from sklearn.model_selection import train_test_split\n",
        "\n",
        "X = df.drop(['target'],axis=1)\n",
        "y = df['target']\n",
        "\n",
        "X_train, X_test, y_train, y_test = train_test_split(X,y,test_size=0.3,shuffle=True,stratify=y,random_state=42)"
      ],
      "metadata": {
        "id": "KuWDTBDyIyf0"
      },
      "execution_count": 9,
      "outputs": []
    },
    {
      "cell_type": "code",
      "source": [
        "from sklearn.ensemble import GradientBoostingClassifier\n",
        "from sklearn.metrics import f1_score"
      ],
      "metadata": {
        "id": "IphClzM0KJzG"
      },
      "execution_count": 10,
      "outputs": []
    },
    {
      "cell_type": "code",
      "source": [
        "gbc = GradientBoostingClassifier(max_depth=5,random_state=42)\n",
        "gbc.fit(X_train,y_train)\n",
        "y_pred = gbc.predict(X_test)\n",
        "f1_score(y_test,y_pred,average='weighted')"
      ],
      "metadata": {
        "colab": {
          "base_uri": "https://localhost:8080/"
        },
        "id": "7CCUsZ7WKfrT",
        "outputId": "7b8587ed-3f72-41e4-915d-ecf592a789d6"
      },
      "execution_count": 11,
      "outputs": [
        {
          "output_type": "execute_result",
          "data": {
            "text/plain": [
              "0.9077681577681579"
            ]
          },
          "metadata": {},
          "execution_count": 11
        }
      ]
    },
    {
      "cell_type": "markdown",
      "source": [
        "# Filter metode"
      ],
      "metadata": {
        "id": "gl37g7-UcABJ"
      }
    },
    {
      "cell_type": "markdown",
      "source": [
        "![filter_metoda.webp](data:image/webp;base64,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)"
      ],
      "metadata": {
        "id": "o7phXK3qeWNx"
      }
    },
    {
      "cell_type": "markdown",
      "source": [
        "## VarianceThreshold\n",
        "\n",
        "Ukoliko je varijansa nekog atributa 0, tada je taj atribut konstantan. Atributi koji imaju varijansu 0 nisu prediktivni, samim tim, mogu se eliminisati iz skupa atributa."
      ],
      "metadata": {
        "id": "qWvxpj6OLiKY"
      }
    },
    {
      "cell_type": "code",
      "source": [
        "X_train1, X_test1, y_train1, y_test1 = X_train.copy(),X_test.copy(),y_train.copy(),y_test.copy()"
      ],
      "metadata": {
        "id": "E_hia9jTK5_l"
      },
      "execution_count": 12,
      "outputs": []
    },
    {
      "cell_type": "code",
      "source": [
        "X_train1.var(axis=0)"
      ],
      "metadata": {
        "colab": {
          "base_uri": "https://localhost:8080/",
          "height": 491
        },
        "id": "q-0Z8zxVMdeB",
        "outputId": "5af9905f-e1b6-40a1-c158-4b93a0bdbdd9"
      },
      "execution_count": 13,
      "outputs": [
        {
          "output_type": "execute_result",
          "data": {
            "text/plain": [
              "alcohol                             0.658341\n",
              "malic_acid                          1.123507\n",
              "ash                                 0.072433\n",
              "alcalinity_of_ash                  11.471279\n",
              "magnesium                         232.071532\n",
              "total_phenols                       0.393226\n",
              "flavanoids                          0.912299\n",
              "nonflavanoid_phenols                0.013873\n",
              "proanthocyanins                     0.335108\n",
              "color_intensity                     5.669722\n",
              "hue                                 0.052891\n",
              "od280/od315_of_diluted_wines        0.470021\n",
              "proline                         94906.710923\n",
              "dtype: float64"
            ],
            "text/html": [
              "<div>\n",
              "<style scoped>\n",
              "    .dataframe tbody tr th:only-of-type {\n",
              "        vertical-align: middle;\n",
              "    }\n",
              "\n",
              "    .dataframe tbody tr th {\n",
              "        vertical-align: top;\n",
              "    }\n",
              "\n",
              "    .dataframe thead th {\n",
              "        text-align: right;\n",
              "    }\n",
              "</style>\n",
              "<table border=\"1\" class=\"dataframe\">\n",
              "  <thead>\n",
              "    <tr style=\"text-align: right;\">\n",
              "      <th></th>\n",
              "      <th>0</th>\n",
              "    </tr>\n",
              "  </thead>\n",
              "  <tbody>\n",
              "    <tr>\n",
              "      <th>alcohol</th>\n",
              "      <td>0.658341</td>\n",
              "    </tr>\n",
              "    <tr>\n",
              "      <th>malic_acid</th>\n",
              "      <td>1.123507</td>\n",
              "    </tr>\n",
              "    <tr>\n",
              "      <th>ash</th>\n",
              "      <td>0.072433</td>\n",
              "    </tr>\n",
              "    <tr>\n",
              "      <th>alcalinity_of_ash</th>\n",
              "      <td>11.471279</td>\n",
              "    </tr>\n",
              "    <tr>\n",
              "      <th>magnesium</th>\n",
              "      <td>232.071532</td>\n",
              "    </tr>\n",
              "    <tr>\n",
              "      <th>total_phenols</th>\n",
              "      <td>0.393226</td>\n",
              "    </tr>\n",
              "    <tr>\n",
              "      <th>flavanoids</th>\n",
              "      <td>0.912299</td>\n",
              "    </tr>\n",
              "    <tr>\n",
              "      <th>nonflavanoid_phenols</th>\n",
              "      <td>0.013873</td>\n",
              "    </tr>\n",
              "    <tr>\n",
              "      <th>proanthocyanins</th>\n",
              "      <td>0.335108</td>\n",
              "    </tr>\n",
              "    <tr>\n",
              "      <th>color_intensity</th>\n",
              "      <td>5.669722</td>\n",
              "    </tr>\n",
              "    <tr>\n",
              "      <th>hue</th>\n",
              "      <td>0.052891</td>\n",
              "    </tr>\n",
              "    <tr>\n",
              "      <th>od280/od315_of_diluted_wines</th>\n",
              "      <td>0.470021</td>\n",
              "    </tr>\n",
              "    <tr>\n",
              "      <th>proline</th>\n",
              "      <td>94906.710923</td>\n",
              "    </tr>\n",
              "  </tbody>\n",
              "</table>\n",
              "</div><br><label><b>dtype:</b> float64</label>"
            ]
          },
          "metadata": {},
          "execution_count": 13
        }
      ]
    },
    {
      "cell_type": "code",
      "source": [
        "from sklearn.preprocessing import MinMaxScaler\n",
        "\n",
        "scaler = MinMaxScaler()\n",
        "X_train_scaled = scaler.fit_transform(X_train1)\n",
        "X_test_scaled = scaler.transform(X_test1)"
      ],
      "metadata": {
        "id": "vbh_Zoe7MoLO"
      },
      "execution_count": 14,
      "outputs": []
    },
    {
      "cell_type": "code",
      "source": [
        "plt.bar(x=wine_data.feature_names, height=X_train_scaled.var(axis=0))\n",
        "plt.axhline(y=0.03, color='r', linestyle='--', label='Threshold = 0.03')\n",
        "plt.xlabel(\"Features\")\n",
        "plt.ylabel(\"Variance\")\n",
        "plt.xticks(rotation=90,fontsize=9)\n",
        "plt.show()"
      ],
      "metadata": {
        "id": "72YdGS3BNVif",
        "colab": {
          "base_uri": "https://localhost:8080/",
          "height": 629
        },
        "outputId": "4f09e357-f873-4ad7-c268-268b1831b318"
      },
      "execution_count": 15,
      "outputs": [
        {
          "output_type": "display_data",
          "data": {
            "text/plain": [
              "<Figure size 640x480 with 1 Axes>"
            ],
            "image/png": "[encoded data removed]"
          },
          "metadata": {}
        }
      ]
    },
    {
      "cell_type": "code",
      "source": [
        "selected_X_train1 = X_train1.drop(['ash','magnesium'],axis=1)"
      ],
      "metadata": {
        "id": "AskdtGeFPByo"
      },
      "execution_count": 16,
      "outputs": []
    },
    {
      "cell_type": "code",
      "source": [
        "selected_X_test1 = X_test1.drop(['ash','magnesium'],axis=1)"
      ],
      "metadata": {
        "id": "5s4R9yjeQVZi"
      },
      "execution_count": 17,
      "outputs": []
    },
    {
      "cell_type": "code",
      "source": [
        "gbc.fit(selected_X_train1,y_train)"
      ],
      "metadata": {
        "colab": {
          "base_uri": "https://localhost:8080/",
          "height": 80
        },
        "id": "7Aw-Azb3QfDt",
        "outputId": "7606802f-37e1-406f-8e0f-d9c65a0dcd31"
      },
      "execution_count": 18,
      "outputs": [
        {
          "output_type": "execute_result",
          "data": {
            "text/plain": [
              "GradientBoostingClassifier(max_depth=5, random_state=42)"
            ],
            "text/html": [
              "<style>#sk-container-id-1 {\n",
              "  /* Definition of color scheme common for light and dark mode */\n",
              "  --sklearn-color-text: black;\n",
              "  --sklearn-color-line: gray;\n",
              "  /* Definition of color scheme for unfitted estimators */\n",
              "  --sklearn-color-unfitted-level-0: #fff5e6;\n",
              "  --sklearn-color-unfitted-level-1: #f6e4d2;\n",
              "  --sklearn-color-unfitted-level-2: #ffe0b3;\n",
              "  --sklearn-color-unfitted-level-3: chocolate;\n",
              "  /* Definition of color scheme for fitted estimators */\n",
              "  --sklearn-color-fitted-level-0: #f0f8ff;\n",
              "  --sklearn-color-fitted-level-1: #d4ebff;\n",
              "  --sklearn-color-fitted-level-2: #b3dbfd;\n",
              "  --sklearn-color-fitted-level-3: cornflowerblue;\n",
              "\n",
              "  /* Specific color for light theme */\n",
              "  --sklearn-color-text-on-default-background: var(--sg-text-color, var(--theme-code-foreground, var(--jp-content-font-color1, black)));\n",
              "  --sklearn-color-background: var(--sg-background-color, var(--theme-background, var(--jp-layout-color0, white)));\n",
              "  --sklearn-color-border-box: var(--sg-text-color, var(--theme-code-foreground, var(--jp-content-font-color1, black)));\n",
              "  --sklearn-color-icon: #696969;\n",
              "\n",
              "  @media (prefers-color-scheme: dark) {\n",
              "    /* Redefinition of color scheme for dark theme */\n",
              "    --sklearn-color-text-on-default-background: var(--sg-text-color, var(--theme-code-foreground, var(--jp-content-font-color1, white)));\n",
              "    --sklearn-color-background: var(--sg-background-color, var(--theme-background, var(--jp-layout-color0, #111)));\n",
              "    --sklearn-color-border-box: var(--sg-text-color, var(--theme-code-foreground, var(--jp-content-font-color1, white)));\n",
              "    --sklearn-color-icon: #878787;\n",
              "  }\n",
              "}\n",
              "\n",
              "#sk-container-id-1 {\n",
              "  color: var(--sklearn-color-text);\n",
              "}\n",
              "\n",
              "#sk-container-id-1 pre {\n",
              "  padding: 0;\n",
              "}\n",
              "\n",
              "#sk-container-id-1 input.sk-hidden--visually {\n",
              "  border: 0;\n",
              "  clip: rect(1px 1px 1px 1px);\n",
              "  clip: rect(1px, 1px, 1px, 1px);\n",
              "  height: 1px;\n",
              "  margin: -1px;\n",
              "  overflow: hidden;\n",
              "  padding: 0;\n",
              "  position: absolute;\n",
              "  width: 1px;\n",
              "}\n",
              "\n",
              "#sk-container-id-1 div.sk-dashed-wrapped {\n",
              "  border: 1px dashed var(--sklearn-color-line);\n",
              "  margin: 0 0.4em 0.5em 0.4em;\n",
              "  box-sizing: border-box;\n",
              "  padding-bottom: 0.4em;\n",
              "  background-color: var(--sklearn-color-background);\n",
              "}\n",
              "\n",
              "#sk-container-id-1 div.sk-container {\n",
              "  /* jupyter's `normalize.less` sets `[hidden] { display: none; }`\n",
              "     but bootstrap.min.css set `[hidden] { display: none !important; }`\n",
              "     so we also need the `!important` here to be able to override the\n",
              "     default hidden behavior on the sphinx rendered scikit-learn.org.\n",
              "     See: https://github.com/scikit-learn/scikit-learn/issues/21755 */\n",
              "  display: inline-block !important;\n",
              "  position: relative;\n",
              "}\n",
              "\n",
              "#sk-container-id-1 div.sk-text-repr-fallback {\n",
              "  display: none;\n",
              "}\n",
              "\n",
              "div.sk-parallel-item,\n",
              "div.sk-serial,\n",
              "div.sk-item {\n",
              "  /* draw centered vertical line to link estimators */\n",
              "  background-image: linear-gradient(var(--sklearn-color-text-on-default-background), var(--sklearn-color-text-on-default-background));\n",
              "  background-size: 2px 100%;\n",
              "  background-repeat: no-repeat;\n",
              "  background-position: center center;\n",
              "}\n",
              "\n",
              "/* Parallel-specific style estimator block */\n",
              "\n",
              "#sk-container-id-1 div.sk-parallel-item::after {\n",
              "  content: \"\";\n",
              "  width: 100%;\n",
              "  border-bottom: 2px solid var(--sklearn-color-text-on-default-background);\n",
              "  flex-grow: 1;\n",
              "}\n",
              "\n",
              "#sk-container-id-1 div.sk-parallel {\n",
              "  display: flex;\n",
              "  align-items: stretch;\n",
              "  justify-content: center;\n",
              "  background-color: var(--sklearn-color-background);\n",
              "  position: relative;\n",
              "}\n",
              "\n",
              "#sk-container-id-1 div.sk-parallel-item {\n",
              "  display: flex;\n",
              "  flex-direction: column;\n",
              "}\n",
              "\n",
              "#sk-container-id-1 div.sk-parallel-item:first-child::after {\n",
              "  align-self: flex-end;\n",
              "  width: 50%;\n",
              "}\n",
              "\n",
              "#sk-container-id-1 div.sk-parallel-item:last-child::after {\n",
              "  align-self: flex-start;\n",
              "  width: 50%;\n",
              "}\n",
              "\n",
              "#sk-container-id-1 div.sk-parallel-item:only-child::after {\n",
              "  width: 0;\n",
              "}\n",
              "\n",
              "/* Serial-specific style estimator block */\n",
              "\n",
              "#sk-container-id-1 div.sk-serial {\n",
              "  display: flex;\n",
              "  flex-direction: column;\n",
              "  align-items: center;\n",
              "  background-color: var(--sklearn-color-background);\n",
              "  padding-right: 1em;\n",
              "  padding-left: 1em;\n",
              "}\n",
              "\n",
              "\n",
              "/* Toggleable style: style used for estimator/Pipeline/ColumnTransformer box that is\n",
              "clickable and can be expanded/collapsed.\n",
              "- Pipeline and ColumnTransformer use this feature and define the default style\n",
              "- Estimators will overwrite some part of the style using the `sk-estimator` class\n",
              "*/\n",
              "\n",
              "/* Pipeline and ColumnTransformer style (default) */\n",
              "\n",
              "#sk-container-id-1 div.sk-toggleable {\n",
              "  /* Default theme specific background. It is overwritten whether we have a\n",
              "  specific estimator or a Pipeline/ColumnTransformer */\n",
              "  background-color: var(--sklearn-color-background);\n",
              "}\n",
              "\n",
              "/* Toggleable label */\n",
              "#sk-container-id-1 label.sk-toggleable__label {\n",
              "  cursor: pointer;\n",
              "  display: block;\n",
              "  width: 100%;\n",
              "  margin-bottom: 0;\n",
              "  padding: 0.5em;\n",
              "  box-sizing: border-box;\n",
              "  text-align: center;\n",
              "}\n",
              "\n",
              "#sk-container-id-1 label.sk-toggleable__label-arrow:before {\n",
              "  /* Arrow on the left of the label */\n",
              "  content: \"▸\";\n",
              "  float: left;\n",
              "  margin-right: 0.25em;\n",
              "  color: var(--sklearn-color-icon);\n",
              "}\n",
              "\n",
              "#sk-container-id-1 label.sk-toggleable__label-arrow:hover:before {\n",
              "  color: var(--sklearn-color-text);\n",
              "}\n",
              "\n",
              "/* Toggleable content - dropdown */\n",
              "\n",
              "#sk-container-id-1 div.sk-toggleable__content {\n",
              "  max-height: 0;\n",
              "  max-width: 0;\n",
              "  overflow: hidden;\n",
              "  text-align: left;\n",
              "  /* unfitted */\n",
              "  background-color: var(--sklearn-color-unfitted-level-0);\n",
              "}\n",
              "\n",
              "#sk-container-id-1 div.sk-toggleable__content.fitted {\n",
              "  /* fitted */\n",
              "  background-color: var(--sklearn-color-fitted-level-0);\n",
              "}\n",
              "\n",
              "#sk-container-id-1 div.sk-toggleable__content pre {\n",
              "  margin: 0.2em;\n",
              "  border-radius: 0.25em;\n",
              "  color: var(--sklearn-color-text);\n",
              "  /* unfitted */\n",
              "  background-color: var(--sklearn-color-unfitted-level-0);\n",
              "}\n",
              "\n",
              "#sk-container-id-1 div.sk-toggleable__content.fitted pre {\n",
              "  /* unfitted */\n",
              "  background-color: var(--sklearn-color-fitted-level-0);\n",
              "}\n",
              "\n",
              "#sk-container-id-1 input.sk-toggleable__control:checked~div.sk-toggleable__content {\n",
              "  /* Expand drop-down */\n",
              "  max-height: 200px;\n",
              "  max-width: 100%;\n",
              "  overflow: auto;\n",
              "}\n",
              "\n",
              "#sk-container-id-1 input.sk-toggleable__control:checked~label.sk-toggleable__label-arrow:before {\n",
              "  content: \"▾\";\n",
              "}\n",
              "\n",
              "/* Pipeline/ColumnTransformer-specific style */\n",
              "\n",
              "#sk-container-id-1 div.sk-label input.sk-toggleable__control:checked~label.sk-toggleable__label {\n",
              "  color: var(--sklearn-color-text);\n",
              "  background-color: var(--sklearn-color-unfitted-level-2);\n",
              "}\n",
              "\n",
              "#sk-container-id-1 div.sk-label.fitted input.sk-toggleable__control:checked~label.sk-toggleable__label {\n",
              "  background-color: var(--sklearn-color-fitted-level-2);\n",
              "}\n",
              "\n",
              "/* Estimator-specific style */\n",
              "\n",
              "/* Colorize estimator box */\n",
              "#sk-container-id-1 div.sk-estimator input.sk-toggleable__control:checked~label.sk-toggleable__label {\n",
              "  /* unfitted */\n",
              "  background-color: var(--sklearn-color-unfitted-level-2);\n",
              "}\n",
              "\n",
              "#sk-container-id-1 div.sk-estimator.fitted input.sk-toggleable__control:checked~label.sk-toggleable__label {\n",
              "  /* fitted */\n",
              "  background-color: var(--sklearn-color-fitted-level-2);\n",
              "}\n",
              "\n",
              "#sk-container-id-1 div.sk-label label.sk-toggleable__label,\n",
              "#sk-container-id-1 div.sk-label label {\n",
              "  /* The background is the default theme color */\n",
              "  color: var(--sklearn-color-text-on-default-background);\n",
              "}\n",
              "\n",
              "/* On hover, darken the color of the background */\n",
              "#sk-container-id-1 div.sk-label:hover label.sk-toggleable__label {\n",
              "  color: var(--sklearn-color-text);\n",
              "  background-color: var(--sklearn-color-unfitted-level-2);\n",
              "}\n",
              "\n",
              "/* Label box, darken color on hover, fitted */\n",
              "#sk-container-id-1 div.sk-label.fitted:hover label.sk-toggleable__label.fitted {\n",
              "  color: var(--sklearn-color-text);\n",
              "  background-color: var(--sklearn-color-fitted-level-2);\n",
              "}\n",
              "\n",
              "/* Estimator label */\n",
              "\n",
              "#sk-container-id-1 div.sk-label label {\n",
              "  font-family: monospace;\n",
              "  font-weight: bold;\n",
              "  display: inline-block;\n",
              "  line-height: 1.2em;\n",
              "}\n",
              "\n",
              "#sk-container-id-1 div.sk-label-container {\n",
              "  text-align: center;\n",
              "}\n",
              "\n",
              "/* Estimator-specific */\n",
              "#sk-container-id-1 div.sk-estimator {\n",
              "  font-family: monospace;\n",
              "  border: 1px dotted var(--sklearn-color-border-box);\n",
              "  border-radius: 0.25em;\n",
              "  box-sizing: border-box;\n",
              "  margin-bottom: 0.5em;\n",
              "  /* unfitted */\n",
              "  background-color: var(--sklearn-color-unfitted-level-0);\n",
              "}\n",
              "\n",
              "#sk-container-id-1 div.sk-estimator.fitted {\n",
              "  /* fitted */\n",
              "  background-color: var(--sklearn-color-fitted-level-0);\n",
              "}\n",
              "\n",
              "/* on hover */\n",
              "#sk-container-id-1 div.sk-estimator:hover {\n",
              "  /* unfitted */\n",
              "  background-color: var(--sklearn-color-unfitted-level-2);\n",
              "}\n",
              "\n",
              "#sk-container-id-1 div.sk-estimator.fitted:hover {\n",
              "  /* fitted */\n",
              "  background-color: var(--sklearn-color-fitted-level-2);\n",
              "}\n",
              "\n",
              "/* Specification for estimator info (e.g. \"i\" and \"?\") */\n",
              "\n",
              "/* Common style for \"i\" and \"?\" */\n",
              "\n",
              ".sk-estimator-doc-link,\n",
              "a:link.sk-estimator-doc-link,\n",
              "a:visited.sk-estimator-doc-link {\n",
              "  float: right;\n",
              "  font-size: smaller;\n",
              "  line-height: 1em;\n",
              "  font-family: monospace;\n",
              "  background-color: var(--sklearn-color-background);\n",
              "  border-radius: 1em;\n",
              "  height: 1em;\n",
              "  width: 1em;\n",
              "  text-decoration: none !important;\n",
              "  margin-left: 1ex;\n",
              "  /* unfitted */\n",
              "  border: var(--sklearn-color-unfitted-level-1) 1pt solid;\n",
              "  color: var(--sklearn-color-unfitted-level-1);\n",
              "}\n",
              "\n",
              ".sk-estimator-doc-link.fitted,\n",
              "a:link.sk-estimator-doc-link.fitted,\n",
              "a:visited.sk-estimator-doc-link.fitted {\n",
              "  /* fitted */\n",
              "  border: var(--sklearn-color-fitted-level-1) 1pt solid;\n",
              "  color: var(--sklearn-color-fitted-level-1);\n",
              "}\n",
              "\n",
              "/* On hover */\n",
              "div.sk-estimator:hover .sk-estimator-doc-link:hover,\n",
              ".sk-estimator-doc-link:hover,\n",
              "div.sk-label-container:hover .sk-estimator-doc-link:hover,\n",
              ".sk-estimator-doc-link:hover {\n",
              "  /* unfitted */\n",
              "  background-color: var(--sklearn-color-unfitted-level-3);\n",
              "  color: var(--sklearn-color-background);\n",
              "  text-decoration: none;\n",
              "}\n",
              "\n",
              "div.sk-estimator.fitted:hover .sk-estimator-doc-link.fitted:hover,\n",
              ".sk-estimator-doc-link.fitted:hover,\n",
              "div.sk-label-container:hover .sk-estimator-doc-link.fitted:hover,\n",
              ".sk-estimator-doc-link.fitted:hover {\n",
              "  /* fitted */\n",
              "  background-color: var(--sklearn-color-fitted-level-3);\n",
              "  color: var(--sklearn-color-background);\n",
              "  text-decoration: none;\n",
              "}\n",
              "\n",
              "/* Span, style for the box shown on hovering the info icon */\n",
              ".sk-estimator-doc-link span {\n",
              "  display: none;\n",
              "  z-index: 9999;\n",
              "  position: relative;\n",
              "  font-weight: normal;\n",
              "  right: .2ex;\n",
              "  padding: .5ex;\n",
              "  margin: .5ex;\n",
              "  width: min-content;\n",
              "  min-width: 20ex;\n",
              "  max-width: 50ex;\n",
              "  color: var(--sklearn-color-text);\n",
              "  box-shadow: 2pt 2pt 4pt #999;\n",
              "  /* unfitted */\n",
              "  background: var(--sklearn-color-unfitted-level-0);\n",
              "  border: .5pt solid var(--sklearn-color-unfitted-level-3);\n",
              "}\n",
              "\n",
              ".sk-estimator-doc-link.fitted span {\n",
              "  /* fitted */\n",
              "  background: var(--sklearn-color-fitted-level-0);\n",
              "  border: var(--sklearn-color-fitted-level-3);\n",
              "}\n",
              "\n",
              ".sk-estimator-doc-link:hover span {\n",
              "  display: block;\n",
              "}\n",
              "\n",
              "/* \"?\"-specific style due to the `<a>` HTML tag */\n",
              "\n",
              "#sk-container-id-1 a.estimator_doc_link {\n",
              "  float: right;\n",
              "  font-size: 1rem;\n",
              "  line-height: 1em;\n",
              "  font-family: monospace;\n",
              "  background-color: var(--sklearn-color-background);\n",
              "  border-radius: 1rem;\n",
              "  height: 1rem;\n",
              "  width: 1rem;\n",
              "  text-decoration: none;\n",
              "  /* unfitted */\n",
              "  color: var(--sklearn-color-unfitted-level-1);\n",
              "  border: var(--sklearn-color-unfitted-level-1) 1pt solid;\n",
              "}\n",
              "\n",
              "#sk-container-id-1 a.estimator_doc_link.fitted {\n",
              "  /* fitted */\n",
              "  border: var(--sklearn-color-fitted-level-1) 1pt solid;\n",
              "  color: var(--sklearn-color-fitted-level-1);\n",
              "}\n",
              "\n",
              "/* On hover */\n",
              "#sk-container-id-1 a.estimator_doc_link:hover {\n",
              "  /* unfitted */\n",
              "  background-color: var(--sklearn-color-unfitted-level-3);\n",
              "  color: var(--sklearn-color-background);\n",
              "  text-decoration: none;\n",
              "}\n",
              "\n",
              "#sk-container-id-1 a.estimator_doc_link.fitted:hover {\n",
              "  /* fitted */\n",
              "  background-color: var(--sklearn-color-fitted-level-3);\n",
              "}\n",
              "</style><div id=\"sk-container-id-1\" class=\"sk-top-container\"><div class=\"sk-text-repr-fallback\"><pre>GradientBoostingClassifier(max_depth=5, random_state=42)</pre><b>In a Jupyter environment, please rerun this cell to show the HTML representation or trust the notebook. <br />On GitHub, the HTML representation is unable to render, please try loading this page with nbviewer.org.</b></div><div class=\"sk-container\" hidden><div class=\"sk-item\"><div class=\"sk-estimator fitted sk-toggleable\"><input class=\"sk-toggleable__control sk-hidden--visually\" id=\"sk-estimator-id-1\" type=\"checkbox\" checked><label for=\"sk-estimator-id-1\" class=\"sk-toggleable__label fitted sk-toggleable__label-arrow fitted\">&nbsp;&nbsp;GradientBoostingClassifier<a class=\"sk-estimator-doc-link fitted\" rel=\"noreferrer\" target=\"_blank\" href=\"https://scikit-learn.org/1.5/modules/generated/sklearn.ensemble.GradientBoostingClassifier.html\">?<span>Documentation for GradientBoostingClassifier</span></a><span class=\"sk-estimator-doc-link fitted\">i<span>Fitted</span></span></label><div class=\"sk-toggleable__content fitted\"><pre>GradientBoostingClassifier(max_depth=5, random_state=42)</pre></div> </div></div></div></div>"
            ]
          },
          "metadata": {},
          "execution_count": 18
        }
      ]
    },
    {
      "cell_type": "code",
      "source": [
        "y_pred_var = gbc.predict(selected_X_test1)"
      ],
      "metadata": {
        "id": "7-IFng73QnYo"
      },
      "execution_count": 19,
      "outputs": []
    },
    {
      "cell_type": "code",
      "source": [
        "f1_score_var = f1_score(y_pred_var,y_test,average='weighted')\n",
        "f1_score_var"
      ],
      "metadata": {
        "colab": {
          "base_uri": "https://localhost:8080/"
        },
        "id": "zwl8lsjrQxo9",
        "outputId": "81369f5a-d5cf-4fe6-c134-a8b7748ca443"
      },
      "execution_count": 20,
      "outputs": [
        {
          "output_type": "execute_result",
          "data": {
            "text/plain": [
              "0.9627050471878059"
            ]
          },
          "metadata": {},
          "execution_count": 20
        }
      ]
    },
    {
      "cell_type": "markdown",
      "source": [
        "###VarianceThreshold u Scikit-learnu"
      ],
      "metadata": {
        "id": "4azHr-F6SAAU"
      }
    },
    {
      "cell_type": "code",
      "source": [
        "# from sklearn.feature_selection import VarianceThreshold\n",
        "# vt = VarianceThreshold(threshold=0.03)\n",
        "# X_vt = vt.fit_transform(X_train_scaled)\n",
        "# selected_attributes = columns[vt.get_support()]\n",
        "# print(selected_attributes)"
      ],
      "metadata": {
        "id": "k-C9a8MxQ_BO"
      },
      "execution_count": 21,
      "outputs": []
    },
    {
      "cell_type": "markdown",
      "source": [
        "##K-Best"
      ],
      "metadata": {
        "id": "pyU5cgy0SIZT"
      }
    },
    {
      "cell_type": "markdown",
      "source": [
        "Koristi metriku značajnosti atributa i na osnovu nje bira K najboljih.\n",
        "\n",
        "U zavisnosti od tipa atributa i ciljne promenljive, mogu se koristiti razlicite metrike znacajnosti:\n",
        "\n",
        "- Atributi numericki:\n",
        "    - Ciljna promenljiva kategoricka: t-test\n",
        "    - Ciljna promenljiva numericka: Pearson correlation, Spearman's rank correlation\n",
        "- Atributi kategoricki:\n",
        "    - Ciljna promenljiva kategoricka: Chi squared\n",
        "    - Ciljna promenljiva numericka: t-test\n",
        "\n",
        "U svim slucajevima se moze koristiti i Mutual information"
      ],
      "metadata": {
        "id": "beqsqzSpSMJH"
      }
    },
    {
      "cell_type": "code",
      "source": [
        "X_train_v2, X_test_v2, y_train_v2, y_test_v2 = X_train.copy(), X_test.copy(), y_train.copy(), y_test.copy()"
      ],
      "metadata": {
        "id": "lhIQOhAbTYRy"
      },
      "execution_count": 22,
      "outputs": []
    },
    {
      "cell_type": "code",
      "source": [
        "from sklearn.feature_selection import SelectKBest\n",
        "from sklearn.feature_selection import mutual_info_classif"
      ],
      "metadata": {
        "id": "eT5aFSHAV6w0"
      },
      "execution_count": 23,
      "outputs": []
    },
    {
      "cell_type": "code",
      "source": [
        "f1_score_list = []\n",
        "\n",
        "for k in range(1, 14):\n",
        "    selector = SelectKBest(mutual_info_classif, k=k)\n",
        "    selector.fit(X_train_v2, y_train_v2)\n",
        "\n",
        "    sel_X_train_v2 = selector.transform(X_train_v2)\n",
        "    sel_X_test_v2 = selector.transform(X_test_v2)\n",
        "\n",
        "    gbc.fit(sel_X_train_v2, y_train_v2)\n",
        "    kbest_preds = gbc.predict(sel_X_test_v2)\n",
        "\n",
        "    f1_score_kbest = round(f1_score(y_test_v2, kbest_preds, average='weighted'), 3)\n",
        "\n",
        "    f1_score_list.append(f1_score_kbest)"
      ],
      "metadata": {
        "id": "J7eLd1idV8g8"
      },
      "execution_count": 24,
      "outputs": []
    },
    {
      "cell_type": "code",
      "source": [
        "max(f1_score_list)"
      ],
      "metadata": {
        "colab": {
          "base_uri": "https://localhost:8080/"
        },
        "id": "lAWO-uCuXfUO",
        "outputId": "0180dcf3-930f-457c-ae47-ee759dd5080e"
      },
      "execution_count": 25,
      "outputs": [
        {
          "output_type": "execute_result",
          "data": {
            "text/plain": [
              "0.981"
            ]
          },
          "metadata": {},
          "execution_count": 25
        }
      ]
    },
    {
      "cell_type": "code",
      "source": [
        "plt.bar(x=range(1,len(f1_score_list)+1), height=f1_score_list,width=0.5)\n",
        "plt.xticks(range(1,len(f1_score_list)+1))\n",
        "plt.yticks([])\n",
        "plt.xlabel(\"Number of features\")\n",
        "plt.ylabel(\"F1 score\")\n",
        "\n",
        "for i, value in enumerate(f1_score_list, start=1):\n",
        "    plt.text(x=i, y=value + 0.01, s=f\"{value:.3f}\", ha='center', fontsize=7)\n",
        "\n",
        "plt.show()"
      ],
      "metadata": {
        "colab": {
          "base_uri": "https://localhost:8080/",
          "height": 449
        },
        "id": "xCU8QvTmV-mM",
        "outputId": "26d825c2-c312-4ad6-c96c-b73205f90fe8"
      },
      "execution_count": 26,
      "outputs": [
        {
          "output_type": "display_data",
          "data": {
            "text/plain": [
              "<Figure size 640x480 with 1 Axes>"
            ],
            "image/png": "[encoded data removed]"
          },
          "metadata": {}
        }
      ]
    },
    {
      "cell_type": "code",
      "source": [
        "selector = SelectKBest(mutual_info_classif, k=3)\n",
        "selector.fit(X_train_v2, y_train_v2)\n",
        "\n",
        "selected_feature_mask = selector.get_support()\n",
        "selected_features = X_train_v2.columns[selected_feature_mask]\n",
        "\n",
        "selected_features"
      ],
      "metadata": {
        "colab": {
          "base_uri": "https://localhost:8080/"
        },
        "id": "pYQXRshmWdHq",
        "outputId": "3a7159c6-26fd-45eb-bc79-620e3fd3f5da"
      },
      "execution_count": 27,
      "outputs": [
        {
          "output_type": "execute_result",
          "data": {
            "text/plain": [
              "Index(['flavanoids', 'color_intensity', 'proline'], dtype='object')"
            ]
          },
          "metadata": {},
          "execution_count": 27
        }
      ]
    },
    {
      "cell_type": "markdown",
      "source": [
        "Mana ovih metoda jeste što se interakcije između atributa i ciljne promenljive gledaju nezavisno, bez razmatranja međusobnih interakcija više atributa."
      ],
      "metadata": {
        "id": "zx669fHOejUI"
      }
    },
    {
      "cell_type": "markdown",
      "source": [
        "## Correlation matrix"
      ],
      "metadata": {
        "id": "xjp4eQDLhpaT"
      }
    },
    {
      "cell_type": "code",
      "source": [
        "import seaborn as sns\n",
        "corr_mat=X_train_v2.corr()\n",
        "sns.heatmap(corr_mat, cmap='magma');"
      ],
      "metadata": {
        "colab": {
          "base_uri": "https://localhost:8080/",
          "height": 636
        },
        "id": "P-AaRmgDhbaF",
        "outputId": "27341216-fb60-4d87-db69-7fe71942d769"
      },
      "execution_count": 33,
      "outputs": [
        {
          "output_type": "display_data",
          "data": {
            "text/plain": [
              "<Figure size 640x480 with 2 Axes>"
            ],
            "image/png": "[encoded data removed]"
          },
          "metadata": {}
        }
      ]
    },
    {
      "cell_type": "markdown",
      "source": [
        "Mogu se eliminisati atributi koji su visokokorelisani, npr. hue i malic_acid, dubljom analizom moze se jedan od njih eliminisati."
      ],
      "metadata": {
        "id": "WWRJT6-fh9iW"
      }
    },
    {
      "cell_type": "markdown",
      "source": [
        "# Wrapper metode"
      ],
      "metadata": {
        "id": "vmtiedSycE0X"
      }
    },
    {
      "cell_type": "markdown",
      "source": [
        "![wrapper2.webp](data:image/webp;base64,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)"
      ],
      "metadata": {
        "id": "5POyI1UkgzDc"
      }
    },
    {
      "cell_type": "markdown",
      "source": [
        "#Recursive feature elimination (RFE)"
      ],
      "metadata": {
        "id": "VJ-xJW5oYEEz"
      }
    },
    {
      "cell_type": "code",
      "source": [
        "X_train_v3, X_test_v3, y_train_v3, y_test_v3 = X_train.copy(), X_test.copy(), y_train.copy(), y_test.copy()"
      ],
      "metadata": {
        "id": "j4eM0RpoXVhs"
      },
      "execution_count": 28,
      "outputs": []
    },
    {
      "cell_type": "code",
      "source": [
        "from sklearn.feature_selection import RFE\n",
        "\n",
        "rfe_f1_score_list = []\n",
        "\n",
        "for k in range(1, 14):\n",
        "    RFE_selector = RFE(estimator=gbc, n_features_to_select=k, step=1)\n",
        "    RFE_selector.fit(X_train_v3, y_train_v3)\n",
        "\n",
        "    sel_X_train_v3 = RFE_selector.transform(X_train_v3)\n",
        "    sel_X_test_v3 = RFE_selector.transform(X_test_v3)\n",
        "\n",
        "    gbc.fit(sel_X_train_v3, y_train_v3)\n",
        "    RFE_preds = gbc.predict(sel_X_test_v3)\n",
        "\n",
        "    f1_score_rfe = round(f1_score(y_test_v3, RFE_preds, average='weighted'), 3)\n",
        "\n",
        "    rfe_f1_score_list.append(f1_score_rfe)"
      ],
      "metadata": {
        "id": "OjcFhpezYOmY"
      },
      "execution_count": 29,
      "outputs": []
    },
    {
      "cell_type": "code",
      "source": [
        "rfe_f1_score_list"
      ],
      "metadata": {
        "colab": {
          "base_uri": "https://localhost:8080/"
        },
        "id": "zMVVB2kHZnwp",
        "outputId": "80572f70-9ace-4eb0-a925-88531c14da83"
      },
      "execution_count": 31,
      "outputs": [
        {
          "output_type": "execute_result",
          "data": {
            "text/plain": [
              "[0.622,\n",
              " 0.85,\n",
              " 1.0,\n",
              " 0.981,\n",
              " 0.963,\n",
              " 0.963,\n",
              " 0.869,\n",
              " 0.908,\n",
              " 0.908,\n",
              " 0.908,\n",
              " 0.908,\n",
              " 0.908,\n",
              " 0.908]"
            ]
          },
          "metadata": {},
          "execution_count": 31
        }
      ]
    },
    {
      "cell_type": "code",
      "source": [
        "RFE_selector = RFE(estimator=gbc, n_features_to_select=3, step=10)\n",
        "RFE_selector.fit(X_train_v3, y_train_v3)\n",
        "\n",
        "selected_features_mask = RFE_selector.get_support()\n",
        "\n",
        "selected_features = X_train_v3.columns[selected_features_mask]\n",
        "selected_features"
      ],
      "metadata": {
        "colab": {
          "base_uri": "https://localhost:8080/"
        },
        "id": "OxaxFMUZYTND",
        "outputId": "bea0f784-12f4-475a-9fd5-ca7934072a33"
      },
      "execution_count": 30,
      "outputs": [
        {
          "output_type": "execute_result",
          "data": {
            "text/plain": [
              "Index(['color_intensity', 'od280/od315_of_diluted_wines', 'proline'], dtype='object')"
            ]
          },
          "metadata": {},
          "execution_count": 30
        }
      ]
    },
    {
      "cell_type": "code",
      "source": [
        "#rfe = RFECV(estimator=gbc) RFE koji sam odredjuje najbolji broj atributa"
      ],
      "metadata": {
        "id": "biUBkEZcbRiT"
      },
      "execution_count": null,
      "outputs": []
    },
    {
      "cell_type": "markdown",
      "source": [
        "- https://scikit-learn.org/dev/modules/generated/sklearn.feature_selection.RFE.html\n",
        "- https://machinelearningmastery.com/rfe-feature-selection-in-python/"
      ],
      "metadata": {
        "id": "RfBWo1T_Z5H5"
      }
    },
    {
      "cell_type": "markdown",
      "source": [
        "#Embedded metode"
      ],
      "metadata": {
        "id": "RficnGeDcHRi"
      }
    },
    {
      "cell_type": "markdown",
      "source": [
        "Metode koje prilikom treniranja modela ujedno i računaju značajnost svakog atributa. Primeri:\n",
        "- Regularizacija u linearnog regresiji: Lasso, Ridge, ElasticNet\n",
        "- Logistička regresija sa regularizacijom\n",
        "- Tree-based modeli koji prilikom treniranja računaju značajnost atibuta na osnovu Ginijevog indeksa, Entropije ..."
      ],
      "metadata": {
        "id": "K1Qu1noXdMgX"
      }
    },
    {
      "cell_type": "markdown",
      "source": [
        "Jos neke od *Feature selection* metoda na konkretnim primerima mogu se pogledati na [linku](https://github.com/codingnest/FeatureSelection/blob/master/Data%20Science%20Lifecycle%20-%20Feature%20Selection%20(Filter%2C%20Wrapper%2C%20Embedded%20and%20Hybrid%20Methods).ipynb)"
      ],
      "metadata": {
        "id": "bOs46XAZitRM"
      }
    },
    {
      "cell_type": "code",
      "source": [],
      "metadata": {
        "id": "v2FwSDO4cJr6"
      },
      "execution_count": null,
      "outputs": []
    }
  ]
}