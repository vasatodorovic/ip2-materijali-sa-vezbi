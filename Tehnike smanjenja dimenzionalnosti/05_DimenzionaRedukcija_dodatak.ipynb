{
  "nbformat": 4,
  "nbformat_minor": 0,
  "metadata": {
    "colab": {
      "provenance": []
    },
    "kernelspec": {
      "name": "python3",
      "display_name": "Python 3"
    },
    "language_info": {
      "name": "python"
    }
  },
  "cells": [
    {
      "cell_type": "code",
      "execution_count": null,
      "metadata": {
        "id": "suqLiO6Sfsdt"
      },
      "outputs": [],
      "source": [
        "import pandas as pd\n",
        "import numpy as np\n",
        "import matplotlib.pyplot as plt"
      ]
    },
    {
      "cell_type": "code",
      "source": [
        "from sklearn import preprocessing\n",
        "from sklearn import metrics\n",
        "from sklearn import linear_model\n",
        "from sklearn import svm\n",
        "from sklearn import model_selection\n",
        "from sklearn import datasets"
      ],
      "metadata": {
        "id": "4CPTzPEsgSyC"
      },
      "execution_count": null,
      "outputs": []
    },
    {
      "cell_type": "code",
      "source": [
        "data = datasets.load_breast_cancer()"
      ],
      "metadata": {
        "id": "ioPlFiyqGNe5"
      },
      "execution_count": null,
      "outputs": []
    },
    {
      "cell_type": "code",
      "source": [
        "data.feature_names"
      ],
      "metadata": {
        "colab": {
          "base_uri": "https://localhost:8080/"
        },
        "id": "9g8L32mZGSco",
        "outputId": "6c62fecd-f041-4860-a382-96029e27f11a"
      },
      "execution_count": null,
      "outputs": [
        {
          "output_type": "execute_result",
          "data": {
            "text/plain": [
              "array(['mean radius', 'mean texture', 'mean perimeter', 'mean area',\n",
              "       'mean smoothness', 'mean compactness', 'mean concavity',\n",
              "       'mean concave points', 'mean symmetry', 'mean fractal dimension',\n",
              "       'radius error', 'texture error', 'perimeter error', 'area error',\n",
              "       'smoothness error', 'compactness error', 'concavity error',\n",
              "       'concave points error', 'symmetry error',\n",
              "       'fractal dimension error', 'worst radius', 'worst texture',\n",
              "       'worst perimeter', 'worst area', 'worst smoothness',\n",
              "       'worst compactness', 'worst concavity', 'worst concave points',\n",
              "       'worst symmetry', 'worst fractal dimension'], dtype='<U23')"
            ]
          },
          "metadata": {},
          "execution_count": 4
        }
      ]
    },
    {
      "cell_type": "code",
      "source": [
        "X=data.data\n",
        "y=data.target"
      ],
      "metadata": {
        "id": "Sw62lxssGVO4"
      },
      "execution_count": null,
      "outputs": []
    },
    {
      "cell_type": "code",
      "source": [
        "X"
      ],
      "metadata": {
        "colab": {
          "base_uri": "https://localhost:8080/"
        },
        "id": "4LaGvqsbGcxU",
        "outputId": "e59e1069-5a7b-408c-98a5-0de761dd695d"
      },
      "execution_count": null,
      "outputs": [
        {
          "output_type": "execute_result",
          "data": {
            "text/plain": [
              "array([[1.799e+01, 1.038e+01, 1.228e+02, ..., 2.654e-01, 4.601e-01,\n",
              "        1.189e-01],\n",
              "       [2.057e+01, 1.777e+01, 1.329e+02, ..., 1.860e-01, 2.750e-01,\n",
              "        8.902e-02],\n",
              "       [1.969e+01, 2.125e+01, 1.300e+02, ..., 2.430e-01, 3.613e-01,\n",
              "        8.758e-02],\n",
              "       ...,\n",
              "       [1.660e+01, 2.808e+01, 1.083e+02, ..., 1.418e-01, 2.218e-01,\n",
              "        7.820e-02],\n",
              "       [2.060e+01, 2.933e+01, 1.401e+02, ..., 2.650e-01, 4.087e-01,\n",
              "        1.240e-01],\n",
              "       [7.760e+00, 2.454e+01, 4.792e+01, ..., 0.000e+00, 2.871e-01,\n",
              "        7.039e-02]])"
            ]
          },
          "metadata": {},
          "execution_count": 6
        }
      ]
    },
    {
      "cell_type": "code",
      "source": [
        "print(data.DESCR)"
      ],
      "metadata": {
        "colab": {
          "base_uri": "https://localhost:8080/"
        },
        "id": "ugc8OE_FGoY2",
        "outputId": "7316625f-125a-4914-e308-fcd56659af17"
      },
      "execution_count": null,
      "outputs": [
        {
          "output_type": "stream",
          "name": "stdout",
          "text": [
            ".. _breast_cancer_dataset:\n",
            "\n",
            "Breast cancer wisconsin (diagnostic) dataset\n",
            "--------------------------------------------\n",
            "\n",
            "**Data Set Characteristics:**\n",
            "\n",
            ":Number of Instances: 569\n",
            "\n",
            ":Number of Attributes: 30 numeric, predictive attributes and the class\n",
            "\n",
            ":Attribute Information:\n",
            "    - radius (mean of distances from center to points on the perimeter)\n",
            "    - texture (standard deviation of gray-scale values)\n",
            "    - perimeter\n",
            "    - area\n",
            "    - smoothness (local variation in radius lengths)\n",
            "    - compactness (perimeter^2 / area - 1.0)\n",
            "    - concavity (severity of concave portions of the contour)\n",
            "    - concave points (number of concave portions of the contour)\n",
            "    - symmetry\n",
            "    - fractal dimension (\"coastline approximation\" - 1)\n",
            "\n",
            "    The mean, standard error, and \"worst\" or largest (mean of the three\n",
            "    worst/largest values) of these features were computed for each image,\n",
            "    resulting in 30 features.  For instance, field 0 is Mean Radius, field\n",
            "    10 is Radius SE, field 20 is Worst Radius.\n",
            "\n",
            "    - class:\n",
            "            - WDBC-Malignant\n",
            "            - WDBC-Benign\n",
            "\n",
            ":Summary Statistics:\n",
            "\n",
            "===================================== ====== ======\n",
            "                                        Min    Max\n",
            "===================================== ====== ======\n",
            "radius (mean):                        6.981  28.11\n",
            "texture (mean):                       9.71   39.28\n",
            "perimeter (mean):                     43.79  188.5\n",
            "area (mean):                          143.5  2501.0\n",
            "smoothness (mean):                    0.053  0.163\n",
            "compactness (mean):                   0.019  0.345\n",
            "concavity (mean):                     0.0    0.427\n",
            "concave points (mean):                0.0    0.201\n",
            "symmetry (mean):                      0.106  0.304\n",
            "fractal dimension (mean):             0.05   0.097\n",
            "radius (standard error):              0.112  2.873\n",
            "texture (standard error):             0.36   4.885\n",
            "perimeter (standard error):           0.757  21.98\n",
            "area (standard error):                6.802  542.2\n",
            "smoothness (standard error):          0.002  0.031\n",
            "compactness (standard error):         0.002  0.135\n",
            "concavity (standard error):           0.0    0.396\n",
            "concave points (standard error):      0.0    0.053\n",
            "symmetry (standard error):            0.008  0.079\n",
            "fractal dimension (standard error):   0.001  0.03\n",
            "radius (worst):                       7.93   36.04\n",
            "texture (worst):                      12.02  49.54\n",
            "perimeter (worst):                    50.41  251.2\n",
            "area (worst):                         185.2  4254.0\n",
            "smoothness (worst):                   0.071  0.223\n",
            "compactness (worst):                  0.027  1.058\n",
            "concavity (worst):                    0.0    1.252\n",
            "concave points (worst):               0.0    0.291\n",
            "symmetry (worst):                     0.156  0.664\n",
            "fractal dimension (worst):            0.055  0.208\n",
            "===================================== ====== ======\n",
            "\n",
            ":Missing Attribute Values: None\n",
            "\n",
            ":Class Distribution: 212 - Malignant, 357 - Benign\n",
            "\n",
            ":Creator:  Dr. William H. Wolberg, W. Nick Street, Olvi L. Mangasarian\n",
            "\n",
            ":Donor: Nick Street\n",
            "\n",
            ":Date: November, 1995\n",
            "\n",
            "This is a copy of UCI ML Breast Cancer Wisconsin (Diagnostic) datasets.\n",
            "https://goo.gl/U2Uwz2\n",
            "\n",
            "Features are computed from a digitized image of a fine needle\n",
            "aspirate (FNA) of a breast mass.  They describe\n",
            "characteristics of the cell nuclei present in the image.\n",
            "\n",
            "Separating plane described above was obtained using\n",
            "Multisurface Method-Tree (MSM-T) [K. P. Bennett, \"Decision Tree\n",
            "Construction Via Linear Programming.\" Proceedings of the 4th\n",
            "Midwest Artificial Intelligence and Cognitive Science Society,\n",
            "pp. 97-101, 1992], a classification method which uses linear\n",
            "programming to construct a decision tree.  Relevant features\n",
            "were selected using an exhaustive search in the space of 1-4\n",
            "features and 1-3 separating planes.\n",
            "\n",
            "The actual linear program used to obtain the separating plane\n",
            "in the 3-dimensional space is that described in:\n",
            "[K. P. Bennett and O. L. Mangasarian: \"Robust Linear\n",
            "Programming Discrimination of Two Linearly Inseparable Sets\",\n",
            "Optimization Methods and Software 1, 1992, 23-34].\n",
            "\n",
            "This database is also available through the UW CS ftp server:\n",
            "\n",
            "ftp ftp.cs.wisc.edu\n",
            "cd math-prog/cpo-dataset/machine-learn/WDBC/\n",
            "\n",
            ".. dropdown:: References\n",
            "\n",
            "  - W.N. Street, W.H. Wolberg and O.L. Mangasarian. Nuclear feature extraction\n",
            "    for breast tumor diagnosis. IS&T/SPIE 1993 International Symposium on\n",
            "    Electronic Imaging: Science and Technology, volume 1905, pages 861-870,\n",
            "    San Jose, CA, 1993.\n",
            "  - O.L. Mangasarian, W.N. Street and W.H. Wolberg. Breast cancer diagnosis and\n",
            "    prognosis via linear programming. Operations Research, 43(4), pages 570-577,\n",
            "    July-August 1995.\n",
            "  - W.H. Wolberg, W.N. Street, and O.L. Mangasarian. Machine learning techniques\n",
            "    to diagnose breast cancer from fine-needle aspirates. Cancer Letters 77 (1994)\n",
            "    163-171.\n",
            "\n"
          ]
        }
      ]
    },
    {
      "cell_type": "markdown",
      "source": [
        "# PCA - Principal Component Analysis"
      ],
      "metadata": {
        "id": "1XncajrsQTIs"
      }
    },
    {
      "cell_type": "markdown",
      "source": [
        "### Standardizovanje podataka"
      ],
      "metadata": {
        "id": "JOuo1HXzJvgZ"
      }
    },
    {
      "cell_type": "code",
      "source": [
        "def mean(x): # np.mean(X, axis = 0)\n",
        "  return sum(x)/len(x)"
      ],
      "metadata": {
        "id": "_gynVOjvGthf"
      },
      "execution_count": null,
      "outputs": []
    },
    {
      "cell_type": "code",
      "source": [
        "def std(x): # np.std(X, axis = 0)\n",
        "  return (sum((i - mean(x))**2 for i in x)/len(x))**0.5"
      ],
      "metadata": {
        "id": "GJFW38e5HbkN"
      },
      "execution_count": null,
      "outputs": []
    },
    {
      "cell_type": "code",
      "source": [
        "def standardize_data(X):\n",
        "    return (X - mean(X))/std(X)"
      ],
      "metadata": {
        "id": "FSoXZghvHds2"
      },
      "execution_count": null,
      "outputs": []
    },
    {
      "cell_type": "code",
      "source": [
        "X_std = standardize_data(X)"
      ],
      "metadata": {
        "id": "ivSTXDZ4Iois"
      },
      "execution_count": null,
      "outputs": []
    },
    {
      "cell_type": "code",
      "source": [
        "scaler = preprocessing.StandardScaler()\n",
        "scaler.fit(X)\n",
        "X_standard = scaler.transform(X)"
      ],
      "metadata": {
        "id": "o7SbSnhjIrbW"
      },
      "execution_count": null,
      "outputs": []
    },
    {
      "cell_type": "code",
      "source": [
        "(X_std == X_standard).all()"
      ],
      "metadata": {
        "colab": {
          "base_uri": "https://localhost:8080/"
        },
        "id": "wZ52NR4gKw-G",
        "outputId": "b4fc2596-c329-471e-9ddc-76b4ae6b2e97"
      },
      "execution_count": null,
      "outputs": [
        {
          "output_type": "execute_result",
          "data": {
            "text/plain": [
              "True"
            ]
          },
          "metadata": {},
          "execution_count": 13
        }
      ]
    },
    {
      "cell_type": "markdown",
      "source": [
        "### Matrica kovarijacije"
      ],
      "metadata": {
        "id": "m9ZumsiIKPJ4"
      }
    },
    {
      "cell_type": "code",
      "source": [
        "def covariance_matrix(X): # np.cov(X_std.T)\n",
        "  return X.T.dot(X)/(X.shape[0]-1)"
      ],
      "metadata": {
        "id": "0wQz00SUIuJv"
      },
      "execution_count": null,
      "outputs": []
    },
    {
      "cell_type": "code",
      "source": [
        "cov_matrix = covariance_matrix(X_std)"
      ],
      "metadata": {
        "id": "lDqR_M4wJclj"
      },
      "execution_count": null,
      "outputs": []
    },
    {
      "cell_type": "code",
      "source": [
        "X.shape"
      ],
      "metadata": {
        "colab": {
          "base_uri": "https://localhost:8080/"
        },
        "id": "tvlvvPibK7nl",
        "outputId": "d3c1b782-7975-4db3-9f73-279ce7d9c609"
      },
      "execution_count": null,
      "outputs": [
        {
          "output_type": "execute_result",
          "data": {
            "text/plain": [
              "(569, 30)"
            ]
          },
          "metadata": {},
          "execution_count": 16
        }
      ]
    },
    {
      "cell_type": "code",
      "source": [
        "X.T.shape"
      ],
      "metadata": {
        "colab": {
          "base_uri": "https://localhost:8080/"
        },
        "id": "ihsjtWYzK9Z2",
        "outputId": "2199422d-4f59-485f-f783-a00481aa74f8"
      },
      "execution_count": null,
      "outputs": [
        {
          "output_type": "execute_result",
          "data": {
            "text/plain": [
              "(30, 569)"
            ]
          },
          "metadata": {},
          "execution_count": 17
        }
      ]
    },
    {
      "cell_type": "code",
      "source": [
        "cov_matrix.shape"
      ],
      "metadata": {
        "colab": {
          "base_uri": "https://localhost:8080/"
        },
        "id": "VpjDE12-K-10",
        "outputId": "e2725ec3-c29b-4048-ecdf-45997dbf26d5"
      },
      "execution_count": null,
      "outputs": [
        {
          "output_type": "execute_result",
          "data": {
            "text/plain": [
              "(30, 30)"
            ]
          },
          "metadata": {},
          "execution_count": 18
        }
      ]
    },
    {
      "cell_type": "markdown",
      "source": [
        "### Izracunavanje sopstvenih vrednosti i sopstvenih vektora matrice kovarijacije"
      ],
      "metadata": {
        "id": "SE-s2X5KLOcY"
      }
    },
    {
      "cell_type": "code",
      "source": [
        "import numpy.linalg as la"
      ],
      "metadata": {
        "id": "1qp9QvBSLVqp"
      },
      "execution_count": null,
      "outputs": []
    },
    {
      "cell_type": "code",
      "source": [
        "eigen_values,eigen_vectors=la.eig(cov_matrix)\n",
        "max_abs_idx = np.argmax(np.abs(eigen_vectors), axis=0)\n",
        "signs = np.sign(eigen_vectors[max_abs_idx, range(eigen_vectors.shape[0])])\n",
        "eigen_vectors = eigen_vectors*signs[np.newaxis,:]\n",
        "eigen_vectors = eigen_vectors.T"
      ],
      "metadata": {
        "id": "Ux8WyFHLLbBc"
      },
      "execution_count": null,
      "outputs": []
    },
    {
      "cell_type": "code",
      "source": [
        "print('Eigenvalues \\n', eigen_values)\n",
        "print('Eigenvectors \\n', eigen_vectors)"
      ],
      "metadata": {
        "colab": {
          "base_uri": "https://localhost:8080/"
        },
        "id": "bZO7MvlONr5p",
        "outputId": "70d05408-056c-493a-d123-57c850d1218a"
      },
      "execution_count": null,
      "outputs": [
        {
          "output_type": "stream",
          "name": "stdout",
          "text": [
            "Eigenvalues \n",
            " [1.33049908e+01 5.70137460e+00 2.82291016e+00 1.98412752e+00\n",
            " 1.65163324e+00 1.20948224e+00 6.76408882e-01 4.77456255e-01\n",
            " 4.17628782e-01 3.51310875e-01 2.94433153e-01 2.61621161e-01\n",
            " 2.41782421e-01 1.57286149e-01 9.43006956e-02 8.00034045e-02\n",
            " 5.95036135e-02 5.27114222e-02 4.95647002e-02 1.33279057e-04\n",
            " 7.50121413e-04 1.59213600e-03 6.91261258e-03 8.19203712e-03\n",
            " 1.55085271e-02 1.80867940e-02 2.43836914e-02 2.74877113e-02\n",
            " 3.12142606e-02 3.00256631e-02]\n",
            "Eigenvectors \n",
            " [[ 2.18902444e-01  1.03724578e-01  2.27537293e-01  2.20994985e-01\n",
            "   1.42589694e-01  2.39285354e-01  2.58400481e-01  2.60853758e-01\n",
            "   1.38166959e-01  6.43633464e-02  2.05978776e-01  1.74280281e-02\n",
            "   2.11325916e-01  2.02869635e-01  1.45314521e-02  1.70393451e-01\n",
            "   1.53589790e-01  1.83417397e-01  4.24984216e-02  1.02568322e-01\n",
            "   2.27996634e-01  1.04469325e-01  2.36639681e-01  2.24870533e-01\n",
            "   1.27952561e-01  2.10095880e-01  2.28767533e-01  2.50885971e-01\n",
            "   1.22904556e-01  1.31783943e-01]\n",
            " [-2.33857132e-01 -5.97060883e-02 -2.15181361e-01 -2.31076711e-01\n",
            "   1.86113023e-01  1.51891610e-01  6.01653628e-02 -3.47675005e-02\n",
            "   1.90348770e-01  3.66575471e-01 -1.05552152e-01  8.99796818e-02\n",
            "  -8.94572342e-02 -1.52292628e-01  2.04430453e-01  2.32715896e-01\n",
            "   1.97207283e-01  1.30321560e-01  1.83848000e-01  2.80092027e-01\n",
            "  -2.19866379e-01 -4.54672983e-02 -1.99878428e-01 -2.19351858e-01\n",
            "   1.72304352e-01  1.43593173e-01  9.79641143e-02 -8.25723507e-03\n",
            "   1.41883349e-01  2.75339469e-01]\n",
            " [-8.53124284e-03  6.45499033e-02 -9.31421972e-03  2.86995259e-02\n",
            "  -1.04291904e-01 -7.40915709e-02  2.73383798e-03 -2.55635406e-02\n",
            "  -4.02399363e-02 -2.25740897e-02  2.68481387e-01  3.74633665e-01\n",
            "   2.66645367e-01  2.16006528e-01  3.08838979e-01  1.54779718e-01\n",
            "   1.76463743e-01  2.24657567e-01  2.88584292e-01  2.11503764e-01\n",
            "  -4.75069900e-02 -4.22978228e-02 -4.85465083e-02 -1.19023182e-02\n",
            "  -2.59797613e-01 -2.36075625e-01 -1.73057335e-01 -1.70344076e-01\n",
            "  -2.71312642e-01 -2.32791313e-01]\n",
            " [-4.14089623e-02  6.03050001e-01 -4.19830991e-02 -5.34337955e-02\n",
            "  -1.59382765e-01 -3.17945811e-02 -1.91227535e-02 -6.53359443e-02\n",
            "  -6.71249840e-02 -4.85867649e-02 -9.79412418e-02  3.59855528e-01\n",
            "  -8.89924146e-02 -1.08205039e-01 -4.46641797e-02  2.74693632e-02\n",
            "  -1.31687997e-03 -7.40673350e-02 -4.40733510e-02 -1.53047496e-02\n",
            "  -1.54172396e-02  6.32807885e-01 -1.38027944e-02 -2.58947492e-02\n",
            "  -1.76522161e-02  9.13284153e-02  7.39511797e-02 -6.00699571e-03\n",
            "   3.62506947e-02  7.70534703e-02]\n",
            " [-3.77863538e-02  4.94688505e-02 -3.73746632e-02 -1.03312514e-02\n",
            "   3.65088528e-01 -1.17039713e-02 -8.63754118e-02  4.38610252e-02\n",
            "   3.05941428e-01  4.44243602e-02  1.54456496e-01  1.91650506e-01\n",
            "   1.20990220e-01  1.27574432e-01  2.32065676e-01 -2.79968156e-01\n",
            "  -3.53982091e-01 -1.95548089e-01  2.52868765e-01 -2.63297438e-01\n",
            "   4.40659209e-03  9.28834001e-02 -7.45415100e-03  2.73909030e-02\n",
            "   3.24435445e-01 -1.21804107e-01 -1.88518727e-01 -4.33320687e-02\n",
            "   2.44558663e-01 -9.44233510e-02]\n",
            " [ 1.87407904e-02 -3.21788366e-02  1.73084449e-02 -1.88774796e-03\n",
            "  -2.86374497e-01 -1.41309489e-02 -9.34418089e-03 -5.20499505e-02\n",
            "   3.56458461e-01 -1.19430668e-01 -2.56032561e-02 -2.87473145e-02\n",
            "   1.81071500e-03 -4.28639079e-02 -3.42917393e-01  6.91975186e-02\n",
            "   5.63432386e-02 -3.12244482e-02  4.90245643e-01 -5.31952674e-02\n",
            "  -2.90684919e-04 -5.00080613e-02  8.50098715e-03 -2.51643821e-02\n",
            "  -3.69255370e-01  4.77057929e-02  2.83792555e-02 -3.08734498e-02\n",
            "   4.98926784e-01 -8.02235245e-02]\n",
            " [-1.24088340e-01  1.13995382e-02 -1.14477057e-01 -5.16534275e-02\n",
            "  -1.40668993e-01  3.09184960e-02 -1.07520443e-01 -1.50482214e-01\n",
            "  -9.38911345e-02  2.95760024e-01  3.12490037e-01 -9.07553556e-02\n",
            "   3.14640390e-01  3.46679003e-01 -2.44024056e-01  2.34635340e-02\n",
            "  -2.08823790e-01 -3.69645937e-01 -8.03822539e-02  1.91394973e-01\n",
            "  -9.70993602e-03  9.87074388e-03 -4.45726717e-04  6.78316595e-02\n",
            "  -1.08830886e-01  1.40472938e-01 -6.04880561e-02 -1.67966619e-01\n",
            "  -1.84906298e-02  3.74657626e-01]\n",
            " [-7.45229622e-03  1.30674825e-01 -1.86872582e-02  3.46736038e-02\n",
            "  -2.88974575e-01 -1.51396350e-01 -7.28272853e-02 -1.52322414e-01\n",
            "  -2.31530989e-01 -1.77121441e-01  2.25399674e-02 -4.75413139e-01\n",
            "  -1.18966905e-02  8.58051345e-02  5.73410232e-01  1.17460157e-01\n",
            "   6.05665008e-02 -1.08319309e-01  2.20149279e-01  1.11681884e-02\n",
            "   4.26194163e-02  3.62516360e-02  3.05585340e-02  7.93942456e-02\n",
            "   2.05852191e-01  8.40196588e-02  7.24678714e-02 -3.61707954e-02\n",
            "   2.28225053e-01  4.83606666e-02]\n",
            " [-2.23109764e-01  1.12699390e-01 -2.23739213e-01 -1.95586014e-01\n",
            "   6.42472194e-03 -1.67841425e-01  4.05910064e-02 -1.11971106e-01\n",
            "   2.56040084e-01 -1.23740789e-01  2.49985002e-01 -2.46645397e-01\n",
            "   2.27154024e-01  2.29160015e-01 -1.41924890e-01 -1.45322810e-01\n",
            "   3.58107079e-01  2.72519886e-01 -3.04077200e-01 -2.13722716e-01\n",
            "  -1.12141463e-01  1.03341204e-01 -1.09614364e-01 -8.07324609e-02\n",
            "   1.12315904e-01 -1.00677822e-01  1.61908621e-01  6.04884615e-02\n",
            "   6.46378061e-02 -1.34174175e-01]\n",
            " [ 9.54864432e-02  2.40934066e-01  8.63856150e-02  7.49564886e-02\n",
            "  -6.92926813e-02  1.29362000e-02 -1.35602298e-01  8.05452775e-03\n",
            "   5.72069479e-01  8.11032072e-02 -4.95475941e-02 -2.89142742e-01\n",
            "  -1.14508236e-01 -9.19278886e-02  1.60884609e-01  4.35048658e-02\n",
            "  -1.41276243e-01  8.62408470e-02 -3.16529830e-01  3.67541918e-01\n",
            "   7.73616428e-02  2.95509413e-02  5.05083335e-02  6.99211523e-02\n",
            "  -1.28304659e-01 -1.72133632e-01 -3.11638520e-01 -7.66482910e-02\n",
            "  -2.95630751e-02  1.26095791e-02]\n",
            " [ 4.14714866e-02 -3.02243402e-01  1.67826374e-02  1.10169643e-01\n",
            "  -1.37021842e-01 -3.08009633e-01  1.24190245e-01 -7.24460264e-02\n",
            "   1.63054081e-01 -3.80482687e-02 -2.53570194e-02  3.44944458e-01\n",
            "  -1.67318771e-01  5.16194632e-02  8.42062106e-02 -2.06885680e-01\n",
            "   3.49517943e-01 -3.42375908e-01 -1.87844043e-01  2.50624789e-01\n",
            "   1.05067333e-01  1.31572736e-02  5.10762807e-02  1.84598937e-01\n",
            "   1.43890349e-01 -1.97420469e-01  1.85016760e-01 -1.17772055e-01\n",
            "   1.57560248e-01  1.18283551e-01]\n",
            " [-5.10674568e-02 -2.54896423e-01 -3.89261058e-02 -6.54375082e-02\n",
            "  -3.16727211e-01  1.04017044e-01 -6.56534798e-02 -4.25892667e-02\n",
            "   2.88865504e-01 -2.36358988e-01  1.66879153e-02  3.06160423e-01\n",
            "   1.01446828e-01  1.76792177e-02  2.94710053e-01  2.63456509e-01\n",
            "  -2.51146975e-01  6.45875122e-03 -3.20571348e-01 -2.76165974e-01\n",
            "  -3.96796652e-02 -7.97974499e-02  8.98773800e-03 -4.80886567e-02\n",
            "  -5.65148662e-02  3.71662503e-01  8.70345324e-02  6.81253543e-02\n",
            "  -4.40335026e-02  3.47316933e-02]\n",
            " [-1.19672116e-02 -2.03461333e-01 -4.41095034e-02 -6.73757374e-02\n",
            "  -4.55736020e-02 -2.29281304e-01 -3.87090806e-01 -1.32138097e-01\n",
            "  -1.89933673e-01 -1.06239082e-01  6.81952298e-02  1.68222383e-01\n",
            "   3.78439858e-02 -5.60649318e-02 -1.50441434e-01 -1.00401699e-02\n",
            "  -1.58783192e-01  4.94026741e-01 -1.03327412e-02  2.40458323e-01\n",
            "   1.37890527e-01  8.01454315e-02  9.69657077e-02  1.01160611e-01\n",
            "   2.05130344e-01 -1.22793095e-02 -2.17984329e-01  2.54387490e-01\n",
            "   2.56534905e-01  1.72814238e-01]\n",
            " [ 5.95061348e-02 -2.15600995e-02  4.85138123e-02  1.08308292e-02\n",
            "   4.45064860e-01  8.10105720e-03 -1.89358699e-01 -2.44794768e-01\n",
            "   3.07388563e-02 -3.77078865e-01  1.03474126e-02 -1.08493473e-02\n",
            "  -4.55237175e-02  8.35707181e-02 -2.01152530e-01  4.91755932e-01\n",
            "   1.34586924e-01 -1.99666719e-01 -4.68643826e-02  1.45652466e-01\n",
            "   2.31012813e-02  5.34307917e-02  1.22193824e-02 -6.68546458e-03\n",
            "   1.62235443e-01  1.66470250e-01 -6.67989309e-02 -2.76418891e-01\n",
            "   5.35557351e-03 -2.12104110e-01]\n",
            " [-5.11187749e-02 -1.07922421e-01 -3.99029358e-02  1.39669069e-02\n",
            "  -1.18143364e-01  2.30899962e-01 -1.28283732e-01 -2.17099194e-01\n",
            "  -7.39617071e-02  5.17975705e-01 -1.10050711e-01  3.27527212e-02\n",
            "  -8.26808881e-03 -4.60243656e-02  1.85594647e-02  1.68209315e-01\n",
            "   2.50471408e-01  6.20793442e-02 -1.13383199e-01 -3.53232211e-01\n",
            "   1.66567074e-01  1.01115399e-01  1.82755198e-01  3.14993600e-01\n",
            "   4.61258656e-02 -4.99560142e-02 -2.04835886e-01 -1.69499607e-01\n",
            "   1.39888394e-01 -2.56173195e-01]\n",
            " [ 1.50583883e-01  1.57841960e-01  1.14453955e-01  1.32448032e-01\n",
            "   2.04613247e-01 -1.70178367e-01 -2.69470206e-01 -3.80464095e-01\n",
            "   1.64661588e-01  4.07927860e-02 -5.89057190e-02  3.45004006e-02\n",
            "  -2.65166513e-02 -4.11532265e-02  5.80390613e-02 -1.89830896e-01\n",
            "   1.25420649e-01  1.98810346e-01  1.57711497e-01 -2.68553878e-01\n",
            "   8.15605686e-02 -1.85557852e-01  5.48570473e-02  9.06533944e-02\n",
            "  -1.45551659e-01  1.53734861e-01  2.15021948e-01 -1.78141741e-01\n",
            "  -2.57894009e-01  4.05556492e-01]\n",
            " [ 2.02924255e-01 -3.87061187e-02  1.94821310e-01  2.55705763e-01\n",
            "   1.67929914e-01 -2.03077075e-02 -1.59835337e-03  3.45095087e-02\n",
            "  -1.91737848e-01  5.02252456e-02 -1.39396866e-01  4.39630156e-02\n",
            "  -2.46356391e-02  3.34418173e-01  1.39595006e-01 -8.24647717e-03\n",
            "   8.46167156e-02  1.08132263e-01 -2.74059129e-01 -1.22733398e-01\n",
            "  -2.40049982e-01  6.93651855e-02 -2.34164147e-01 -2.73399584e-01\n",
            "  -2.78030197e-01 -4.03712272e-03 -1.91313419e-01 -7.54853164e-02\n",
            "   4.30658116e-01  1.59394300e-01]\n",
            " [ 1.46712338e-01 -4.11029851e-02  1.58317455e-01  2.66168105e-01\n",
            "  -3.52226802e-01  7.79413843e-03 -2.69681105e-02 -8.28277367e-02\n",
            "   1.73397790e-01  8.78673570e-02 -2.36216532e-01 -9.85866201e-03\n",
            "  -2.59288003e-02  3.04906903e-01 -2.31259943e-01  1.00474235e-01\n",
            "  -1.95485228e-04  4.60549116e-02  1.87014764e-01 -5.98230982e-02\n",
            "  -2.16101353e-01  5.83984505e-02 -1.88543592e-01 -1.42064856e-01\n",
            "   5.01551675e-01 -7.35745143e-02 -1.03907980e-01  7.58138963e-02\n",
            "  -2.78713843e-01  2.35647497e-02]\n",
            " [-2.25384659e-01 -2.97886446e-02 -2.39595276e-01  2.73221894e-02\n",
            "   1.64565843e-01 -2.84222358e-01 -2.26636013e-03  1.54972363e-01\n",
            "   5.88111647e-02  5.81570509e-02 -1.75883308e-01 -3.60098518e-02\n",
            "  -3.65701538e-01  4.16572314e-01  1.32600886e-02  2.42448176e-01\n",
            "  -1.26381025e-01  1.21642969e-02  8.90392949e-02 -8.66008430e-02\n",
            "  -1.36613039e-02  7.58669276e-02 -9.08132490e-02  4.10047202e-01\n",
            "  -2.34513845e-01 -2.02007041e-02  4.57861197e-02  2.60229625e-01\n",
            "  -1.17250532e-01  1.14944811e-02]\n",
            " [ 7.02414091e-01  2.73661018e-04 -6.89896968e-01 -3.29473482e-02\n",
            "  -4.84745766e-03  4.46741863e-02  2.51386661e-02 -1.07726530e-03\n",
            "  -1.28037941e-03 -4.75568480e-03 -8.71109373e-03 -1.07103919e-03\n",
            "   1.37293906e-02  1.10532603e-03 -1.60821086e-03  1.91562235e-03\n",
            "  -8.92652653e-03 -2.16019727e-03  3.29389752e-04  1.79895682e-03\n",
            "  -1.35643056e-01  1.02053601e-03  7.97438536e-02  3.97422838e-02\n",
            "   4.58327731e-03 -1.28415624e-02  4.02139168e-04 -2.28844179e-03\n",
            "   3.95443454e-04  1.89429245e-03]\n",
            " [-2.11460455e-01  1.05339342e-02 -3.83826098e-01  4.22794920e-01\n",
            "   3.43466700e-03  4.10167739e-02  1.00147876e-02  4.20694931e-03\n",
            "   7.56986244e-03 -7.30143287e-03 -1.18442112e-01  8.77627920e-03\n",
            "   6.10021933e-03  8.59259138e-02 -1.77638619e-03 -3.15813441e-03\n",
            "  -1.60785207e-02  2.39377870e-02  5.22329189e-03  8.34191154e-03\n",
            "   6.35724917e-01 -1.72354925e-02 -2.29218029e-02 -4.44935933e-01\n",
            "  -7.38549171e-03 -3.56690392e-06  1.26757226e-02 -3.52404543e-02\n",
            "  -1.34042283e-02 -1.14776603e-02]\n",
            " [-2.11194013e-01  6.58114593e-05 -8.43382663e-02  2.72508323e-01\n",
            "  -1.47926883e-03  5.46276696e-03 -4.55386379e-02  8.88309714e-03\n",
            "  -1.43302642e-03  6.31168651e-03  1.92223890e-01  5.62261069e-03\n",
            "  -2.63191868e-01  4.20681051e-02 -9.79296328e-03  1.53955481e-02\n",
            "  -5.82097800e-03  2.90093001e-02  7.63652550e-03 -1.97564555e-02\n",
            "  -4.12639581e-01  3.90250926e-04  7.28680898e-01 -2.38960316e-01\n",
            "   1.53524821e-03 -4.86918180e-02  1.76408967e-02 -2.24756680e-02\n",
            "  -4.92048082e-03  2.35621424e-02]\n",
            " [-1.31526670e-01 -1.73573093e-02 -1.15415423e-01  4.66612477e-01\n",
            "   6.96899233e-02  9.77487054e-02  3.64808397e-01 -4.54699351e-01\n",
            "  -1.51648349e-02 -1.01244946e-01  2.12982901e-01 -1.00928890e-02\n",
            "   4.16915529e-02 -3.13358657e-01 -9.05215355e-03  4.65360884e-02\n",
            "  -8.42247975e-02 -1.11655093e-02 -1.99759830e-02 -1.20365640e-02\n",
            "  -1.78666740e-01  2.14106944e-02 -2.41031046e-01  2.37162466e-01\n",
            "  -4.08535683e-02 -7.05054136e-02 -1.42905801e-01  2.30901389e-01\n",
            "   2.27904438e-02  5.99859979e-02]\n",
            " [ 1.29476396e-01  2.45566636e-02  1.25255946e-01 -3.62727403e-01\n",
            "   3.70036864e-02 -2.62808474e-01  5.48876170e-01 -3.87643377e-01\n",
            "   1.60440385e-02  9.74048386e-02 -4.99770798e-02  1.12372419e-02\n",
            "  -1.03653282e-01  1.55304589e-01  7.71755717e-03  4.97276317e-02\n",
            "  -9.14549680e-02  1.79419192e-02  1.72678486e-02 -3.54889745e-02\n",
            "   1.97054744e-01 -3.64694332e-02  2.44103670e-01 -2.31359525e-01\n",
            "  -1.26024637e-02  1.00463424e-01 -2.66853781e-01  1.33574507e-01\n",
            "  -2.81842956e-02 -4.52048188e-03]\n",
            " [ 1.92264989e-02 -8.47459309e-02 -2.70154137e-02  2.10040780e-01\n",
            "  -2.89548850e-02 -3.96623231e-01  9.69773167e-02  1.86451602e-01\n",
            "   2.45836949e-02  2.07221864e-01  1.74930429e-01 -5.69864778e-02\n",
            "  -7.29276412e-02 -1.31850405e-01 -3.12107028e-02 -1.73164553e-01\n",
            "  -1.59399802e-02  1.29546547e-01  1.95149333e-02  8.41712034e-02\n",
            "  -7.07097238e-02  1.18189721e-01 -1.18034029e-01  3.82899511e-02\n",
            "   4.79647647e-02  6.24384938e-01 -1.15770341e-01 -2.63196337e-01\n",
            "  -4.52996243e-02 -2.80133485e-01]\n",
            " [ 1.82579441e-01 -9.87867898e-02  1.16648876e-01 -6.98483369e-02\n",
            "  -6.86974224e-02  1.04135518e-01 -4.47410568e-02 -8.40276972e-02\n",
            "  -1.93394733e-02  1.33260547e-01  5.58701567e-01 -2.42672970e-02\n",
            "  -5.16750385e-01  2.24607172e-02 -1.56311888e-02  1.21777792e-01\n",
            "  -1.88205036e-01  1.09668978e-01 -3.22620011e-03 -7.51944193e-02\n",
            "   1.56830365e-01  1.18484602e-01 -2.37113167e-01 -1.44063033e-01\n",
            "   1.09901386e-02 -1.86749953e-01  2.88852570e-01 -1.07340243e-01\n",
            "   1.43818093e-02 -3.78254532e-02]\n",
            " [ 9.85526942e-02  5.54997454e-04  4.02447050e-02 -7.77727342e-03\n",
            "   2.06657211e-02 -5.23603957e-02 -3.24870378e-01  5.14087968e-02\n",
            "   5.12005770e-02  8.46898562e-02  2.64125317e-01  8.73880467e-04\n",
            "  -9.00742110e-02 -9.82150746e-02  5.98177179e-02 -9.10387102e-03\n",
            "   3.87542329e-01 -3.51755074e-01  4.23628949e-02 -8.57810992e-02\n",
            "   5.56767923e-02  8.92289971e-03 -6.33448296e-02 -1.90889625e-01\n",
            "  -9.36901494e-02  1.47920925e-01 -2.86433135e-01  5.67527797e-01\n",
            "  -1.21343451e-01 -7.62533821e-03]\n",
            " [-7.29289034e-02 -9.48006326e-02 -7.51604777e-02 -9.75657781e-02\n",
            "  -6.38229479e-02  9.80775567e-02  1.85212003e-01  3.11852431e-01\n",
            "   1.84067326e-02 -2.87868885e-01  1.50274681e-01 -4.84569345e-02\n",
            "  -1.59352804e-01 -6.42326151e-02 -5.05449015e-02  4.52876920e-02\n",
            "   2.05212693e-01  7.25453753e-02  8.46544307e-02 -2.44705083e-01\n",
            "   9.62982088e-02  1.11112024e-01 -1.72216251e-02  9.69598236e-02\n",
            "   6.82540931e-02 -2.96764124e-02 -4.60426186e-01 -2.99840557e-01\n",
            "  -9.71448437e-02  4.69471147e-01]\n",
            " [-4.96986642e-02 -2.44134993e-01 -1.76650122e-02 -9.01437617e-02\n",
            "   1.71009601e-02  4.88686329e-01 -3.33870858e-02 -2.35407606e-01\n",
            "   2.60691555e-02 -1.75637222e-01 -9.08005031e-02 -7.16599878e-02\n",
            "  -1.77250625e-01  2.74201148e-01  9.00614773e-02 -4.61098220e-01\n",
            "   6.69461742e-02  6.88682942e-02  1.07385289e-01  2.22345297e-01\n",
            "  -5.62690874e-03  3.00599798e-01  1.10038577e-02  6.00473870e-02\n",
            "  -1.29723903e-01  2.29280589e-01 -4.64827918e-02  3.30223397e-02\n",
            "  -1.16759236e-01 -1.04991974e-01]\n",
            " [ 6.85700057e-02 -4.48369467e-01  6.97690429e-02  1.84432785e-02\n",
            "   1.19491747e-01 -1.92621396e-01 -5.57175335e-03  9.42381870e-03\n",
            "   8.69384844e-02  7.62718362e-02 -8.63867747e-02 -2.17071967e-01\n",
            "   3.04950158e-01 -1.92587786e-01  7.20987261e-02  1.40386572e-01\n",
            "  -6.30479298e-02 -3.43753236e-02  9.76995265e-02 -6.28432814e-02\n",
            "  -7.29389953e-03  5.94440143e-01  9.20235990e-02 -1.46790132e-01\n",
            "  -1.64849237e-01 -1.81374867e-01  1.32100595e-01 -8.86081478e-04\n",
            "  -1.62708549e-01  9.23439434e-02]]\n"
          ]
        }
      ]
    },
    {
      "cell_type": "code",
      "source": [
        "eig_pairs = [(np.abs(eigen_values[i]), eigen_vectors[i,:]) for i in range(len(eigen_values))]\n",
        "eig_pairs.sort(key=lambda x: x[0], reverse=True)\n",
        "eig_vals_sorted = np.array([x[0] for x in eig_pairs])\n",
        "eig_vecs_sorted = np.array([x[1] for x in eig_pairs])"
      ],
      "metadata": {
        "id": "i0H9tA9cOQhQ"
      },
      "execution_count": null,
      "outputs": []
    },
    {
      "cell_type": "markdown",
      "source": [
        "### Izracunavanje udela objasnjene varijanse"
      ],
      "metadata": {
        "id": "NN3iIVRDPjfy"
      }
    },
    {
      "cell_type": "code",
      "source": [
        "eig_vals_total = sum(eigen_values)\n",
        "explained_variance = [(i / eig_vals_total)*100 for i in eig_vals_sorted]\n",
        "explained_variance = np.round(explained_variance, 2)\n",
        "cum_explained_variance = np.cumsum(explained_variance)\n",
        "print('Explained variance: {}'.format(explained_variance))\n",
        "print('Cumulative explained variance: {}'.format(cum_explained_variance))"
      ],
      "metadata": {
        "colab": {
          "base_uri": "https://localhost:8080/"
        },
        "id": "T-8uAMjXOced",
        "outputId": "223f6fa4-e517-4a2f-d34e-0d87bb56e53f"
      },
      "execution_count": null,
      "outputs": [
        {
          "output_type": "stream",
          "name": "stdout",
          "text": [
            "Explained variance: [4.427e+01 1.897e+01 9.390e+00 6.600e+00 5.500e+00 4.020e+00 2.250e+00\n",
            " 1.590e+00 1.390e+00 1.170e+00 9.800e-01 8.700e-01 8.000e-01 5.200e-01\n",
            " 3.100e-01 2.700e-01 2.000e-01 1.800e-01 1.600e-01 1.000e-01 1.000e-01\n",
            " 9.000e-02 8.000e-02 6.000e-02 5.000e-02 3.000e-02 2.000e-02 1.000e-02\n",
            " 0.000e+00 0.000e+00]\n",
            "Cumulative explained variance: [44.27 63.24 72.63 79.23 84.73 88.75 91.   92.59 93.98 95.15 96.13 97.\n",
            " 97.8  98.32 98.63 98.9  99.1  99.28 99.44 99.54 99.64 99.73 99.81 99.87\n",
            " 99.92 99.95 99.97 99.98 99.98 99.98]\n"
          ]
        }
      ]
    },
    {
      "cell_type": "code",
      "source": [
        "n_features = len(data.feature_names)\n",
        "plt.plot(np.arange(1,n_features+1), cum_explained_variance, '-o')\n",
        "plt.xticks(np.arange(1,n_features+1))\n",
        "plt.xlabel('Number of components')\n",
        "plt.ylabel('Cumulative explained variance');\n",
        "plt.show()"
      ],
      "metadata": {
        "colab": {
          "base_uri": "https://localhost:8080/",
          "height": 449
        },
        "id": "6RjZSYXsO5Sj",
        "outputId": "078a02f9-1bbb-4f64-c3aa-fe3829ab218e"
      },
      "execution_count": null,
      "outputs": [
        {
          "output_type": "display_data",
          "data": {
            "text/plain": [
              "<Figure size 640x480 with 1 Axes>"
            ],
            "image/png": "[encoded data removed]"
          },
          "metadata": {}
        }
      ]
    },
    {
      "cell_type": "markdown",
      "source": [
        "### Matrica projekcije"
      ],
      "metadata": {
        "id": "7YvrIuBSPd0Q"
      }
    },
    {
      "cell_type": "code",
      "source": [
        "k = 15\n",
        "W = eig_vecs_sorted[:k, :]\n",
        "\n",
        "print(W.shape)"
      ],
      "metadata": {
        "colab": {
          "base_uri": "https://localhost:8080/"
        },
        "id": "w5_GaICvPMAa",
        "outputId": "037baeba-e2a1-456b-cc84-108193b302b8"
      },
      "execution_count": null,
      "outputs": [
        {
          "output_type": "stream",
          "name": "stdout",
          "text": [
            "(15, 30)\n"
          ]
        }
      ]
    },
    {
      "cell_type": "code",
      "source": [
        "X_proj=X_std.dot(W.T)"
      ],
      "metadata": {
        "id": "yG6yoSiLP0_S"
      },
      "execution_count": null,
      "outputs": []
    },
    {
      "cell_type": "markdown",
      "source": [
        "## SVD dekompozicija"
      ],
      "metadata": {
        "id": "HOQW5HUxH1HX"
      }
    },
    {
      "cell_type": "code",
      "source": [
        "## TODO: dodati scikit-learn kod za pca"
      ],
      "metadata": {
        "id": "K9O8LWqBP9E3"
      },
      "execution_count": null,
      "outputs": []
    },
    {
      "cell_type": "markdown",
      "source": [
        "### Dekomponovanje matrice podataka"
      ],
      "metadata": {
        "id": "3wxN6KuEJPdc"
      }
    },
    {
      "cell_type": "code",
      "source": [
        "U,s,Vt = la.svd(X)"
      ],
      "metadata": {
        "id": "V2PNcNPmQlXC"
      },
      "execution_count": null,
      "outputs": []
    },
    {
      "cell_type": "markdown",
      "source": [
        "### Iscrtavanje udela varijanse po komponentama"
      ],
      "metadata": {
        "id": "E2xupE2cJSs3"
      }
    },
    {
      "cell_type": "code",
      "source": [
        "S = np.zeros_like(X)\n",
        "for i in range(len(s)):\n",
        "  S[i,i]=s[i]"
      ],
      "metadata": {
        "id": "od09UBXzIfWd"
      },
      "execution_count": null,
      "outputs": []
    },
    {
      "cell_type": "code",
      "source": [
        "total_variance=sum(s)\n",
        "explained_variance_svd = [s[i]/total_variance*100 for i in range(len(s))]"
      ],
      "metadata": {
        "id": "g3Rek-WEJp3C"
      },
      "execution_count": null,
      "outputs": []
    },
    {
      "cell_type": "code",
      "source": [
        "np.cumsum(explained_variance_svd)"
      ],
      "metadata": {
        "colab": {
          "base_uri": "https://localhost:8080/"
        },
        "id": "WgxZbGEaKSXz",
        "outputId": "0f9a5dcf-3414-45cd-a415-1c566b4f46a9"
      },
      "execution_count": null,
      "outputs": [
        {
          "output_type": "execute_result",
          "data": {
            "text/plain": [
              "array([ 87.98665557,  95.07568879,  97.5920232 ,  99.17854747,\n",
              "        99.61622286,  99.77995662,  99.87213821,  99.9137195 ,\n",
              "        99.94182116,  99.96202716,  99.97467477,  99.98097849,\n",
              "        99.98500585,  99.9883475 ,  99.99082849,  99.99259654,\n",
              "        99.99395339,  99.99527215,  99.99620963,  99.99708846,\n",
              "        99.99769072,  99.99826725,  99.99866992,  99.99903324,\n",
              "        99.99931504,  99.99955585,  99.99971724,  99.99984432,\n",
              "        99.99994076, 100.        ])"
            ]
          },
          "metadata": {},
          "execution_count": 75
        }
      ]
    },
    {
      "cell_type": "code",
      "source": [
        "k = 4"
      ],
      "metadata": {
        "id": "70sa8PozLjZ4"
      },
      "execution_count": null,
      "outputs": []
    },
    {
      "cell_type": "code",
      "source": [
        "S=S[:,:k]\n",
        "Vt=Vt[:k,:]"
      ],
      "metadata": {
        "id": "XXt3NP4bL5fW"
      },
      "execution_count": null,
      "outputs": []
    },
    {
      "cell_type": "code",
      "source": [
        "B = U.dot(S.dot(Vt))"
      ],
      "metadata": {
        "id": "5x7in0E8M94t"
      },
      "execution_count": null,
      "outputs": []
    },
    {
      "cell_type": "code",
      "source": [
        "Vt.shape"
      ],
      "metadata": {
        "colab": {
          "base_uri": "https://localhost:8080/"
        },
        "id": "mCJSVApgNDaD",
        "outputId": "46b29e19-0d68-4f94-b7e5-6aa7c7b2f6ee"
      },
      "execution_count": null,
      "outputs": [
        {
          "output_type": "execute_result",
          "data": {
            "text/plain": [
              "(4, 30)"
            ]
          },
          "metadata": {},
          "execution_count": 79
        }
      ]
    },
    {
      "cell_type": "code",
      "source": [
        "S.shape"
      ],
      "metadata": {
        "colab": {
          "base_uri": "https://localhost:8080/"
        },
        "id": "IMT2jFUlND9T",
        "outputId": "6699d183-4e8f-461f-c23e-d4e452c127d0"
      },
      "execution_count": null,
      "outputs": [
        {
          "output_type": "execute_result",
          "data": {
            "text/plain": [
              "(569, 4)"
            ]
          },
          "metadata": {},
          "execution_count": 80
        }
      ]
    },
    {
      "cell_type": "markdown",
      "source": [
        "### Matrice transformacije\n",
        "\n",
        "$X = U.S.V^T $\n",
        "\n",
        "$X.V = U.S.V^T.V $\n",
        "\n",
        "$V^T.V = I$\n",
        "\n",
        "$X.V = U.S$"
      ],
      "metadata": {
        "id": "8Db23EpRPemT"
      }
    },
    {
      "cell_type": "code",
      "source": [
        "T1 = U.dot(S)"
      ],
      "metadata": {
        "id": "yD3-F6EuNMke"
      },
      "execution_count": null,
      "outputs": []
    },
    {
      "cell_type": "code",
      "source": [
        "T1.shape"
      ],
      "metadata": {
        "colab": {
          "base_uri": "https://localhost:8080/"
        },
        "id": "DMRWH9MSNT8k",
        "outputId": "acd0281e-c66f-43c1-e18d-01ec72a6370e"
      },
      "execution_count": null,
      "outputs": [
        {
          "output_type": "execute_result",
          "data": {
            "text/plain": [
              "(569, 4)"
            ]
          },
          "metadata": {},
          "execution_count": 82
        }
      ]
    },
    {
      "cell_type": "code",
      "source": [
        "T2 = X.dot(Vt.T)"
      ],
      "metadata": {
        "id": "08amD1xbNWVK"
      },
      "execution_count": null,
      "outputs": []
    },
    {
      "cell_type": "code",
      "source": [
        "T2.shape"
      ],
      "metadata": {
        "colab": {
          "base_uri": "https://localhost:8080/"
        },
        "id": "mt_VxhLCNc9H",
        "outputId": "e557e0fc-de9e-4b5e-ae39-b0d826fd3acc"
      },
      "execution_count": null,
      "outputs": [
        {
          "output_type": "execute_result",
          "data": {
            "text/plain": [
              "(569, 4)"
            ]
          },
          "metadata": {},
          "execution_count": 84
        }
      ]
    },
    {
      "cell_type": "code",
      "source": [
        "T1"
      ],
      "metadata": {
        "colab": {
          "base_uri": "https://localhost:8080/"
        },
        "id": "IggsNglxNi0_",
        "outputId": "e6f694a6-2808-4a26-8472-9c8ff6d3ac04"
      },
      "execution_count": null,
      "outputs": [
        {
          "output_type": "execute_result",
          "data": {
            "text/plain": [
              "array([[-2241.97427647,   347.71556015,   -27.53741942,   -59.80149797],\n",
              "       [-2372.40840267,    56.90166991,    23.86316187,    48.56406425],\n",
              "       [-2101.8402797 ,    11.94762737,    30.41138602,    12.07124761],\n",
              "       ...,\n",
              "       [-1424.53280954,   -55.0217124 ,    -3.5794351 ,     5.71453172],\n",
              "       [-2231.65579282,    19.99439854,     3.31619182,    11.27048277],\n",
              "       [ -331.69302638,    -5.29733966,   -39.12136435,   -31.5545363 ]])"
            ]
          },
          "metadata": {},
          "execution_count": 85
        }
      ]
    },
    {
      "cell_type": "code",
      "source": [
        "T2"
      ],
      "metadata": {
        "colab": {
          "base_uri": "https://localhost:8080/"
        },
        "id": "-dCrWqI6Np5L",
        "outputId": "09936637-6a50-43e0-b339-a2ded4df6e96"
      },
      "execution_count": null,
      "outputs": [
        {
          "output_type": "execute_result",
          "data": {
            "text/plain": [
              "array([[-2241.97427647,   347.71556015,   -27.53741942,   -59.80149797],\n",
              "       [-2372.40840267,    56.90166991,    23.86316187,    48.56406425],\n",
              "       [-2101.8402797 ,    11.94762737,    30.41138602,    12.07124761],\n",
              "       ...,\n",
              "       [-1424.53280954,   -55.0217124 ,    -3.5794351 ,     5.71453172],\n",
              "       [-2231.65579282,    19.99439854,     3.31619182,    11.27048277],\n",
              "       [ -331.69302638,    -5.29733966,   -39.12136435,   -31.5545363 ]])"
            ]
          },
          "metadata": {},
          "execution_count": 86
        }
      ]
    },
    {
      "cell_type": "code",
      "source": [
        "((T1-T2)<0.0001).all()"
      ],
      "metadata": {
        "colab": {
          "base_uri": "https://localhost:8080/"
        },
        "id": "z2gpSSO_POjP",
        "outputId": "fc12d670-ffec-4208-cda4-a73b93f267f0"
      },
      "execution_count": null,
      "outputs": [
        {
          "output_type": "execute_result",
          "data": {
            "text/plain": [
              "True"
            ]
          },
          "metadata": {},
          "execution_count": 89
        }
      ]
    },
    {
      "cell_type": "code",
      "source": [
        "from sklearn.decomposition import TruncatedSVD"
      ],
      "metadata": {
        "id": "_T_2-w0DPQcL"
      },
      "execution_count": null,
      "outputs": []
    },
    {
      "cell_type": "code",
      "source": [
        "svd = TruncatedSVD()"
      ],
      "metadata": {
        "id": "L62B_slkQnpL"
      },
      "execution_count": null,
      "outputs": []
    },
    {
      "cell_type": "code",
      "source": [
        "X_svd = svd.fit_transform(X)\n",
        "X_svd"
      ],
      "metadata": {
        "colab": {
          "base_uri": "https://localhost:8080/"
        },
        "id": "532coBOZQqPH",
        "outputId": "285dcc24-9244-4ede-aa43-e5e9304721b0"
      },
      "execution_count": null,
      "outputs": [
        {
          "output_type": "execute_result",
          "data": {
            "text/plain": [
              "array([[2241.97427647, -347.71556015],\n",
              "       [2372.40840267,  -56.90166991],\n",
              "       [2101.8402797 ,  -11.94762737],\n",
              "       ...,\n",
              "       [1424.53280954,   55.0217124 ],\n",
              "       [2231.65579282,  -19.99439854],\n",
              "       [ 331.69302638,    5.29733966]])"
            ]
          },
          "metadata": {},
          "execution_count": 93
        }
      ]
    },
    {
      "cell_type": "code",
      "source": [
        "from sklearn.utils.extmath import randomized_svd"
      ],
      "metadata": {
        "id": "Atf33W0pQsl6"
      },
      "execution_count": null,
      "outputs": []
    },
    {
      "cell_type": "code",
      "source": [
        "X_svd_r = randomized_svd(X, n_components=2, random_state=0)"
      ],
      "metadata": {
        "id": "6tn9jV1IQ9hI"
      },
      "execution_count": null,
      "outputs": []
    },
    {
      "cell_type": "code",
      "source": [
        "[U, s, V_t] = X_svd_r"
      ],
      "metadata": {
        "id": "9u6tJMiXQ_0Q"
      },
      "execution_count": null,
      "outputs": []
    },
    {
      "cell_type": "code",
      "source": [
        "X_svd_r"
      ],
      "metadata": {
        "colab": {
          "base_uri": "https://localhost:8080/"
        },
        "id": "hrFCwm09RBqR",
        "outputId": "f8e32053-fbbe-4113-c290-627d124cb903"
      },
      "execution_count": null,
      "outputs": [
        {
          "output_type": "execute_result",
          "data": {
            "text/plain": [
              "(array([[ 0.07282342,  0.14018269],\n",
              "        [ 0.07706016,  0.0229401 ],\n",
              "        [ 0.06827161,  0.00481673],\n",
              "        ...,\n",
              "        [ 0.04627143, -0.02218219],\n",
              "        [ 0.07248826,  0.00806081],\n",
              "        [ 0.010774  , -0.00213564]]),\n",
              " array([30786.44462784,  2480.44578339]),\n",
              " array([[ 1.07417853e-02,  1.34045777e-02,  7.04506088e-02,\n",
              "          5.72522445e-01,  6.51751678e-05,  8.01017182e-05,\n",
              "          8.07639302e-05,  4.51934799e-05,  1.22298430e-04,\n",
              "          4.10463505e-05,  3.52395083e-04,  7.91756415e-04,\n",
              "          2.49763979e-03,  4.15710660e-02,  4.46726431e-06,\n",
              "          1.84034785e-05,  2.35606720e-05,  8.71328141e-06,\n",
              "          1.33301479e-05,  2.50009455e-06,  1.27106222e-02,\n",
              "          1.78787301e-02,  8.44072509e-02,  8.10936848e-01,\n",
              "          8.96729192e-05,  1.95800247e-04,  2.25664038e-04,\n",
              "          9.56995686e-05,  1.97533332e-04,  5.62166955e-05],\n",
              "        [-3.10857421e-02, -4.83124253e-02, -1.97364828e-01,\n",
              "         -7.70224130e-01, -2.62097172e-04, -1.75341873e-04,\n",
              "         -4.07661495e-05, -1.69018436e-05, -4.97684199e-04,\n",
              "         -1.84499403e-04, -8.41315666e-05, -4.03047670e-03,\n",
              "         -1.33910533e-03,  6.79661807e-02, -2.42657052e-05,\n",
              "         -6.56841723e-05, -8.35322707e-05, -3.01365028e-05,\n",
              "         -7.25209655e-05, -1.16619632e-05, -2.41432752e-02,\n",
              "         -5.79087644e-02, -1.54087672e-01,  5.76353692e-01,\n",
              "         -3.22213232e-04, -2.65381775e-04, -1.46636756e-04,\n",
              "         -7.94819348e-05, -7.03619455e-04, -2.08881378e-04]]))"
            ]
          },
          "metadata": {},
          "execution_count": 97
        }
      ]
    },
    {
      "cell_type": "code",
      "source": [],
      "metadata": {
        "id": "Emz-_ww4REc5"
      },
      "execution_count": null,
      "outputs": []
    }
  ]
}