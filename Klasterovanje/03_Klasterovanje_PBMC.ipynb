{
 "cells": [
  {
   "cell_type": "markdown",
   "id": "1d61f5db",
   "metadata": {},
   "source": [
    "# Klasterovanje - 3. čas"
   ]
  },
  {
   "cell_type": "markdown",
   "id": "83f49756",
   "metadata": {},
   "source": [
    "**Peripheral Blood Mononuclear Cells (PBMC)** su tip ćelija koje se nalaze u ljudskoj krvi i igraju ključnu ulogu u imunološkom sistemu. To su ćelije koje imaju jednu okruglu jedrovu strukturu, pa su zbog toga poznate kao \"mononuklearne ćelije.\" PBMC uključuju **limfocite** (kao što su T ćelije, B ćelije, i prirodne ćelije ubice – NK ćelije) i **monocite**. Zajedno, ovi tipovi ćelija pomažu telu da prepozna i odgovori na patogene, kao što su virusi i bakterije, i imaju ključnu ulogu u održavanju zdravlja kroz imunološku funkciju.\n",
    "\n",
    "Na sajtu predmeta se mogu preuzeti PBMC podaci. U datasetu, svaki red predstavlja jednu ćeliju u kojoj su izmereni nivoi ekspresije gena koji su važni za funkciju te ćelije. Ekspresija gena, odnosno koliko je određeni gen \"aktiviran\" u ćeliji, meri se brojčano. Tako na primer, visoka ekspresija gena CD3D i CD3E ukazuje na prisustvo T ćelije, jer su ti geni karakteristični za T ćelije.\n",
    "\n",
    "Ovaj dataset nam omogućava da analiziramo koji geni su aktivni u različitim tipovima ćelija imunog sistema. Na primer, možemo razumeti kako se B ćelije razlikuju od T ćelija na osnovu njihovih gena i pratiti kako imunološke ćelije reaguju u stanjima kao što su infekcije ili autoimuni poremećaji."
   ]
  },
  {
   "cell_type": "code",
   "execution_count": 1,
   "id": "4e869c81",
   "metadata": {},
   "outputs": [],
   "source": [
    "import re\n",
    "import numpy as np\n",
    "import pandas as pd\n",
    "import matplotlib.pyplot as plt"
   ]
  },
  {
   "cell_type": "code",
   "execution_count": 2,
   "id": "a6978c97",
   "metadata": {},
   "outputs": [],
   "source": [
    "from scipy.cluster.hierarchy import dendrogram\n",
    "from sklearn.metrics import silhouette_score, homogeneity_score\n",
    "from sklearn.neighbors import kneighbors_graph\n",
    "from sklearn.metrics import confusion_matrix, silhouette_score, homogeneity_score\n",
    "from sklearn.cluster import KMeans, SpectralClustering, AgglomerativeClustering\n",
    "from sklearn.decomposition import PCA"
   ]
  },
  {
   "cell_type": "code",
   "execution_count": 3,
   "id": "1b2050de",
   "metadata": {},
   "outputs": [],
   "source": [
    "data = pd.read_csv('../../pbmc_za_vezbu/D15_BS1_1.csv', header=None)"
   ]
  },
  {
   "cell_type": "code",
   "execution_count": 4,
   "id": "3abe315b",
   "metadata": {},
   "outputs": [
    {
     "data": {
      "text/html": [
       "<div>\n",
       "<style scoped>\n",
       "    .dataframe tbody tr th:only-of-type {\n",
       "        vertical-align: middle;\n",
       "    }\n",
       "\n",
       "    .dataframe tbody tr th {\n",
       "        vertical-align: top;\n",
       "    }\n",
       "\n",
       "    .dataframe thead th {\n",
       "        text-align: right;\n",
       "    }\n",
       "</style>\n",
       "<table border=\"1\" class=\"dataframe\">\n",
       "  <thead>\n",
       "    <tr style=\"text-align: right;\">\n",
       "      <th></th>\n",
       "      <th>0</th>\n",
       "      <th>1</th>\n",
       "      <th>2</th>\n",
       "      <th>3</th>\n",
       "      <th>4</th>\n",
       "      <th>5</th>\n",
       "      <th>6</th>\n",
       "      <th>7</th>\n",
       "      <th>8</th>\n",
       "      <th>9</th>\n",
       "      <th>...</th>\n",
       "      <th>11</th>\n",
       "      <th>12</th>\n",
       "      <th>13</th>\n",
       "      <th>14</th>\n",
       "      <th>15</th>\n",
       "      <th>16</th>\n",
       "      <th>17</th>\n",
       "      <th>18</th>\n",
       "      <th>19</th>\n",
       "      <th>20</th>\n",
       "    </tr>\n",
       "  </thead>\n",
       "  <tbody>\n",
       "    <tr>\n",
       "      <th>0</th>\n",
       "      <td>row_desc</td>\n",
       "      <td>hg38_CD3D</td>\n",
       "      <td>hg38_CTSS</td>\n",
       "      <td>hg38_RPS26</td>\n",
       "      <td>hg38_IL32</td>\n",
       "      <td>hg38_FCER1A</td>\n",
       "      <td>hg38_CSTA</td>\n",
       "      <td>hg38_GZMB</td>\n",
       "      <td>hg38_CD74</td>\n",
       "      <td>hg38_RPS27</td>\n",
       "      <td>...</td>\n",
       "      <td>hg38_CD3E</td>\n",
       "      <td>hg38_KLRF1</td>\n",
       "      <td>hg38_LYZ</td>\n",
       "      <td>hg38_S100A9</td>\n",
       "      <td>hg38_CD79A</td>\n",
       "      <td>Group</td>\n",
       "      <td>Cell_type</td>\n",
       "      <td>Cell_subtype</td>\n",
       "      <td>Combination</td>\n",
       "      <td>Izbor_1</td>\n",
       "    </tr>\n",
       "    <tr>\n",
       "      <th>1</th>\n",
       "      <td>BS1__BC__1-OK-B_cells_Bmemory-580-BOS-BROADS1-...</td>\n",
       "      <td>0</td>\n",
       "      <td>0</td>\n",
       "      <td>3</td>\n",
       "      <td>0</td>\n",
       "      <td>0</td>\n",
       "      <td>0</td>\n",
       "      <td>0</td>\n",
       "      <td>7</td>\n",
       "      <td>7</td>\n",
       "      <td>...</td>\n",
       "      <td>0</td>\n",
       "      <td>0</td>\n",
       "      <td>0</td>\n",
       "      <td>0</td>\n",
       "      <td>4</td>\n",
       "      <td>BS1</td>\n",
       "      <td>BC</td>\n",
       "      <td>Bmemory</td>\n",
       "      <td>BS1 BC</td>\n",
       "      <td>1_Training</td>\n",
       "    </tr>\n",
       "    <tr>\n",
       "      <th>2</th>\n",
       "      <td>BS1__BC__1-OK-B_cells_Bmemory-580-BOS-BROADS1-...</td>\n",
       "      <td>0</td>\n",
       "      <td>3</td>\n",
       "      <td>3</td>\n",
       "      <td>0</td>\n",
       "      <td>0</td>\n",
       "      <td>0</td>\n",
       "      <td>0</td>\n",
       "      <td>6</td>\n",
       "      <td>7</td>\n",
       "      <td>...</td>\n",
       "      <td>0</td>\n",
       "      <td>0</td>\n",
       "      <td>0</td>\n",
       "      <td>0</td>\n",
       "      <td>4</td>\n",
       "      <td>BS1</td>\n",
       "      <td>BC</td>\n",
       "      <td>Bmemory</td>\n",
       "      <td>BS1 BC</td>\n",
       "      <td>1_Training</td>\n",
       "    </tr>\n",
       "    <tr>\n",
       "      <th>3</th>\n",
       "      <td>BS1__BC__1-OK-B_cells_Bmemory-580-BOS-BROADS1-...</td>\n",
       "      <td>3</td>\n",
       "      <td>0</td>\n",
       "      <td>3</td>\n",
       "      <td>4</td>\n",
       "      <td>0</td>\n",
       "      <td>0</td>\n",
       "      <td>0</td>\n",
       "      <td>5</td>\n",
       "      <td>7</td>\n",
       "      <td>...</td>\n",
       "      <td>3</td>\n",
       "      <td>0</td>\n",
       "      <td>0</td>\n",
       "      <td>0</td>\n",
       "      <td>2</td>\n",
       "      <td>BS1</td>\n",
       "      <td>BC</td>\n",
       "      <td>Bmemory</td>\n",
       "      <td>BS1 BC</td>\n",
       "      <td>1_Training</td>\n",
       "    </tr>\n",
       "    <tr>\n",
       "      <th>4</th>\n",
       "      <td>BS1__BC__1-OK-B_cells_Bmemory-580-BOS-BROADS1-...</td>\n",
       "      <td>0</td>\n",
       "      <td>3</td>\n",
       "      <td>0</td>\n",
       "      <td>0</td>\n",
       "      <td>0</td>\n",
       "      <td>0</td>\n",
       "      <td>0</td>\n",
       "      <td>7</td>\n",
       "      <td>7</td>\n",
       "      <td>...</td>\n",
       "      <td>0</td>\n",
       "      <td>0</td>\n",
       "      <td>0</td>\n",
       "      <td>0</td>\n",
       "      <td>4</td>\n",
       "      <td>BS1</td>\n",
       "      <td>BC</td>\n",
       "      <td>Bmemory</td>\n",
       "      <td>BS1 BC</td>\n",
       "      <td>2_Testing</td>\n",
       "    </tr>\n",
       "    <tr>\n",
       "      <th>...</th>\n",
       "      <td>...</td>\n",
       "      <td>...</td>\n",
       "      <td>...</td>\n",
       "      <td>...</td>\n",
       "      <td>...</td>\n",
       "      <td>...</td>\n",
       "      <td>...</td>\n",
       "      <td>...</td>\n",
       "      <td>...</td>\n",
       "      <td>...</td>\n",
       "      <td>...</td>\n",
       "      <td>...</td>\n",
       "      <td>...</td>\n",
       "      <td>...</td>\n",
       "      <td>...</td>\n",
       "      <td>...</td>\n",
       "      <td>...</td>\n",
       "      <td>...</td>\n",
       "      <td>...</td>\n",
       "      <td>...</td>\n",
       "      <td>...</td>\n",
       "    </tr>\n",
       "    <tr>\n",
       "      <th>13179</th>\n",
       "      <td>BS1__TC__1-OK-T_cells_T8naive-860-NYC-BROADS1-...</td>\n",
       "      <td>3</td>\n",
       "      <td>3</td>\n",
       "      <td>5</td>\n",
       "      <td>4</td>\n",
       "      <td>0</td>\n",
       "      <td>0</td>\n",
       "      <td>0</td>\n",
       "      <td>0</td>\n",
       "      <td>7</td>\n",
       "      <td>...</td>\n",
       "      <td>4</td>\n",
       "      <td>0</td>\n",
       "      <td>0</td>\n",
       "      <td>0</td>\n",
       "      <td>0</td>\n",
       "      <td>BS1</td>\n",
       "      <td>TC</td>\n",
       "      <td>T8naive</td>\n",
       "      <td>BS1 TC</td>\n",
       "      <td>3_Validation</td>\n",
       "    </tr>\n",
       "    <tr>\n",
       "      <th>13180</th>\n",
       "      <td>BS1__TC__1-OK-T_cells_T8naive-860-NYC-BROADS1-...</td>\n",
       "      <td>3</td>\n",
       "      <td>0</td>\n",
       "      <td>5</td>\n",
       "      <td>4</td>\n",
       "      <td>0</td>\n",
       "      <td>0</td>\n",
       "      <td>0</td>\n",
       "      <td>3</td>\n",
       "      <td>7</td>\n",
       "      <td>...</td>\n",
       "      <td>4</td>\n",
       "      <td>0</td>\n",
       "      <td>0</td>\n",
       "      <td>3</td>\n",
       "      <td>3</td>\n",
       "      <td>BS1</td>\n",
       "      <td>TC</td>\n",
       "      <td>T8naive</td>\n",
       "      <td>BS1 TC</td>\n",
       "      <td>1_Training</td>\n",
       "    </tr>\n",
       "    <tr>\n",
       "      <th>13181</th>\n",
       "      <td>BS1__TC__1-OK-T_cells_T8naive-860-NYC-BROADS1-...</td>\n",
       "      <td>3</td>\n",
       "      <td>0</td>\n",
       "      <td>5</td>\n",
       "      <td>3</td>\n",
       "      <td>0</td>\n",
       "      <td>0</td>\n",
       "      <td>0</td>\n",
       "      <td>3</td>\n",
       "      <td>7</td>\n",
       "      <td>...</td>\n",
       "      <td>4</td>\n",
       "      <td>0</td>\n",
       "      <td>3</td>\n",
       "      <td>3</td>\n",
       "      <td>0</td>\n",
       "      <td>BS1</td>\n",
       "      <td>TC</td>\n",
       "      <td>T8naive</td>\n",
       "      <td>BS1 TC</td>\n",
       "      <td>2_Testing</td>\n",
       "    </tr>\n",
       "    <tr>\n",
       "      <th>13182</th>\n",
       "      <td>BS1__TC__1-OK-T_cells_T8naive-860-NYC-BROADS1-...</td>\n",
       "      <td>3</td>\n",
       "      <td>0</td>\n",
       "      <td>5</td>\n",
       "      <td>4</td>\n",
       "      <td>0</td>\n",
       "      <td>0</td>\n",
       "      <td>0</td>\n",
       "      <td>0</td>\n",
       "      <td>7</td>\n",
       "      <td>...</td>\n",
       "      <td>4</td>\n",
       "      <td>0</td>\n",
       "      <td>3</td>\n",
       "      <td>0</td>\n",
       "      <td>0</td>\n",
       "      <td>BS1</td>\n",
       "      <td>TC</td>\n",
       "      <td>T8naive</td>\n",
       "      <td>BS1 TC</td>\n",
       "      <td>1_Training</td>\n",
       "    </tr>\n",
       "    <tr>\n",
       "      <th>13183</th>\n",
       "      <td>BS1__TC__1-OK-T_cells_T8naive-860-NYC-BROADS1-...</td>\n",
       "      <td>4</td>\n",
       "      <td>3</td>\n",
       "      <td>6</td>\n",
       "      <td>3</td>\n",
       "      <td>0</td>\n",
       "      <td>0</td>\n",
       "      <td>0</td>\n",
       "      <td>0</td>\n",
       "      <td>7</td>\n",
       "      <td>...</td>\n",
       "      <td>3</td>\n",
       "      <td>0</td>\n",
       "      <td>0</td>\n",
       "      <td>3</td>\n",
       "      <td>0</td>\n",
       "      <td>BS1</td>\n",
       "      <td>TC</td>\n",
       "      <td>T8naive</td>\n",
       "      <td>BS1 TC</td>\n",
       "      <td>2_Testing</td>\n",
       "    </tr>\n",
       "  </tbody>\n",
       "</table>\n",
       "<p>13184 rows × 21 columns</p>\n",
       "</div>"
      ],
      "text/plain": [
       "                                                      0          1   \\\n",
       "0                                               row_desc  hg38_CD3D   \n",
       "1      BS1__BC__1-OK-B_cells_Bmemory-580-BOS-BROADS1-...          0   \n",
       "2      BS1__BC__1-OK-B_cells_Bmemory-580-BOS-BROADS1-...          0   \n",
       "3      BS1__BC__1-OK-B_cells_Bmemory-580-BOS-BROADS1-...          3   \n",
       "4      BS1__BC__1-OK-B_cells_Bmemory-580-BOS-BROADS1-...          0   \n",
       "...                                                  ...        ...   \n",
       "13179  BS1__TC__1-OK-T_cells_T8naive-860-NYC-BROADS1-...          3   \n",
       "13180  BS1__TC__1-OK-T_cells_T8naive-860-NYC-BROADS1-...          3   \n",
       "13181  BS1__TC__1-OK-T_cells_T8naive-860-NYC-BROADS1-...          3   \n",
       "13182  BS1__TC__1-OK-T_cells_T8naive-860-NYC-BROADS1-...          3   \n",
       "13183  BS1__TC__1-OK-T_cells_T8naive-860-NYC-BROADS1-...          4   \n",
       "\n",
       "              2           3          4            5          6          7   \\\n",
       "0      hg38_CTSS  hg38_RPS26  hg38_IL32  hg38_FCER1A  hg38_CSTA  hg38_GZMB   \n",
       "1              0           3          0            0          0          0   \n",
       "2              3           3          0            0          0          0   \n",
       "3              0           3          4            0          0          0   \n",
       "4              3           0          0            0          0          0   \n",
       "...          ...         ...        ...          ...        ...        ...   \n",
       "13179          3           5          4            0          0          0   \n",
       "13180          0           5          4            0          0          0   \n",
       "13181          0           5          3            0          0          0   \n",
       "13182          0           5          4            0          0          0   \n",
       "13183          3           6          3            0          0          0   \n",
       "\n",
       "              8           9   ...         11          12        13  \\\n",
       "0      hg38_CD74  hg38_RPS27  ...  hg38_CD3E  hg38_KLRF1  hg38_LYZ   \n",
       "1              7           7  ...          0           0         0   \n",
       "2              6           7  ...          0           0         0   \n",
       "3              5           7  ...          3           0         0   \n",
       "4              7           7  ...          0           0         0   \n",
       "...          ...         ...  ...        ...         ...       ...   \n",
       "13179          0           7  ...          4           0         0   \n",
       "13180          3           7  ...          4           0         0   \n",
       "13181          3           7  ...          4           0         3   \n",
       "13182          0           7  ...          4           0         3   \n",
       "13183          0           7  ...          3           0         0   \n",
       "\n",
       "                14          15     16         17            18           19  \\\n",
       "0      hg38_S100A9  hg38_CD79A  Group  Cell_type  Cell_subtype  Combination   \n",
       "1                0           4    BS1         BC       Bmemory       BS1 BC   \n",
       "2                0           4    BS1         BC       Bmemory       BS1 BC   \n",
       "3                0           2    BS1         BC       Bmemory       BS1 BC   \n",
       "4                0           4    BS1         BC       Bmemory       BS1 BC   \n",
       "...            ...         ...    ...        ...           ...          ...   \n",
       "13179            0           0    BS1         TC       T8naive       BS1 TC   \n",
       "13180            3           3    BS1         TC       T8naive       BS1 TC   \n",
       "13181            3           0    BS1         TC       T8naive       BS1 TC   \n",
       "13182            0           0    BS1         TC       T8naive       BS1 TC   \n",
       "13183            3           0    BS1         TC       T8naive       BS1 TC   \n",
       "\n",
       "                 20  \n",
       "0           Izbor_1  \n",
       "1        1_Training  \n",
       "2        1_Training  \n",
       "3        1_Training  \n",
       "4         2_Testing  \n",
       "...             ...  \n",
       "13179  3_Validation  \n",
       "13180    1_Training  \n",
       "13181     2_Testing  \n",
       "13182    1_Training  \n",
       "13183     2_Testing  \n",
       "\n",
       "[13184 rows x 21 columns]"
      ]
     },
     "execution_count": 4,
     "metadata": {},
     "output_type": "execute_result"
    }
   ],
   "source": [
    "data"
   ]
  },
  {
   "cell_type": "code",
   "execution_count": 13,
   "id": "96000c70",
   "metadata": {},
   "outputs": [
    {
     "data": {
      "text/plain": [
       "'BS1__BC__1-OK-B_cells_Bmemory-580-BOS-BROADS1-CHECKED_VB_5'"
      ]
     },
     "execution_count": 13,
     "metadata": {},
     "output_type": "execute_result"
    }
   ],
   "source": [
    "data.iloc[1,0]"
   ]
  },
  {
   "cell_type": "code",
   "execution_count": 14,
   "id": "69b5a417",
   "metadata": {},
   "outputs": [
    {
     "data": {
      "text/plain": [
       "'BS1__BC__1-OK-B_cells_Bmemory-580-BOS-BROADS1-CHECKED_VB_13'"
      ]
     },
     "execution_count": 14,
     "metadata": {},
     "output_type": "execute_result"
    }
   ],
   "source": [
    "data.iloc[2,0]"
   ]
  },
  {
   "cell_type": "code",
   "execution_count": 15,
   "id": "f2fbd9f0",
   "metadata": {},
   "outputs": [
    {
     "data": {
      "text/plain": [
       "'BS1__BC__1-OK-B_cells_Bmemory-580-BOS-BROADS1-CHECKED_VB_19'"
      ]
     },
     "execution_count": 15,
     "metadata": {},
     "output_type": "execute_result"
    }
   ],
   "source": [
    "data.iloc[3,0]"
   ]
  },
  {
   "cell_type": "markdown",
   "id": "15cee9d6",
   "metadata": {},
   "source": [
    "Ako sufiksi označavaju varijacije iste osnovne klase (npr., B ćelija_1, B ćelija_2), uklanjanjem sufiksa dobija se ujednačena oznaka klase (npr., samo B ćelija). Ovo pomaže pri grupisanju ćelija po istim osnovnim tipovima, umesto po podvarijantama. Ujednačeni nazivi bez sufiksa pojednostavljuju analizu i vizualizaciju jer se različite podvarijante posmatraju kao jedna kategorija, što može biti korisno u analizama koje nisu fokusirane na detalje između podtipova."
   ]
  },
  {
   "cell_type": "code",
   "execution_count": 16,
   "id": "b149b60b",
   "metadata": {},
   "outputs": [],
   "source": [
    "# Regularnim izrazom se pronalaze i uklanjaju sufiksi _1 _2, ...\n",
    "klase = data.iloc[:, 0].apply(lambda x: re.sub(r'_\\d+$', '', x))"
   ]
  },
  {
   "cell_type": "code",
   "execution_count": 27,
   "id": "8c7c73b4",
   "metadata": {},
   "outputs": [
    {
     "data": {
      "text/plain": [
       "'row_desc'"
      ]
     },
     "execution_count": 27,
     "metadata": {},
     "output_type": "execute_result"
    }
   ],
   "source": [
    "klase[0]"
   ]
  },
  {
   "cell_type": "code",
   "execution_count": 21,
   "id": "c5c6c12b",
   "metadata": {},
   "outputs": [
    {
     "data": {
      "text/plain": [
       "'BS1__BC__1-OK-B_cells_Bmemory-580-BOS-BROADS1-CHECKED_VB'"
      ]
     },
     "execution_count": 21,
     "metadata": {},
     "output_type": "execute_result"
    }
   ],
   "source": [
    "klase[1]"
   ]
  },
  {
   "cell_type": "code",
   "execution_count": 22,
   "id": "90139f41",
   "metadata": {},
   "outputs": [
    {
     "data": {
      "text/plain": [
       "'BS1__BC__1-OK-B_cells_Bmemory-580-BOS-BROADS1-CHECKED_VB'"
      ]
     },
     "execution_count": 22,
     "metadata": {},
     "output_type": "execute_result"
    }
   ],
   "source": [
    "klase[2]"
   ]
  },
  {
   "cell_type": "code",
   "execution_count": 23,
   "id": "e8ffea67",
   "metadata": {},
   "outputs": [
    {
     "data": {
      "text/plain": [
       "'BS1__BC__1-OK-B_cells_Bmemory-580-BOS-BROADS1-CHECKED_VB'"
      ]
     },
     "execution_count": 23,
     "metadata": {},
     "output_type": "execute_result"
    }
   ],
   "source": [
    "klase[10]"
   ]
  },
  {
   "cell_type": "code",
   "execution_count": 26,
   "id": "852e21c2",
   "metadata": {},
   "outputs": [
    {
     "data": {
      "text/plain": [
       "array(['BS1__BC__1-OK-B_cells_Bmemory-580-BOS-BROADS1-CHECKED_VB',\n",
       "       'BS1__BC__1-OK-B_cells_Bmemory-580-NYC-BROADS1-CHECKED_VB',\n",
       "       'BS1__BC__1-OK-B_cells_Bmemory-860-BOS-BROADS1-CHECKED_VB',\n",
       "       'BS1__BC__1-OK-B_cells_Bmemory-860-NYC-BROADS1-CHECKED_VB',\n",
       "       'BS1__BC__1-OK-B_cells_Bnaive-580-BOS-BROADS1-CHECKED_VB',\n",
       "       'BS1__BC__1-OK-B_cells_Bnaive-580-NYC-BROADS1-CHECKED_VB',\n",
       "       'BS1__BC__1-OK-B_cells_Bnaive-860-BOS-BROADS1-CHECKED_VB',\n",
       "       'BS1__BC__1-OK-B_cells_Bnaive-860-NYC-BROADS1-CHECKED_VB',\n",
       "       'BS1__DC__1-OK-DC_cells_ALL-580-BOS-BROADS1-CHECKED_VB',\n",
       "       'BS1__DC__1-OK-DC_cells_ALL-580-NYC-BROADS1-CHECKED_VB',\n",
       "       'BS1__DC__1-OK-DC_cells_ALL-860-BOS-BROADS1-CHECKED_VB',\n",
       "       'BS1__DC__1-OK-DC_cells_ALL-860-NYC-BROADS1-CHECKED_VB',\n",
       "       'BS1__MC__1-OK-Monocytes_CD14+M-580-BOS-BROADS1-CHECKED_VB',\n",
       "       'BS1__MC__1-OK-Monocytes_CD14+M-580-NYC-BROADS1-CHECKED_VB',\n",
       "       'BS1__MC__1-OK-Monocytes_CD14+M-860-BOS-BROADS1-CHECKED_VB',\n",
       "       'BS1__MC__1-OK-Monocytes_CD14+M-860-NYC-BROADS1-CHECKED_VB',\n",
       "       'BS1__MC__1-OK-Monocytes_CD16+M-580-BOS-BROADS1-CHECKED_VB',\n",
       "       'BS1__MC__1-OK-Monocytes_CD16+M-580-NYC-BROADS1-CHECKED_VB',\n",
       "       'BS1__MC__1-OK-Monocytes_CD16+M-860-BOS-BROADS1-CHECKED_VB',\n",
       "       'BS1__MC__1-OK-Monocytes_CD16+M-860-NYC-BROADS1-CHECKED_VB',\n",
       "       'BS1__NK__1-OK-NK_cells_ALL-580-BOS-BROADS1-CHECKED_VB',\n",
       "       'BS1__NK__1-OK-NK_cells_ALL-580-NYC-BROADS1-CHECKED_VB',\n",
       "       'BS1__NK__1-OK-NK_cells_ALL-860-BOS-BROADS1-CHECKED_VB',\n",
       "       'BS1__NK__1-OK-NK_cells_ALL-860-NYC-BROADS1-CHECKED_VB',\n",
       "       'BS1__TC__1-OK-T_cells_NonClassicalT-580-BOS-BROADS1-CHECKED_VB',\n",
       "       'BS1__TC__1-OK-T_cells_NonClassicalT-580-NYC-BROADS1-CHECKED_VB',\n",
       "       'BS1__TC__1-OK-T_cells_NonClassicalT-860-BOS-BROADS1-CHECKED_VB',\n",
       "       'BS1__TC__1-OK-T_cells_NonClassicalT-860-NYC-BROADS1-CHECKED_VB',\n",
       "       'BS1__TC__1-OK-T_cells_T4eff.mem-580-BOS-BROADS1-CHECKED_VB',\n",
       "       'BS1__TC__1-OK-T_cells_T4eff.mem-580-NYC-BROADS1-CHECKED_VB',\n",
       "       'BS1__TC__1-OK-T_cells_T4eff.mem-860-BOS-BROADS1-CHECKED_VB',\n",
       "       'BS1__TC__1-OK-T_cells_T4eff.mem-860-NYC-BROADS1-CHECKED_VB',\n",
       "       'BS1__TC__1-OK-T_cells_T4naive-580-BOS-BROADS1-CHECKED_VB',\n",
       "       'BS1__TC__1-OK-T_cells_T4naive-580-NYC-BROADS1-CHECKED_VB',\n",
       "       'BS1__TC__1-OK-T_cells_T4naive-860-BOS-BROADS1-CHECKED_VB',\n",
       "       'BS1__TC__1-OK-T_cells_T4naive-860-NYC-BROADS1-CHECKED_VB',\n",
       "       'BS1__TC__1-OK-T_cells_T8eff.mem-580-BOS-BOS-BROADS1-CHECKED_VB',\n",
       "       'BS1__TC__1-OK-T_cells_T8eff.mem-580-NYC-BROADS1-CHECKED_VB',\n",
       "       'BS1__TC__1-OK-T_cells_T8eff.mem-860-BOS-BOS-BROADS1-CHECKED_VB',\n",
       "       'BS1__TC__1-OK-T_cells_T8eff.mem-860-NYC-BROADS1-CHECKED_VB',\n",
       "       'BS1__TC__1-OK-T_cells_T8naive-580-BOS-BROADS1-CHECKED_VB',\n",
       "       'BS1__TC__1-OK-T_cells_T8naive-580-NYC-BROADS1-CHECKED_VB',\n",
       "       'BS1__TC__1-OK-T_cells_T8naive-860-BROADS1-CHECKED_VB',\n",
       "       'BS1__TC__1-OK-T_cells_T8naive-860-NYC-BROADS1-CHECKED_VB',\n",
       "       'BS1__TC__1-OK-T_cells_aTreg-580-BOS-BROADS1-CHECKED_VB',\n",
       "       'BS1__TC__1-OK-T_cells_aTreg-580-NYC-BROADS1-CHECKED_VB',\n",
       "       'BS1__TC__1-OK-T_cells_aTreg-860-BOS-BROADS1-CHECKED_VB',\n",
       "       'BS1__TC__1-OK-T_cells_aTreg-860-NYC-BROADS1-CHECKED_VB',\n",
       "       'BS1__TC__1-OK-T_cells_nonT-580-BOS-BROADS1-CHECKED_VB',\n",
       "       'BS1__TC__1-OK-T_cells_nonT-580-NYC-BROADS1-CHECKED_VB',\n",
       "       'BS1__TC__1-OK-T_cells_nonT-860-BOS-BROADS1-CHECKED_VB',\n",
       "       'BS1__TC__1-OK-T_cells_nonT-860-NYC-BROADS1-CHECKED_VB',\n",
       "       'BS1__TC__1-OK-T_cells_rTreg-580-BOS-BROADS1-CHECKED_VB',\n",
       "       'BS1__TC__1-OK-T_cells_rTreg-580-NYC-BROADS1-CHECKED_VB',\n",
       "       'BS1__TC__1-OK-T_cells_rTreg-860-BOS-BROADS1-CHECKED_VB',\n",
       "       'BS1__TC__1-OK-T_cells_rTreg-860-NYC-BROADS1-CHECKED_VB',\n",
       "       'row_desc'], dtype=object)"
      ]
     },
     "execution_count": 26,
     "metadata": {},
     "output_type": "execute_result"
    }
   ],
   "source": [
    "np.unique(klase)"
   ]
  },
  {
   "cell_type": "markdown",
   "id": "b6a1259d",
   "metadata": {},
   "source": [
    "B_cells_Bmemory - 1\n",
    "B_cells_Bnaive - 1\n",
    "DC_cells_ALL - 2\n",
    "Monocytes_CD14+M - 3\n",
    "Monocytes_CD16+M - 3\n",
    "NK_cells_ALL - 4\n",
    "T_cells_NonClassicalT -5\n",
    "T_cells_T4eff.mem - 5\n",
    "T_cells_T4naive - 5\n",
    "T_cells_T8eff.mem - 5\n",
    "T_cells_T4naive - 5\n",
    "T_cells_aTreg - 5\n",
    "T_cells_nonT - 5\n",
    "T_cells_rTreg - 5\n",
    "row_desc - 6"
   ]
  },
  {
   "cell_type": "code",
   "execution_count": 32,
   "id": "3d582438",
   "metadata": {},
   "outputs": [],
   "source": [
    "data.drop(columns=[0,16,17,18,19,20],axis=0,inplace=True)"
   ]
  },
  {
   "cell_type": "code",
   "execution_count": 33,
   "id": "7e49147c",
   "metadata": {},
   "outputs": [],
   "source": [
    "data.drop(index=0,inplace=True)"
   ]
  },
  {
   "cell_type": "code",
   "execution_count": 34,
   "id": "998d24a9",
   "metadata": {},
   "outputs": [
    {
     "data": {
      "text/html": [
       "<div>\n",
       "<style scoped>\n",
       "    .dataframe tbody tr th:only-of-type {\n",
       "        vertical-align: middle;\n",
       "    }\n",
       "\n",
       "    .dataframe tbody tr th {\n",
       "        vertical-align: top;\n",
       "    }\n",
       "\n",
       "    .dataframe thead th {\n",
       "        text-align: right;\n",
       "    }\n",
       "</style>\n",
       "<table border=\"1\" class=\"dataframe\">\n",
       "  <thead>\n",
       "    <tr style=\"text-align: right;\">\n",
       "      <th></th>\n",
       "      <th>1</th>\n",
       "      <th>2</th>\n",
       "      <th>3</th>\n",
       "      <th>4</th>\n",
       "      <th>5</th>\n",
       "      <th>6</th>\n",
       "      <th>7</th>\n",
       "      <th>8</th>\n",
       "      <th>9</th>\n",
       "      <th>10</th>\n",
       "      <th>11</th>\n",
       "      <th>12</th>\n",
       "      <th>13</th>\n",
       "      <th>14</th>\n",
       "      <th>15</th>\n",
       "    </tr>\n",
       "  </thead>\n",
       "  <tbody>\n",
       "    <tr>\n",
       "      <th>1</th>\n",
       "      <td>0</td>\n",
       "      <td>0</td>\n",
       "      <td>3</td>\n",
       "      <td>0</td>\n",
       "      <td>0</td>\n",
       "      <td>0</td>\n",
       "      <td>0</td>\n",
       "      <td>7</td>\n",
       "      <td>7</td>\n",
       "      <td>0</td>\n",
       "      <td>0</td>\n",
       "      <td>0</td>\n",
       "      <td>0</td>\n",
       "      <td>0</td>\n",
       "      <td>4</td>\n",
       "    </tr>\n",
       "    <tr>\n",
       "      <th>2</th>\n",
       "      <td>0</td>\n",
       "      <td>3</td>\n",
       "      <td>3</td>\n",
       "      <td>0</td>\n",
       "      <td>0</td>\n",
       "      <td>0</td>\n",
       "      <td>0</td>\n",
       "      <td>6</td>\n",
       "      <td>7</td>\n",
       "      <td>0</td>\n",
       "      <td>0</td>\n",
       "      <td>0</td>\n",
       "      <td>0</td>\n",
       "      <td>0</td>\n",
       "      <td>4</td>\n",
       "    </tr>\n",
       "    <tr>\n",
       "      <th>3</th>\n",
       "      <td>3</td>\n",
       "      <td>0</td>\n",
       "      <td>3</td>\n",
       "      <td>4</td>\n",
       "      <td>0</td>\n",
       "      <td>0</td>\n",
       "      <td>0</td>\n",
       "      <td>5</td>\n",
       "      <td>7</td>\n",
       "      <td>0</td>\n",
       "      <td>3</td>\n",
       "      <td>0</td>\n",
       "      <td>0</td>\n",
       "      <td>0</td>\n",
       "      <td>2</td>\n",
       "    </tr>\n",
       "    <tr>\n",
       "      <th>4</th>\n",
       "      <td>0</td>\n",
       "      <td>3</td>\n",
       "      <td>0</td>\n",
       "      <td>0</td>\n",
       "      <td>0</td>\n",
       "      <td>0</td>\n",
       "      <td>0</td>\n",
       "      <td>7</td>\n",
       "      <td>7</td>\n",
       "      <td>0</td>\n",
       "      <td>0</td>\n",
       "      <td>0</td>\n",
       "      <td>0</td>\n",
       "      <td>0</td>\n",
       "      <td>4</td>\n",
       "    </tr>\n",
       "    <tr>\n",
       "      <th>5</th>\n",
       "      <td>0</td>\n",
       "      <td>3</td>\n",
       "      <td>4</td>\n",
       "      <td>0</td>\n",
       "      <td>3</td>\n",
       "      <td>0</td>\n",
       "      <td>0</td>\n",
       "      <td>7</td>\n",
       "      <td>7</td>\n",
       "      <td>0</td>\n",
       "      <td>0</td>\n",
       "      <td>0</td>\n",
       "      <td>0</td>\n",
       "      <td>0</td>\n",
       "      <td>5</td>\n",
       "    </tr>\n",
       "    <tr>\n",
       "      <th>...</th>\n",
       "      <td>...</td>\n",
       "      <td>...</td>\n",
       "      <td>...</td>\n",
       "      <td>...</td>\n",
       "      <td>...</td>\n",
       "      <td>...</td>\n",
       "      <td>...</td>\n",
       "      <td>...</td>\n",
       "      <td>...</td>\n",
       "      <td>...</td>\n",
       "      <td>...</td>\n",
       "      <td>...</td>\n",
       "      <td>...</td>\n",
       "      <td>...</td>\n",
       "      <td>...</td>\n",
       "    </tr>\n",
       "    <tr>\n",
       "      <th>13179</th>\n",
       "      <td>3</td>\n",
       "      <td>3</td>\n",
       "      <td>5</td>\n",
       "      <td>4</td>\n",
       "      <td>0</td>\n",
       "      <td>0</td>\n",
       "      <td>0</td>\n",
       "      <td>0</td>\n",
       "      <td>7</td>\n",
       "      <td>0</td>\n",
       "      <td>4</td>\n",
       "      <td>0</td>\n",
       "      <td>0</td>\n",
       "      <td>0</td>\n",
       "      <td>0</td>\n",
       "    </tr>\n",
       "    <tr>\n",
       "      <th>13180</th>\n",
       "      <td>3</td>\n",
       "      <td>0</td>\n",
       "      <td>5</td>\n",
       "      <td>4</td>\n",
       "      <td>0</td>\n",
       "      <td>0</td>\n",
       "      <td>0</td>\n",
       "      <td>3</td>\n",
       "      <td>7</td>\n",
       "      <td>0</td>\n",
       "      <td>4</td>\n",
       "      <td>0</td>\n",
       "      <td>0</td>\n",
       "      <td>3</td>\n",
       "      <td>3</td>\n",
       "    </tr>\n",
       "    <tr>\n",
       "      <th>13181</th>\n",
       "      <td>3</td>\n",
       "      <td>0</td>\n",
       "      <td>5</td>\n",
       "      <td>3</td>\n",
       "      <td>0</td>\n",
       "      <td>0</td>\n",
       "      <td>0</td>\n",
       "      <td>3</td>\n",
       "      <td>7</td>\n",
       "      <td>0</td>\n",
       "      <td>4</td>\n",
       "      <td>0</td>\n",
       "      <td>3</td>\n",
       "      <td>3</td>\n",
       "      <td>0</td>\n",
       "    </tr>\n",
       "    <tr>\n",
       "      <th>13182</th>\n",
       "      <td>3</td>\n",
       "      <td>0</td>\n",
       "      <td>5</td>\n",
       "      <td>4</td>\n",
       "      <td>0</td>\n",
       "      <td>0</td>\n",
       "      <td>0</td>\n",
       "      <td>0</td>\n",
       "      <td>7</td>\n",
       "      <td>0</td>\n",
       "      <td>4</td>\n",
       "      <td>0</td>\n",
       "      <td>3</td>\n",
       "      <td>0</td>\n",
       "      <td>0</td>\n",
       "    </tr>\n",
       "    <tr>\n",
       "      <th>13183</th>\n",
       "      <td>4</td>\n",
       "      <td>3</td>\n",
       "      <td>6</td>\n",
       "      <td>3</td>\n",
       "      <td>0</td>\n",
       "      <td>0</td>\n",
       "      <td>0</td>\n",
       "      <td>0</td>\n",
       "      <td>7</td>\n",
       "      <td>0</td>\n",
       "      <td>3</td>\n",
       "      <td>0</td>\n",
       "      <td>0</td>\n",
       "      <td>3</td>\n",
       "      <td>0</td>\n",
       "    </tr>\n",
       "  </tbody>\n",
       "</table>\n",
       "<p>13183 rows × 15 columns</p>\n",
       "</div>"
      ],
      "text/plain": [
       "      1  2  3  4  5  6  7  8  9  10 11 12 13 14 15\n",
       "1      0  0  3  0  0  0  0  7  7  0  0  0  0  0  4\n",
       "2      0  3  3  0  0  0  0  6  7  0  0  0  0  0  4\n",
       "3      3  0  3  4  0  0  0  5  7  0  3  0  0  0  2\n",
       "4      0  3  0  0  0  0  0  7  7  0  0  0  0  0  4\n",
       "5      0  3  4  0  3  0  0  7  7  0  0  0  0  0  5\n",
       "...   .. .. .. .. .. .. .. .. .. .. .. .. .. .. ..\n",
       "13179  3  3  5  4  0  0  0  0  7  0  4  0  0  0  0\n",
       "13180  3  0  5  4  0  0  0  3  7  0  4  0  0  3  3\n",
       "13181  3  0  5  3  0  0  0  3  7  0  4  0  3  3  0\n",
       "13182  3  0  5  4  0  0  0  0  7  0  4  0  3  0  0\n",
       "13183  4  3  6  3  0  0  0  0  7  0  3  0  0  3  0\n",
       "\n",
       "[13183 rows x 15 columns]"
      ]
     },
     "execution_count": 34,
     "metadata": {},
     "output_type": "execute_result"
    }
   ],
   "source": [
    "data"
   ]
  },
  {
   "cell_type": "code",
   "execution_count": 35,
   "id": "9c55f244",
   "metadata": {},
   "outputs": [],
   "source": [
    "X_1_graph = kneighbors_graph(\n",
    "    data, \n",
    "    n_neighbors=150, \n",
    "    mode='distance', \n",
    "    metric='cosine',\n",
    "    n_jobs=-1\n",
    ")\n",
    "\n",
    "X_1_graph_map = kneighbors_graph(\n",
    "    data, \n",
    "    n_neighbors=150, \n",
    "    mode='connectivity', \n",
    "    metric='cosine',\n",
    "    n_jobs=-1\n",
    ")"
   ]
  },
  {
   "cell_type": "code",
   "execution_count": 36,
   "id": "1fe2788a",
   "metadata": {},
   "outputs": [
    {
     "data": {
      "text/plain": [
       "<13183x13183 sparse matrix of type '<class 'numpy.float64'>'\n",
       "\twith 1977450 stored elements in Compressed Sparse Row format>"
      ]
     },
     "execution_count": 36,
     "metadata": {},
     "output_type": "execute_result"
    }
   ],
   "source": [
    "X_1_graph"
   ]
  },
  {
   "cell_type": "code",
   "execution_count": 41,
   "id": "fb473283",
   "metadata": {},
   "outputs": [],
   "source": [
    "X_1_graph_arr = X_1_graph.toarray()"
   ]
  },
  {
   "cell_type": "code",
   "execution_count": 38,
   "id": "0b0742b6",
   "metadata": {},
   "outputs": [
    {
     "data": {
      "text/plain": [
       "<13183x13183 sparse matrix of type '<class 'numpy.float64'>'\n",
       "\twith 1977450 stored elements in Compressed Sparse Row format>"
      ]
     },
     "execution_count": 38,
     "metadata": {},
     "output_type": "execute_result"
    }
   ],
   "source": [
    "X_1_graph_map"
   ]
  },
  {
   "cell_type": "code",
   "execution_count": 39,
   "id": "8500d3fc",
   "metadata": {},
   "outputs": [],
   "source": [
    "X_1_graph_map_arr = X_1_graph_map.toarray()"
   ]
  },
  {
   "cell_type": "code",
   "execution_count": 42,
   "id": "f7a81170",
   "metadata": {},
   "outputs": [],
   "source": [
    "X_1_graph_full = X_1_graph_arr\n",
    "X_1_graph_full = 1.0 / (1.0 + X_1_graph_arr)"
   ]
  },
  {
   "cell_type": "code",
   "execution_count": 43,
   "id": "7395fd37",
   "metadata": {},
   "outputs": [],
   "source": [
    "X_1_graph_full[X_1_graph_map_arr == 0] = 0"
   ]
  },
  {
   "cell_type": "code",
   "execution_count": 45,
   "id": "cb435089",
   "metadata": {},
   "outputs": [
    {
     "name": "stderr",
     "output_type": "stream",
     "text": [
      "C:\\Users\\KORISNIK\\AppData\\Local\\Programs\\Python\\Python310\\lib\\site-packages\\sklearn\\manifold\\_spectral_embedding.py:234: UserWarning: Array is not symmetric, and will be converted to symmetric by average with its transpose.\n",
      "  adjacency = check_symmetric(adjacency)\n"
     ]
    },
    {
     "data": {
      "text/plain": [
       "SpectralClustering(affinity='precomputed', n_clusters=5, n_components=2)"
      ]
     },
     "execution_count": 45,
     "metadata": {},
     "output_type": "execute_result"
    }
   ],
   "source": [
    "sc = SpectralClustering(\n",
    "    n_clusters=5, \n",
    "    affinity='precomputed', \n",
    "    n_components=2\n",
    ")\n",
    "sc.fit(X_1_graph_full)"
   ]
  },
  {
   "cell_type": "code",
   "execution_count": 46,
   "id": "42a69db7",
   "metadata": {},
   "outputs": [],
   "source": [
    "pca = PCA()\n",
    "pca.fit(data)\n",
    "X_pca = pca.transform(data)"
   ]
  },
  {
   "cell_type": "code",
   "execution_count": 60,
   "id": "4c03eb1e",
   "metadata": {},
   "outputs": [
    {
     "data": {
      "text/plain": [
       "<matplotlib.collections.PathCollection at 0x22d8706b5b0>"
      ]
     },
     "execution_count": 60,
     "metadata": {},
     "output_type": "execute_result"
    },
    {
     "data": {
      "image/png": "[encoded data removed]",
      "text/plain": [
       "<Figure size 432x288 with 1 Axes>"
      ]
     },
     "metadata": {
      "needs_background": "light"
     },
     "output_type": "display_data"
    }
   ],
   "source": [
    "plt.scatter(X_pca[:, 0], X_pca[:, 1], c=sc.labels_)"
   ]
  },
  {
   "cell_type": "code",
   "execution_count": 61,
   "id": "c5c0a419",
   "metadata": {},
   "outputs": [
    {
     "data": {
      "text/plain": [
       "0.343547164713615"
      ]
     },
     "execution_count": 61,
     "metadata": {},
     "output_type": "execute_result"
    }
   ],
   "source": [
    "silhouette_score(data, labels=sc.labels_, metric='cosine')"
   ]
  },
  {
   "cell_type": "code",
   "execution_count": 63,
   "id": "55bfba06",
   "metadata": {},
   "outputs": [],
   "source": [
    "ac = AgglomerativeClustering(\n",
    "    n_clusters=15, \n",
    "    affinity='cosine', \n",
    "    linkage='average'\n",
    ")\n",
    "fitted_model = ac.fit(data)"
   ]
  },
  {
   "cell_type": "code",
   "execution_count": 65,
   "id": "d5004002",
   "metadata": {},
   "outputs": [
    {
     "data": {
      "text/plain": [
       "0.36230795385089765"
      ]
     },
     "execution_count": 65,
     "metadata": {},
     "output_type": "execute_result"
    }
   ],
   "source": [
    "silhouette_score(data, labels=ac.labels_, metric='cosine')"
   ]
  },
  {
   "cell_type": "code",
   "execution_count": 66,
   "id": "3e5316b1",
   "metadata": {},
   "outputs": [
    {
     "data": {
      "text/plain": [
       "<matplotlib.collections.PathCollection at 0x22d87080c10>"
      ]
     },
     "execution_count": 66,
     "metadata": {},
     "output_type": "execute_result"
    },
    {
     "data": {
      "image/png": "[encoded data removed]",
      "text/plain": [
       "<Figure size 432x288 with 1 Axes>"
      ]
     },
     "metadata": {
      "needs_background": "light"
     },
     "output_type": "display_data"
    }
   ],
   "source": [
    "plt.scatter(X_pca[:, 0], X_pca[:, 1], c=ac.labels_)"
   ]
  },
  {
   "cell_type": "code",
   "execution_count": null,
   "id": "0d201c1c",
   "metadata": {},
   "outputs": [],
   "source": []
  }
 ],
 "metadata": {
  "kernelspec": {
   "display_name": "Python 3 (ipykernel)",
   "language": "python",
   "name": "python3"
  },
  "language_info": {
   "codemirror_mode": {
    "name": "ipython",
    "version": 3
   },
   "file_extension": ".py",
   "mimetype": "text/x-python",
   "name": "python",
   "nbconvert_exporter": "python",
   "pygments_lexer": "ipython3",
   "version": "3.10.3"
  }
 },
 "nbformat": 4,
 "nbformat_minor": 5
}
